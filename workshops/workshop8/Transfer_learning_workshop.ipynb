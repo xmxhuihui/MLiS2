{
  "nbformat": 4,
  "nbformat_minor": 0,
  "metadata": {
    "colab": {
      "name": "Transfer learning workshop.ipynb",
      "provenance": [],
      "collapsed_sections": []
    },
    "kernelspec": {
      "name": "python3",
      "display_name": "Python 3"
    },
    "accelerator": "GPU"
  },
  "cells": [
    {
      "cell_type": "markdown",
      "metadata": {
        "id": "Ru7Z4XtbXl6a",
        "colab_type": "text"
      },
      "source": [
        "In this workbook you will apply transfer learning to classify cats and dogs in images. "
      ]
    },
    {
      "cell_type": "markdown",
      "metadata": {
        "id": "bCGQzOLedgN2",
        "colab_type": "text"
      },
      "source": [
        "Make sure you have GPU in \n",
        "Runtime -> Change Runtime type -> Hardware -> GPU \n",
        "and restart runtime if not. First we need to mount our google drive in order to have more space for saving or datasets."
      ]
    },
    {
      "cell_type": "code",
      "metadata": {
        "id": "99aOKEJec4In",
        "colab_type": "code",
        "outputId": "bc3c8363-376a-4e16-ee9f-8844191166b7",
        "colab": {
          "base_uri": "https://localhost:8080/",
          "height": 122
        }
      },
      "source": [
        "from google.colab import drive\n",
        "drive.mount('/content/gdrive') "
      ],
      "execution_count": 0,
      "outputs": [
        {
          "output_type": "stream",
          "text": [
            "Go to this URL in a browser: https://accounts.google.com/o/oauth2/auth?client_id=947318989803-6bn6qk8qdgf4n4g3pfee6491hc0brc4i.apps.googleusercontent.com&redirect_uri=urn%3aietf%3awg%3aoauth%3a2.0%3aoob&response_type=code&scope=email%20https%3a%2f%2fwww.googleapis.com%2fauth%2fdocs.test%20https%3a%2f%2fwww.googleapis.com%2fauth%2fdrive%20https%3a%2f%2fwww.googleapis.com%2fauth%2fdrive.photos.readonly%20https%3a%2f%2fwww.googleapis.com%2fauth%2fpeopleapi.readonly\n",
            "\n",
            "Enter your authorization code:\n",
            "··········\n",
            "Mounted at /content/gdrive\n"
          ],
          "name": "stdout"
        }
      ]
    },
    {
      "cell_type": "code",
      "metadata": {
        "id": "yKYIECnWd0NU",
        "colab_type": "code",
        "outputId": "8927fed2-85f9-462a-f198-2b6259764232",
        "colab": {
          "base_uri": "https://localhost:8080/",
          "height": 34
        }
      },
      "source": [
        "#move into your google drive folder\n",
        "%cd  /content/gdrive "
      ],
      "execution_count": 0,
      "outputs": [
        {
          "output_type": "stream",
          "text": [
            "/content/gdrive\n"
          ],
          "name": "stdout"
        }
      ]
    },
    {
      "cell_type": "code",
      "metadata": {
        "id": "Csa2ms2HXhwj",
        "colab_type": "code",
        "colab": {}
      },
      "source": [
        "%tensorflow_version 2.x\n",
        "import tensorflow as tf\n",
        "%matplotlib inline\n",
        "import matplotlib.pyplot as plt\n",
        "import numpy as np\n",
        "import tensorflow_datasets as tfds\n",
        "import tensorflow_addons as tfa #extra addons \n",
        "import tensorflow_hub as hub\n",
        "import os\n",
        "import seaborn as sns\n",
        "import random\n"
      ],
      "execution_count": 0,
      "outputs": []
    },
    {
      "cell_type": "markdown",
      "metadata": {
        "id": "y_vfmct2qwDa",
        "colab_type": "text"
      },
      "source": [
        "# Getting data\n",
        "\n",
        "In this workshop we will be using the dogs vs cats dataset.\n",
        "\n",
        "The cats and dogs dataset unlike mnist is not pre-split into train/validation sets so lets do this ourselves. We will use 80% for training, 10% for validation and 10% for testing"
      ]
    },
    {
      "cell_type": "code",
      "metadata": {
        "id": "yCPoC-BBcXiq",
        "colab_type": "code",
        "colab": {}
      },
      "source": [
        "(train_ds, validation_ds, test_ds), metadata = tfds.load('cats_vs_dogs',\n",
        "split=['train[:80%]', 'train[80%:90%]', 'train[90%:]'],\n",
        "with_info=True,\n",
        "as_supervised=True)"
      ],
      "execution_count": 0,
      "outputs": []
    },
    {
      "cell_type": "markdown",
      "metadata": {
        "id": "DMrdzgShwQ_z",
        "colab_type": "text"
      },
      "source": [
        "print the metadata to see what the data contains"
      ]
    },
    {
      "cell_type": "code",
      "metadata": {
        "id": "oDXzHj3nqvVA",
        "colab_type": "code",
        "colab": {}
      },
      "source": [
        ""
      ],
      "execution_count": 0,
      "outputs": []
    },
    {
      "cell_type": "markdown",
      "metadata": {
        "id": "OmB2362XVZhl",
        "colab_type": "text"
      },
      "source": [
        "plot some examples of the images and print the label"
      ]
    },
    {
      "cell_type": "code",
      "metadata": {
        "id": "0mSyIcZttgrH",
        "colab_type": "code",
        "colab": {}
      },
      "source": [
        "dataset = train_ds.map(\n",
        "    lambda image, label: (tf.image.convert_image_dtype(image, tf.float64), label) \n",
        ").take(5\n",
        ")\n",
        "\n",
        "f, axarr = plt.subplots(1,5)\n",
        "\n",
        "i = 0\n",
        "for image, label in dataset:\n",
        "  print('image shape: ', np.shape(image));\n",
        "  tf.print('label:',label);\n",
        "  axarr[i].imshow(image);\n",
        "  axarr[i].axis('off');\n",
        "  i=i+1\n"
      ],
      "execution_count": 0,
      "outputs": []
    },
    {
      "cell_type": "markdown",
      "metadata": {
        "id": "bmkCZnusYCcQ",
        "colab_type": "text"
      },
      "source": [
        "As you can see the images take difference shapes. So first we need to read the images in with the same shape and we will also add augmentation. See: \n",
        "\n",
        "https://www.tensorflow.org/versions/r2.0/api_docs/python/tf/image   \n",
        "https://www.tensorflow.org/addons/api_docs/python/tfa/image\n",
        "\n",
        "for complete list.\n",
        "\n",
        "Let's take 5 images to start with and plot them to see what the augmentation looks like"
      ]
    },
    {
      "cell_type": "code",
      "metadata": {
        "id": "JP_eOgAoOwFq",
        "colab_type": "code",
        "colab": {}
      },
      "source": [
        "train = train_ds.map(\n",
        "    lambda image, label: (tf.image.convert_image_dtype(image, tf.float64), label) \n",
        ").cache( #cache images\n",
        ").map( # resize for input\n",
        "      lambda image, label: (tf.image.resize(image, [200,200]),label)\n",
        ").map( # random horizontal flip\n",
        "\n",
        ").map( # random translation\n",
        "\n",
        ").take(\n",
        ")"
      ],
      "execution_count": 0,
      "outputs": []
    },
    {
      "cell_type": "code",
      "metadata": {
        "id": "NQOAUJhhOZHr",
        "colab_type": "code",
        "colab": {}
      },
      "source": [
        "f, axarr = plt.subplots(1,5)\n",
        "\n",
        "i = 0\n",
        "for image, label in train:\n",
        "  # print image shape\n",
        "\n",
        "  # print image label \n",
        "\n",
        "  # plot images \n",
        "\n"
      ],
      "execution_count": 0,
      "outputs": []
    },
    {
      "cell_type": "markdown",
      "metadata": {
        "id": "SFJ-PryCdV5s",
        "colab_type": "text"
      },
      "source": [
        "Now lets get the whole datasets for train/validation/test we will take for training in batches of 24, and similarly for validation in batches of 24 and 100 for test."
      ]
    },
    {
      "cell_type": "code",
      "metadata": {
        "id": "QFcVEz10dVbj",
        "colab_type": "code",
        "colab": {}
      },
      "source": [
        "train = train_ds.map(\n",
        "    #fill in for mapping and augmentations\n",
        "\n",
        "\n",
        "\n",
        ").shuffle(100\n",
        ").batch(24\n",
        ").take(1)\n",
        "\n",
        "valid = \n",
        "\n",
        "test = "
      ],
      "execution_count": 0,
      "outputs": []
    },
    {
      "cell_type": "markdown",
      "metadata": {
        "id": "rdrnU92OjsBM",
        "colab_type": "text"
      },
      "source": [
        "# Getting the model\n",
        "\n",
        "We will use a pre-trained model. We will be using MobileNetV2_1.0_224.\n",
        "\n",
        "This model is mobilenet version 2 with a depth multiplier of 1.0 trained on 224x224 images. This version has much fewer parameters than mobilenetV1. The model can be loaded as a keras layer. Lets read in the network and see what variables it contains and how many of them"
      ]
    },
    {
      "cell_type": "code",
      "metadata": {
        "id": "J5p7U3wjrrF9",
        "colab_type": "code",
        "colab": {}
      },
      "source": [
        "mbnet = tf.keras.applications.MobileNetV2(include_top=False, weights=None) #read in network without top layer or weights\n",
        "\n",
        "nvar =  #get number of trainable variables\n",
        "print('number of variables: ', nvar)\n",
        "for i in np.arange(nvar): \n",
        "  print(mbnet.trainable_variables[i].name) #variables name name\n",
        "  print(mbnet.trainable_variables[i].shape) #kernel shape"
      ],
      "execution_count": 0,
      "outputs": []
    },
    {
      "cell_type": "code",
      "metadata": {
        "id": "fSZ4VNsCYThs",
        "colab_type": "code",
        "colab": {}
      },
      "source": [
        "tf.keras.backend.clear_session() #Clear keras session"
      ],
      "execution_count": 0,
      "outputs": []
    },
    {
      "cell_type": "markdown",
      "metadata": {
        "id": "AOUtHklIzjW_",
        "colab_type": "text"
      },
      "source": [
        "# Training from scratch\n",
        "\n",
        "We are going to add a dropout layer and new dense layer for the 2 classes we have (cats and dogs). Firstly I want you to try and fit the network without transfer learning. Lets use a dropout rate of 0.2"
      ]
    },
    {
      "cell_type": "code",
      "metadata": {
        "id": "DgOB3gYkBFef",
        "colab_type": "code",
        "colab": {}
      },
      "source": [
        "dropoutrate = \n",
        "num_classes = \n",
        "input_shape = \n",
        "\n",
        "mbnet = tf.keras.applications.MobileNetV2(input_shape=, include_top=, weights=) \n",
        "\n",
        "model = tf.keras.Sequential([\n",
        "  mbnet,\n",
        "  tf.keras.layers.GlobalAveragePooling2D(),\n",
        "  tf.keras.layers.Dropout(dropoutrate),\n",
        "  tf.keras.layers.Dense(num_classes, activation='softmax') \n",
        "])\n",
        "model.build()\n",
        "\n",
        "model.summary() # print the model"
      ],
      "execution_count": 0,
      "outputs": []
    },
    {
      "cell_type": "code",
      "metadata": {
        "id": "0oFODrI6E2-U",
        "colab_type": "code",
        "colab": {}
      },
      "source": [
        "with tf.GradientTape() as tape:\n",
        "  tape.reset() #this resets the gradient tape"
      ],
      "execution_count": 0,
      "outputs": []
    },
    {
      "cell_type": "code",
      "metadata": {
        "id": "JorhV0GpDwrV",
        "colab_type": "code",
        "colab": {}
      },
      "source": [
        "LR = 0.001 #learning rate\n",
        "optimizer = tf.optimizers.Adam(LR) #adam optimiser\n",
        "\n",
        "def train_step( model, X , Y):\n",
        "    with tf.GradientTape() as tape:\n",
        "        pred = model( X )\n",
        "        current_loss = tf.reduce_mean(tf.losses.categorical_crossentropy( Y,  pred))\n",
        "    grads = tape.gradient(current_loss, model.trainable_variables) \n",
        "    optimizer.apply_gradients( zip( grads , model.trainable_variables) ) #update gradients of all layers\n",
        "    current_accuracy = tf.reduce_mean(tf.metrics.categorical_accuracy(Y, pred))\n",
        "    return(current_loss, current_accuracy)"
      ],
      "execution_count": 0,
      "outputs": []
    },
    {
      "cell_type": "code",
      "metadata": {
        "id": "gBXR6L_KE4cn",
        "colab_type": "code",
        "outputId": "d5060f2b-bba7-4e4d-bd93-d37524d9d361",
        "colab": {
          "base_uri": "https://localhost:8080/",
          "height": 1000
        }
      },
      "source": [
        "niter = 1000\n",
        "\n",
        "tloss = []\n",
        "tacc = []\n",
        "vloss = []\n",
        "vacc = []\n",
        "\n",
        "for it in range(niter):\n",
        "    for image, label in train:\n",
        "        loss, acc = train_step( model , image , tf.one_hot(label, depth=2) ) #run training\n",
        "\n",
        "    if it % 10 is 0: #log training metrics\n",
        "      tf.print('iter: ',it, ', loss: {:.3f}, acc: {:.3f}'.format(loss, acc))\n",
        "      tloss.append(loss)\n",
        "      tacc.append(acc)\n",
        "\n",
        "    if it % 50 is 0: #log validation metrics\n",
        "      for val_image, val_label in valid:\n",
        "        val_pred = model(val_image)\n",
        "        val_loss = tf.reduce_mean(tf.losses.categorical_crossentropy(tf.one_hot(val_label, depth=2), val_pred))\n",
        "        val_acc = tf.reduce_mean(tf.metrics.categorical_accuracy(tf.one_hot(val_label, depth=2), val_pred))\n",
        "        tf.print('iter: ',it, ', validation loss: {:.3f}, validation acc: {:.3f}'.format(val_loss, val_acc))\n",
        "        vloss.append(val_loss)\n",
        "        vacc.append(val_acc)\n"
      ],
      "execution_count": 0,
      "outputs": [
        {
          "output_type": "stream",
          "text": [
            "iter:  0 , loss: 0.693, acc: 0.458\n",
            "iter:  0 , validation loss: 0.690, validation acc: 0.583\n",
            "iter:  10 , loss: 0.582, acc: 0.792\n",
            "iter:  20 , loss: 0.723, acc: 0.375\n",
            "iter:  30 , loss: 0.697, acc: 0.500\n",
            "iter:  40 , loss: 0.638, acc: 0.708\n",
            "iter:  50 , loss: 0.639, acc: 0.667\n",
            "iter:  50 , validation loss: 0.771, validation acc: 0.417\n",
            "iter:  60 , loss: 0.656, acc: 0.667\n",
            "iter:  70 , loss: 0.733, acc: 0.375\n",
            "iter:  80 , loss: 0.712, acc: 0.458\n",
            "iter:  90 , loss: 0.696, acc: 0.542\n",
            "iter:  100 , loss: 0.719, acc: 0.500\n",
            "iter:  100 , validation loss: 0.681, validation acc: 0.583\n",
            "iter:  110 , loss: 0.697, acc: 0.542\n",
            "iter:  120 , loss: 0.680, acc: 0.583\n",
            "iter:  130 , loss: 0.659, acc: 0.708\n",
            "iter:  140 , loss: 0.682, acc: 0.583\n",
            "iter:  150 , loss: 0.635, acc: 0.750\n",
            "iter:  150 , validation loss: 0.703, validation acc: 0.500\n",
            "iter:  160 , loss: 0.693, acc: 0.542\n",
            "iter:  170 , loss: 0.680, acc: 0.583\n",
            "iter:  180 , loss: 0.744, acc: 0.375\n",
            "iter:  190 , loss: 0.670, acc: 0.625\n",
            "iter:  200 , loss: 0.712, acc: 0.458\n",
            "iter:  200 , validation loss: 0.670, validation acc: 0.625\n",
            "iter:  210 , loss: 0.671, acc: 0.625\n",
            "iter:  220 , loss: 0.668, acc: 0.667\n",
            "iter:  230 , loss: 0.690, acc: 0.542\n",
            "iter:  240 , loss: 0.663, acc: 0.708\n",
            "iter:  250 , loss: 0.674, acc: 0.667\n",
            "iter:  250 , validation loss: 0.674, validation acc: 0.667\n",
            "iter:  260 , loss: 0.707, acc: 0.458\n",
            "iter:  270 , loss: 0.690, acc: 0.542\n",
            "iter:  280 , loss: 0.650, acc: 0.708\n",
            "iter:  290 , loss: 0.669, acc: 0.625\n",
            "iter:  300 , loss: 0.708, acc: 0.500\n",
            "iter:  300 , validation loss: 0.679, validation acc: 0.583\n",
            "iter:  310 , loss: 0.737, acc: 0.417\n",
            "iter:  320 , loss: 0.667, acc: 0.625\n",
            "iter:  330 , loss: 0.679, acc: 0.583\n",
            "iter:  340 , loss: 0.728, acc: 0.417\n",
            "iter:  350 , loss: 0.645, acc: 0.708\n",
            "iter:  350 , validation loss: 0.715, validation acc: 0.458\n",
            "iter:  360 , loss: 0.679, acc: 0.583\n",
            "iter:  370 , loss: 0.669, acc: 0.625\n",
            "iter:  380 , loss: 0.672, acc: 0.625\n",
            "iter:  390 , loss: 0.650, acc: 0.708\n",
            "iter:  400 , loss: 0.671, acc: 0.625\n",
            "iter:  400 , validation loss: 0.671, validation acc: 0.625\n",
            "iter:  410 , loss: 0.674, acc: 0.625\n",
            "iter:  420 , loss: 0.667, acc: 0.667\n",
            "iter:  430 , loss: 0.673, acc: 0.625\n",
            "iter:  440 , loss: 0.714, acc: 0.458\n",
            "iter:  450 , loss: 0.718, acc: 0.458\n",
            "iter:  450 , validation loss: 0.666, validation acc: 0.625\n",
            "iter:  460 , loss: 0.602, acc: 0.833\n",
            "iter:  470 , loss: 0.707, acc: 0.500\n",
            "iter:  480 , loss: 0.699, acc: 0.542\n",
            "iter:  490 , loss: 0.698, acc: 0.542\n",
            "iter:  500 , loss: 0.690, acc: 0.542\n",
            "iter:  500 , validation loss: 0.681, validation acc: 0.583\n",
            "iter:  510 , loss: 0.697, acc: 0.500\n",
            "iter:  520 , loss: 0.704, acc: 0.500\n",
            "iter:  530 , loss: 0.682, acc: 0.583\n",
            "iter:  540 , loss: 0.693, acc: 0.542\n",
            "iter:  550 , loss: 0.669, acc: 0.625\n",
            "iter:  550 , validation loss: 0.691, validation acc: 0.542\n",
            "iter:  560 , loss: 0.679, acc: 0.583\n",
            "iter:  570 , loss: 0.647, acc: 0.667\n",
            "iter:  580 , loss: 0.664, acc: 0.625\n",
            "iter:  590 , loss: 0.690, acc: 0.542\n",
            "iter:  600 , loss: 0.646, acc: 0.708\n",
            "iter:  600 , validation loss: 0.679, validation acc: 0.583\n",
            "iter:  610 , loss: 0.727, acc: 0.458\n",
            "iter:  620 , loss: 0.632, acc: 0.708\n",
            "iter:  630 , loss: 0.679, acc: 0.583\n",
            "iter:  640 , loss: 0.672, acc: 0.625\n",
            "iter:  650 , loss: 0.666, acc: 0.667\n",
            "iter:  650 , validation loss: 0.690, validation acc: 0.542\n",
            "iter:  660 , loss: 0.654, acc: 0.708\n",
            "iter:  670 , loss: 0.681, acc: 0.583\n",
            "iter:  680 , loss: 0.670, acc: 0.625\n",
            "iter:  690 , loss: 0.716, acc: 0.458\n",
            "iter:  700 , loss: 0.719, acc: 0.458\n",
            "iter:  700 , validation loss: 0.747, validation acc: 0.375\n",
            "iter:  710 , loss: 0.679, acc: 0.583\n",
            "iter:  720 , loss: 0.705, acc: 0.500\n",
            "iter:  730 , loss: 0.666, acc: 0.667\n",
            "iter:  740 , loss: 0.671, acc: 0.667\n",
            "iter:  750 , loss: 0.673, acc: 0.625\n",
            "iter:  750 , validation loss: 0.707, validation acc: 0.458\n",
            "iter:  760 , loss: 0.679, acc: 0.583\n",
            "iter:  770 , loss: 0.724, acc: 0.458\n",
            "iter:  780 , loss: 0.680, acc: 0.583\n",
            "iter:  790 , loss: 0.668, acc: 0.625\n",
            "iter:  800 , loss: 0.665, acc: 0.625\n",
            "iter:  800 , validation loss: 0.650, validation acc: 0.667\n",
            "iter:  810 , loss: 0.695, acc: 0.542\n",
            "iter:  820 , loss: 0.693, acc: 0.542\n",
            "iter:  830 , loss: 0.741, acc: 0.375\n",
            "iter:  840 , loss: 0.710, acc: 0.458\n",
            "iter:  850 , loss: 0.680, acc: 0.583\n",
            "iter:  850 , validation loss: 0.680, validation acc: 0.583\n",
            "iter:  860 , loss: 0.667, acc: 0.625\n",
            "iter:  870 , loss: 0.693, acc: 0.542\n",
            "iter:  880 , loss: 0.705, acc: 0.500\n",
            "iter:  890 , loss: 0.716, acc: 0.458\n",
            "iter:  900 , loss: 0.691, acc: 0.542\n",
            "iter:  900 , validation loss: 0.680, validation acc: 0.583\n",
            "iter:  910 , loss: 0.691, acc: 0.542\n",
            "iter:  920 , loss: 0.727, acc: 0.417\n",
            "iter:  930 , loss: 0.670, acc: 0.625\n",
            "iter:  940 , loss: 0.690, acc: 0.542\n",
            "iter:  950 , loss: 0.680, acc: 0.583\n",
            "iter:  950 , validation loss: 0.670, validation acc: 0.625\n",
            "iter:  960 , loss: 0.702, acc: 0.500\n",
            "iter:  970 , loss: 0.669, acc: 0.625\n",
            "iter:  980 , loss: 0.679, acc: 0.583\n",
            "iter:  990 , loss: 0.738, acc: 0.417\n"
          ],
          "name": "stdout"
        }
      ]
    },
    {
      "cell_type": "markdown",
      "metadata": {
        "id": "mSHM7mRVJNJR",
        "colab_type": "text"
      },
      "source": [
        "Now let's evaluate the results by plotting the Loss and Accuracy. The network here performs badly because we have a huge model with loads of parameters but not much data to fit it with. "
      ]
    },
    {
      "cell_type": "code",
      "metadata": {
        "id": "E472UlzfIf6i",
        "colab_type": "code",
        "colab": {}
      },
      "source": [
        "#plot training and validation loss as a function of iteration\n",
        "\n",
        "\n"
      ],
      "execution_count": 0,
      "outputs": []
    },
    {
      "cell_type": "code",
      "metadata": {
        "id": "9W9YQaUaJRry",
        "colab_type": "code",
        "colab": {}
      },
      "source": [
        "#plot training and validation accuracy as a function of iteration\n",
        "\n",
        "\n"
      ],
      "execution_count": 0,
      "outputs": []
    },
    {
      "cell_type": "markdown",
      "metadata": {
        "id": "GYgPyhu1Izm7",
        "colab_type": "text"
      },
      "source": [
        "# Transfer learning\n",
        "\n",
        "Now we will implement transfer learning from the imagenet weights."
      ]
    },
    {
      "cell_type": "code",
      "metadata": {
        "id": "HsWUUxszKx10",
        "colab_type": "code",
        "colab": {}
      },
      "source": [
        "tf.keras.backend.clear_session() #Clear keras session"
      ],
      "execution_count": 0,
      "outputs": []
    },
    {
      "cell_type": "code",
      "metadata": {
        "id": "ZbHZ5T8Hq_So",
        "colab_type": "code",
        "colab": {}
      },
      "source": [
        "dropoutrate = \n",
        "num_classes = \n",
        "input_shape = \n",
        "\n",
        "mbnet =  #We now dont want randomized weights but to load weights from imagenet\n",
        "\n",
        "model = tf.keras.Sequential([\n",
        "  mbnet,\n",
        "  tf.keras.layers.GlobalAveragePooling2D(),\n",
        "  tf.keras.layers.Dropout(dropoutrate),\n",
        "  tf.keras.layers.Dense(num_classes, activation='softmax') \n",
        "])\n",
        "model.build()\n",
        "\n",
        "mbnet.trainable = False # freeze the first layers to the imagenet weights\n",
        "\n",
        "model.summary() # print the model"
      ],
      "execution_count": 0,
      "outputs": []
    },
    {
      "cell_type": "code",
      "metadata": {
        "id": "YOEwpJS5HAKx",
        "colab_type": "code",
        "colab": {}
      },
      "source": [
        "with tf.GradientTape() as tape:\n",
        "  tape.reset() #this resets the gradient tape"
      ],
      "execution_count": 0,
      "outputs": []
    },
    {
      "cell_type": "code",
      "metadata": {
        "id": "PJKjem9e2l_H",
        "colab_type": "code",
        "colab": {}
      },
      "source": [
        "LR = 0.001 #learning rate\n",
        "optimizer = tf.optimizers.Adam(LR) #adam optimiser\n",
        "\n",
        "def train_step( model, X , Y):\n",
        "    with tf.GradientTape() as tape:\n",
        "        pred = model( X )\n",
        "        current_loss = tf.reduce_mean(tf.losses.categorical_crossentropy( Y,  pred))\n",
        "    grads = tape.gradient(current_loss, model.trainable_variables)\n",
        "    optimizer.apply_gradients( zip( grads , model.trainable_variables) )\n",
        "    current_accuracy = tf.reduce_mean(tf.metrics.categorical_accuracy(Y, pred))\n",
        "    return(current_loss, current_accuracy)"
      ],
      "execution_count": 0,
      "outputs": []
    },
    {
      "cell_type": "code",
      "metadata": {
        "id": "Plx4gVDR2sTM",
        "colab_type": "code",
        "outputId": "c16af7bd-2720-461d-d2f5-c28984099739",
        "colab": {
          "base_uri": "https://localhost:8080/",
          "height": 1000
        }
      },
      "source": [
        "niter = 1000\n",
        "\n",
        "tloss = []\n",
        "tacc = []\n",
        "vloss = []\n",
        "vacc = []\n",
        "\n",
        "for it in range(niter):\n",
        "    for image, label in train:\n",
        "        loss, acc = train_step( model , image , tf.one_hot(label,depth=2) ) #run training\n",
        "\n",
        "    if it % 10 is 0: #log training metrics\n",
        "      tf.print('iter: ',it, ', loss: {:.3f}, acc: {:.3f}'.format(loss, acc))\n",
        "      tloss.append(loss)\n",
        "      tacc.append(acc)\n",
        "\n",
        "    if it % 50 is 0: #log validation metrics\n",
        "      for val_image, val_label in valid:\n",
        "        val_pred = model(val_image)\n",
        "        val_loss = tf.reduce_mean(tf.losses.categorical_crossentropy(tf.one_hot(val_label,depth=2) , val_pred))\n",
        "        val_acc = tf.reduce_mean(tf.metrics.categorical_accuracy(tf.one_hot(val_label,depth=2) , val_pred))\n",
        "        tf.print('iter: ',it, ', validation loss: {:.3f}, validation acc: {:.3f}'.format(val_loss, val_acc))\n",
        "        vloss.append(val_loss)\n",
        "        vacc.append(val_acc)\n"
      ],
      "execution_count": 0,
      "outputs": [
        {
          "output_type": "stream",
          "text": [
            "iter:  0 , loss: 0.745, acc: 0.458\n",
            "iter:  0 , validation loss: 0.578, validation acc: 0.750\n",
            "iter:  10 , loss: 0.168, acc: 1.000\n",
            "iter:  20 , loss: 0.049, acc: 1.000\n",
            "iter:  30 , loss: 0.042, acc: 1.000\n",
            "iter:  40 , loss: 0.020, acc: 1.000\n",
            "iter:  50 , loss: 0.023, acc: 1.000\n",
            "iter:  50 , validation loss: 0.038, validation acc: 1.000\n",
            "iter:  60 , loss: 0.013, acc: 1.000\n",
            "iter:  70 , loss: 0.013, acc: 1.000\n",
            "iter:  80 , loss: 0.018, acc: 1.000\n",
            "iter:  90 , loss: 0.012, acc: 1.000\n",
            "iter:  100 , loss: 0.010, acc: 1.000\n",
            "iter:  100 , validation loss: 0.060, validation acc: 1.000\n",
            "iter:  110 , loss: 0.009, acc: 1.000\n",
            "iter:  120 , loss: 0.011, acc: 1.000\n",
            "iter:  130 , loss: 0.005, acc: 1.000\n",
            "iter:  140 , loss: 0.005, acc: 1.000\n",
            "iter:  150 , loss: 0.005, acc: 1.000\n",
            "iter:  150 , validation loss: 0.062, validation acc: 0.958\n",
            "iter:  160 , loss: 0.009, acc: 1.000\n",
            "iter:  170 , loss: 0.004, acc: 1.000\n",
            "iter:  180 , loss: 0.010, acc: 1.000\n",
            "iter:  190 , loss: 0.006, acc: 1.000\n",
            "iter:  200 , loss: 0.005, acc: 1.000\n",
            "iter:  200 , validation loss: 0.035, validation acc: 1.000\n",
            "iter:  210 , loss: 0.005, acc: 1.000\n",
            "iter:  220 , loss: 0.006, acc: 1.000\n",
            "iter:  230 , loss: 0.004, acc: 1.000\n",
            "iter:  240 , loss: 0.005, acc: 1.000\n",
            "iter:  250 , loss: 0.005, acc: 1.000\n",
            "iter:  250 , validation loss: 0.036, validation acc: 1.000\n",
            "iter:  260 , loss: 0.003, acc: 1.000\n",
            "iter:  270 , loss: 0.005, acc: 1.000\n",
            "iter:  280 , loss: 0.004, acc: 1.000\n",
            "iter:  290 , loss: 0.007, acc: 1.000\n",
            "iter:  300 , loss: 0.002, acc: 1.000\n",
            "iter:  300 , validation loss: 0.002, validation acc: 1.000\n",
            "iter:  310 , loss: 0.003, acc: 1.000\n",
            "iter:  320 , loss: 0.001, acc: 1.000\n",
            "iter:  330 , loss: 0.005, acc: 1.000\n",
            "iter:  340 , loss: 0.002, acc: 1.000\n",
            "iter:  350 , loss: 0.003, acc: 1.000\n",
            "iter:  350 , validation loss: 0.031, validation acc: 1.000\n",
            "iter:  360 , loss: 0.002, acc: 1.000\n",
            "iter:  370 , loss: 0.003, acc: 1.000\n",
            "iter:  380 , loss: 0.002, acc: 1.000\n",
            "iter:  390 , loss: 0.002, acc: 1.000\n",
            "iter:  400 , loss: 0.002, acc: 1.000\n",
            "iter:  400 , validation loss: 0.097, validation acc: 0.917\n",
            "iter:  410 , loss: 0.002, acc: 1.000\n",
            "iter:  420 , loss: 0.002, acc: 1.000\n",
            "iter:  430 , loss: 0.003, acc: 1.000\n",
            "iter:  440 , loss: 0.001, acc: 1.000\n",
            "iter:  450 , loss: 0.001, acc: 1.000\n",
            "iter:  450 , validation loss: 0.004, validation acc: 1.000\n",
            "iter:  460 , loss: 0.001, acc: 1.000\n",
            "iter:  470 , loss: 0.001, acc: 1.000\n",
            "iter:  480 , loss: 0.001, acc: 1.000\n",
            "iter:  490 , loss: 0.002, acc: 1.000\n",
            "iter:  500 , loss: 0.001, acc: 1.000\n",
            "iter:  500 , validation loss: 0.036, validation acc: 1.000\n",
            "iter:  510 , loss: 0.002, acc: 1.000\n",
            "iter:  520 , loss: 0.001, acc: 1.000\n",
            "iter:  530 , loss: 0.001, acc: 1.000\n",
            "iter:  540 , loss: 0.002, acc: 1.000\n",
            "iter:  550 , loss: 0.001, acc: 1.000\n",
            "iter:  550 , validation loss: 0.039, validation acc: 0.958\n",
            "iter:  560 , loss: 0.001, acc: 1.000\n",
            "iter:  570 , loss: 0.001, acc: 1.000\n",
            "iter:  580 , loss: 0.003, acc: 1.000\n",
            "iter:  590 , loss: 0.001, acc: 1.000\n",
            "iter:  600 , loss: 0.002, acc: 1.000\n",
            "iter:  600 , validation loss: 0.007, validation acc: 1.000\n",
            "iter:  610 , loss: 0.000, acc: 1.000\n",
            "iter:  620 , loss: 0.001, acc: 1.000\n",
            "iter:  630 , loss: 0.001, acc: 1.000\n",
            "iter:  640 , loss: 0.001, acc: 1.000\n",
            "iter:  650 , loss: 0.001, acc: 1.000\n",
            "iter:  650 , validation loss: 0.051, validation acc: 0.958\n",
            "iter:  660 , loss: 0.001, acc: 1.000\n",
            "iter:  670 , loss: 0.000, acc: 1.000\n",
            "iter:  680 , loss: 0.000, acc: 1.000\n",
            "iter:  690 , loss: 0.000, acc: 1.000\n",
            "iter:  700 , loss: 0.001, acc: 1.000\n",
            "iter:  700 , validation loss: 0.044, validation acc: 0.958\n",
            "iter:  710 , loss: 0.000, acc: 1.000\n",
            "iter:  720 , loss: 0.001, acc: 1.000\n",
            "iter:  730 , loss: 0.000, acc: 1.000\n",
            "iter:  740 , loss: 0.001, acc: 1.000\n",
            "iter:  750 , loss: 0.001, acc: 1.000\n",
            "iter:  750 , validation loss: 0.104, validation acc: 0.917\n",
            "iter:  760 , loss: 0.001, acc: 1.000\n",
            "iter:  770 , loss: 0.000, acc: 1.000\n",
            "iter:  780 , loss: 0.001, acc: 1.000\n",
            "iter:  790 , loss: 0.001, acc: 1.000\n",
            "iter:  800 , loss: 0.000, acc: 1.000\n",
            "iter:  800 , validation loss: 0.013, validation acc: 1.000\n",
            "iter:  810 , loss: 0.000, acc: 1.000\n",
            "iter:  820 , loss: 0.000, acc: 1.000\n",
            "iter:  830 , loss: 0.001, acc: 1.000\n",
            "iter:  840 , loss: 0.001, acc: 1.000\n",
            "iter:  850 , loss: 0.000, acc: 1.000\n",
            "iter:  850 , validation loss: 0.039, validation acc: 1.000\n",
            "iter:  860 , loss: 0.001, acc: 1.000\n",
            "iter:  870 , loss: 0.001, acc: 1.000\n",
            "iter:  880 , loss: 0.000, acc: 1.000\n",
            "iter:  890 , loss: 0.000, acc: 1.000\n",
            "iter:  900 , loss: 0.000, acc: 1.000\n",
            "iter:  900 , validation loss: 0.027, validation acc: 1.000\n",
            "iter:  910 , loss: 0.000, acc: 1.000\n",
            "iter:  920 , loss: 0.000, acc: 1.000\n",
            "iter:  930 , loss: 0.000, acc: 1.000\n",
            "iter:  940 , loss: 0.001, acc: 1.000\n",
            "iter:  950 , loss: 0.001, acc: 1.000\n",
            "iter:  950 , validation loss: 0.042, validation acc: 1.000\n",
            "iter:  960 , loss: 0.000, acc: 1.000\n",
            "iter:  970 , loss: 0.001, acc: 1.000\n",
            "iter:  980 , loss: 0.000, acc: 1.000\n",
            "iter:  990 , loss: 0.000, acc: 1.000\n"
          ],
          "name": "stdout"
        }
      ]
    },
    {
      "cell_type": "markdown",
      "metadata": {
        "id": "xZ8S-XzGK3Ud",
        "colab_type": "text"
      },
      "source": [
        "Plot the metrics. Notice how much better we perform with adding the trained weights. "
      ]
    },
    {
      "cell_type": "code",
      "metadata": {
        "id": "b7X08EMHG4mM",
        "colab_type": "code",
        "colab": {}
      },
      "source": [
        "# plot training and validation loss as a function of iteration \n",
        "\n",
        "\n",
        "\n",
        "\n"
      ],
      "execution_count": 0,
      "outputs": []
    },
    {
      "cell_type": "code",
      "metadata": {
        "id": "xx9iafOoLYV9",
        "colab_type": "code",
        "colab": {}
      },
      "source": [
        "#plot training and validation accuracy as a function of iteration\n",
        "\n",
        "\n"
      ],
      "execution_count": 0,
      "outputs": []
    },
    {
      "cell_type": "markdown",
      "metadata": {
        "id": "qZeVWc9IQ6in",
        "colab_type": "text"
      },
      "source": [
        "# Save weights\n",
        "\n",
        "Lets save the trained weights into hdf5 format"
      ]
    },
    {
      "cell_type": "code",
      "metadata": {
        "id": "6liqAaZZMJ8o",
        "colab_type": "code",
        "colab": {}
      },
      "source": [
        "model.save_weights('/content/gdrive/My Drive/Colab Notebooks/my_weights.hdf5')"
      ],
      "execution_count": 0,
      "outputs": []
    },
    {
      "cell_type": "markdown",
      "metadata": {
        "id": "TW3_npO2RAYW",
        "colab_type": "text"
      },
      "source": [
        "\n",
        "Now we clear the last keras session and make a new model where the mobilenet part is trainable. Note there are millions more trainable parameters but we can set the training rate to a low value."
      ]
    },
    {
      "cell_type": "code",
      "metadata": {
        "id": "2sujirm3Pazj",
        "colab_type": "code",
        "colab": {}
      },
      "source": [
        "tf.keras.backend.clear_session() #Clear keras session"
      ],
      "execution_count": 0,
      "outputs": []
    },
    {
      "cell_type": "markdown",
      "metadata": {
        "id": "zggVICqwRKOJ",
        "colab_type": "text"
      },
      "source": [
        "# Load weights\n",
        "\n",
        "Load previously saved weights onto new model"
      ]
    },
    {
      "cell_type": "code",
      "metadata": {
        "id": "EB42fgPTQZZx",
        "colab_type": "code",
        "colab": {}
      },
      "source": [
        "dropoutrate = \n",
        "num_classes = \n",
        "input_shape = \n",
        "\n",
        "mbnet =  #We now dont want randomized weights but to load weights from imagenet\n",
        "\n",
        "model = \n",
        "model.build()\n",
        "\n",
        "mbnet.trainable = # freeze the first layers to the imagenet weights\n",
        "\n",
        "model.summary() # print the model"
      ],
      "execution_count": 0,
      "outputs": []
    },
    {
      "cell_type": "code",
      "metadata": {
        "id": "G0WZ7Fu1QaqG",
        "colab_type": "code",
        "colab": {}
      },
      "source": [
        "model.load_weights('/content/gdrive/My Drive/Colab Notebooks/my_weights.hdf5')"
      ],
      "execution_count": 0,
      "outputs": []
    },
    {
      "cell_type": "code",
      "metadata": {
        "id": "9QSVELbXU86z",
        "colab_type": "code",
        "colab": {}
      },
      "source": [
        "#unfreeze layers \n",
        "mbnet.trainable =  # freeze the first layers to the imagenet weights\n",
        "model.summary()"
      ],
      "execution_count": 0,
      "outputs": []
    },
    {
      "cell_type": "markdown",
      "metadata": {
        "id": "qtrz1XlTRVxO",
        "colab_type": "text"
      },
      "source": [
        "# Fine tuning\n",
        "Further fine tune the model by training with a smaller learning rate"
      ]
    },
    {
      "cell_type": "code",
      "metadata": {
        "id": "AejogKKtQ0wV",
        "colab_type": "code",
        "colab": {}
      },
      "source": [
        "LR = \n",
        "optimizer = tf.optimizers.Adam(LR) #adam optimiser\n",
        "\n",
        "def train_step( model, X , Y):\n",
        "    with tf.GradientTape() as tape:\n",
        "        pred = model( X )\n",
        "        current_loss = tf.reduce_mean(tf.losses.categorical_crossentropy( Y,  pred))\n",
        "    grads = tape.gradient(current_loss, model.trainable_variables)\n",
        "    optimizer.apply_gradients( zip( grads , model.trainable_variables) )\n",
        "    current_accuracy = tf.reduce_mean(tf.metrics.categorical_accuracy(Y, pred))\n",
        "    return(current_loss, current_accuracy)"
      ],
      "execution_count": 0,
      "outputs": []
    },
    {
      "cell_type": "code",
      "metadata": {
        "id": "dlkroDbRRn8O",
        "colab_type": "code",
        "colab": {}
      },
      "source": [
        "# set up and start training\n",
        "\n",
        "\n",
        "\n"
      ],
      "execution_count": 0,
      "outputs": []
    },
    {
      "cell_type": "markdown",
      "metadata": {
        "id": "vBG2uFKyHZok",
        "colab_type": "text"
      },
      "source": [
        "# One shot learning \n",
        "\n",
        "In this section we are going to write a siamese network that takes a sentence and classifies it using one shot learning and transferred weights from Googles Universal sentence encoder (USE) from tensor hub (https://tfhub.dev/) which is a hub for pre-trained models\n"
      ]
    },
    {
      "cell_type": "code",
      "metadata": {
        "id": "uSFuQ6RxVHNV",
        "colab_type": "code",
        "outputId": "1889216c-df4e-48bb-f467-bb95047f8416",
        "colab": {
          "base_uri": "https://localhost:8080/",
          "height": 34
        }
      },
      "source": [
        "# load the pre-trained model\n",
        "module_url = \"https://tfhub.dev/google/universal-sentence-encoder-large/5\" \n",
        "USE = hub.load(module_url)\n",
        "print (\"module %s loaded\" % module_url)"
      ],
      "execution_count": 0,
      "outputs": [
        {
          "output_type": "stream",
          "text": [
            "module https://tfhub.dev/google/universal-sentence-encoder-large/5 loaded\n"
          ],
          "name": "stdout"
        }
      ]
    },
    {
      "cell_type": "markdown",
      "metadata": {
        "id": "couQjEtjWnES",
        "colab_type": "text"
      },
      "source": [
        "The USE model, encodes words, sentences and paragraphs as a 512 size embedding. "
      ]
    },
    {
      "cell_type": "code",
      "metadata": {
        "id": "yKEGKO-OJZ4R",
        "colab_type": "code",
        "outputId": "4c3e36c9-22ed-4c8e-fb26-25cbcf45a76d",
        "colab": {
          "base_uri": "https://localhost:8080/",
          "height": 241
        }
      },
      "source": [
        "word = \"Elephant\"\n",
        "sentence = \"Machine learning in science is fun.\"\n",
        "paragraph = (\n",
        "    \"Transfer learning is when we take domain knowledge and apply it to another problem. \"\n",
        "    \"Here we will encode a paragraph, there's not limit to size but larger  \"\n",
        "    \"paragraphs have more diluted embeddings.\")\n",
        "messages = [word, sentence, paragraph]\n",
        "\n",
        "\n",
        "message_embeddings = USE(messages)\n",
        "\n",
        "for i, message_embedding in enumerate(np.array(message_embeddings).tolist()):\n",
        "  print(\"Message: {}\".format(messages[i]))\n",
        "  print(\"Embedding size: {}\".format(len(message_embedding)))\n",
        "  message_embedding_snippet = \", \".join(\n",
        "      (str(x) for x in message_embedding[:3]))\n",
        "  print(\"Embedding: [{}, ...]\\n\".format(message_embedding_snippet))"
      ],
      "execution_count": 0,
      "outputs": [
        {
          "output_type": "stream",
          "text": [
            "Message: Elephant\n",
            "Embedding size: 512\n",
            "Embedding: [-0.0345856174826622, -0.0179901123046875, 0.0019805775955319405, ...]\n",
            "\n",
            "Message: Machine learning in science is fun.\n",
            "Embedding size: 512\n",
            "Embedding: [0.08318386226892471, -0.05488215386867523, 0.06341148167848587, ...]\n",
            "\n",
            "Message: Transfer learning is when we take domain knowledge and apply it to another problem. Here we will encode a paragraph, there's not limit to size but larger  paragraphs have more diluted embeddings.\n",
            "Embedding size: 512\n",
            "Embedding: [0.05429772660136223, -0.04880339279770851, -0.014501828700304031, ...]\n",
            "\n"
          ],
          "name": "stdout"
        }
      ]
    },
    {
      "cell_type": "markdown",
      "metadata": {
        "id": "PLsNULMjttQa",
        "colab_type": "text"
      },
      "source": [
        "The simplest model we can build is to apply the pre-trained model to pairs of sentences and apply the inner produce to get the similarity of the encodings. Let's make a dataset of sentences and see how the pre-trained model performs."
      ]
    },
    {
      "cell_type": "code",
      "metadata": {
        "id": "1ZqfdVJ9YezW",
        "colab_type": "code",
        "colab": {}
      },
      "source": [
        "my_sentences = [\n",
        "    # Weather \n",
        "    \"The weather is lovely today.\",\n",
        "    \"It's going to be sunny later\",\n",
        "    \"The weather forcast is nice\",\n",
        "\n",
        "    # Questions\n",
        "    \"What is your dog called?\",\n",
        "    \"What is your puppies name?\",\n",
        "\n",
        "    # Food \n",
        "    \"Apples are delicious\",\n",
        "    \"I like to eat pears\",\n",
        "    \"I love the taste of peaches\",\n",
        "     \n",
        "     # cars AI\n",
        "    \"Autonomous vehicles use machine learning algorithms.\",\n",
        "    \"Self-driving cars are AI technology.\" \n",
        "]"
      ],
      "execution_count": 0,
      "outputs": []
    },
    {
      "cell_type": "code",
      "metadata": {
        "id": "AMMrZtAXcWV8",
        "colab_type": "code",
        "outputId": "e311da9a-f657-433f-b318-8cca8d342627",
        "colab": {
          "base_uri": "https://localhost:8080/",
          "height": 569
        }
      },
      "source": [
        "features =  # apply pre-trained USE model on each sentence\n",
        "corr =  #calculate inner product of feature pairs\n",
        "\n",
        "#plot correlations\n",
        "sns.set(font_scale=1);\n",
        "g = sns.heatmap(\n",
        "  corr,\n",
        "  xticklabels=my_sentences,\n",
        "  yticklabels=my_sentences,\n",
        "  vmin=0,\n",
        "  vmax=1);\n",
        "g.set_xticklabels(my_sentences, rotation=90);"
      ],
      "execution_count": 0,
      "outputs": [
        {
          "output_type": "display_data",
          "data": {
            "image/png": "[encoded data removed]",
            "text/plain": [
              "<Figure size 432x288 with 2 Axes>"
            ]
          },
          "metadata": {
            "tags": []
          }
        }
      ]
    },
    {
      "cell_type": "markdown",
      "metadata": {
        "id": "7Lx6TwKJuVw7",
        "colab_type": "text"
      },
      "source": [
        "As you can see in the plot, where pixels values of 1 correspond to high correlation and 0 to no correlation, just taking the pre-trained model we get good correlation along the diagonal and clusters of high correlation around the groups of sentences that are related. "
      ]
    },
    {
      "cell_type": "markdown",
      "metadata": {
        "id": "MKO6r0j4XSjI",
        "colab_type": "text"
      },
      "source": [
        "Now let's code a siamese network model, as a feature extraction to see if we can improve the correlations.  First we make a dataset of pairs of sentences, and we will define a label for it of 1 if the pair is similar and 0 if they are not similar. To do this we make a training data set by randomly sampling pairs of x, and if their labels are the same (same group) then the similarity label will be 1, and otherwise the label is 0.\n",
        "\n"
      ]
    },
    {
      "cell_type": "code",
      "metadata": {
        "id": "81MJ8PldvGN6",
        "colab_type": "code",
        "colab": {}
      },
      "source": [
        "X = np.array([\"The weather is nice.\",\n",
        "     \"It's sunny.\",\n",
        "     \"Today the weather is sunny\",\n",
        "     \"Later the forecast is lovely\",\n",
        "     \n",
        "     \"What's the dog's name?\",\n",
        "     \"What do you call the dog?\",\n",
        "     \"What are the puppies called?\",\n",
        "     \n",
        "     \"Apples are delectable\",\n",
        "     \"I think oranges are yummy\", \n",
        "     \"Pears are soo good\",\n",
        "     \"Plums are delicious\",\n",
        "     \n",
        "     \"automobiles are now autonomous\",\n",
        "     \"Many cabs are becoming self-driving\",\n",
        "     \"car are intelligent\"\n",
        "])\n",
        "\n",
        "Y = np.array([1,1,1,1,2,2,2,3,3,3,3,4,4,4])"
      ],
      "execution_count": 0,
      "outputs": []
    },
    {
      "cell_type": "code",
      "metadata": {
        "id": "V8HSxcZmwG6E",
        "colab_type": "code",
        "colab": {}
      },
      "source": [
        "xloc = [random.randint(0,13) for i in range(0,59)] #our data set will consist of 60 pairs of sentences (x,y) with labels\n",
        "yloc = [random.randint(0,13) for i in range(0,59)]\n",
        "x = X[xloc]\n",
        "y = X[yloc]\n",
        "labels = np.equal(Y[xloc],Y[yloc]).astype('int')"
      ],
      "execution_count": 0,
      "outputs": []
    },
    {
      "cell_type": "code",
      "metadata": {
        "id": "6cq7tl_1wIkj",
        "colab_type": "code",
        "colab": {}
      },
      "source": [
        "#print 20 examples of extracted pairs and labels \n"
      ],
      "execution_count": 0,
      "outputs": []
    },
    {
      "cell_type": "markdown",
      "metadata": {
        "id": "9-CKYQ6uGuCV",
        "colab_type": "text"
      },
      "source": [
        "We write a siamese neural network that consists of 2 USE blocks that read in each of the pairs and applies the USE network to get the encoding. Then, we add a L1 difference layer and a sigmoid activation layer "
      ]
    },
    {
      "cell_type": "code",
      "metadata": {
        "id": "cRORRlB86Iqd",
        "colab_type": "code",
        "colab": {}
      },
      "source": [
        "tf.keras.backend.clear_session() #Clear keras session"
      ],
      "execution_count": 0,
      "outputs": []
    },
    {
      "cell_type": "code",
      "metadata": {
        "id": "dcj1zoYS6Lk6",
        "colab_type": "code",
        "colab": {}
      },
      "source": [
        "input1 = tf.keras.layers.Input(shape=[],name='input1', dtype=tf.string)\n",
        "input2 = \n",
        "\n",
        "# Parallel USE layers\n",
        "embedding_layer = hub.KerasLayer(module_url, dtype=tf.string)\n",
        "embedding1 = embedding_layer(#fill)\n",
        "embedding2 = embedding_layer(#fill)\n",
        "  \n",
        "# L1 difference between the embedding outputs from the USE layers\n",
        "L1_layer = #define function for absolute distance that takes in the outputs of the 2 embedding layers\n",
        "L1_distance = L1_layer([embedding1, embedding2])\n",
        "\n",
        "# Final fully connected layer with sigmoid so output is between 0-1\n",
        "Dense_layer =\n",
        "\n",
        "model = tf.keras.Model(inputs=, outputs=)"
      ],
      "execution_count": 0,
      "outputs": []
    },
    {
      "cell_type": "code",
      "metadata": {
        "id": "rfgXZJrX6QN7",
        "colab_type": "code",
        "colab": {}
      },
      "source": [
        "model.summary() #Note that the USE layers have no trainable parameters whereas the FC layer does. "
      ],
      "execution_count": 0,
      "outputs": []
    },
    {
      "cell_type": "markdown",
      "metadata": {
        "id": "lnHg4G5AHZoh",
        "colab_type": "text"
      },
      "source": [
        "Compile and fit the networks. "
      ]
    },
    {
      "cell_type": "code",
      "metadata": {
        "id": "wi3qwOgO6W2S",
        "colab_type": "code",
        "colab": {}
      },
      "source": [
        "# compile the model"
      ],
      "execution_count": 0,
      "outputs": []
    },
    {
      "cell_type": "code",
      "metadata": {
        "id": "H1r0sM887ORE",
        "colab_type": "code",
        "colab": {}
      },
      "source": [
        "# fit the model with batch size 5 and epochs 100.\n",
        "\n"
      ],
      "execution_count": 0,
      "outputs": []
    },
    {
      "cell_type": "markdown",
      "metadata": {
        "id": "_1w_C5_mHkod",
        "colab_type": "text"
      },
      "source": [
        "Get the similarities between sentences in my_sentences using the newly trained model."
      ]
    },
    {
      "cell_type": "code",
      "metadata": {
        "id": "E3NuMP_RAgOA",
        "colab_type": "code",
        "colab": {}
      },
      "source": [
        "features = [model.predict({'input1':np.array([ix]), 'input2':np.array([iy])})[0][0] for ix in my_sentences for iy in my_sentences]"
      ],
      "execution_count": 0,
      "outputs": []
    },
    {
      "cell_type": "markdown",
      "metadata": {
        "id": "uqdEpYhFHwsx",
        "colab_type": "text"
      },
      "source": [
        "Reshape the similarity values and plot correlation matrix"
      ]
    },
    {
      "cell_type": "code",
      "metadata": {
        "id": "QfNyVZIdA7WT",
        "colab_type": "code",
        "colab": {}
      },
      "source": [
        "corr = np.reshape(features, (10,10))"
      ],
      "execution_count": 0,
      "outputs": []
    },
    {
      "cell_type": "code",
      "metadata": {
        "id": "8EmQzD9CCA4S",
        "colab_type": "code",
        "colab": {}
      },
      "source": [
        "g = sns.heatmap(\n",
        "  corr,\n",
        "  xticklabels=my_sentences,\n",
        "  yticklabels=my_sentences,\n",
        "  vmin=0,\n",
        "  vmax=1);\n",
        "g.set_xticklabels(my_sentences, rotation=90);"
      ],
      "execution_count": 0,
      "outputs": []
    },
    {
      "cell_type": "markdown",
      "metadata": {
        "id": "XMtKLPQqFOTy",
        "colab_type": "text"
      },
      "source": [
        "As you can see, even with as small as 60 training samples, we are able to improve the correlation between related sentences even though these sentences have never been seen by the network before. Fine-tuning could help here, and using a categorical cross entropy loss would be better to split up the different sentence groups."
      ]
    }
  ]
}