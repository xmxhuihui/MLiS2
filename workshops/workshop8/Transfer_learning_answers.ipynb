{
  "nbformat": 4,
  "nbformat_minor": 0,
  "metadata": {
    "colab": {
      "name": "Transfer learning workshop.ipynb",
      "provenance": [],
      "collapsed_sections": []
    },
    "kernelspec": {
      "name": "python3",
      "display_name": "Python 3"
    },
    "accelerator": "GPU",
    "widgets": {
      "application/vnd.jupyter.widget-state+json": {
        "3e6c26617c8a47b68dd4cbd5349948ce": {
          "model_module": "@jupyter-widgets/controls",
          "model_name": "HBoxModel",
          "state": {
            "_view_name": "HBoxView",
            "_dom_classes": [],
            "_model_name": "HBoxModel",
            "_view_module": "@jupyter-widgets/controls",
            "_model_module_version": "1.5.0",
            "_view_count": null,
            "_view_module_version": "1.5.0",
            "box_style": "",
            "layout": "IPY_MODEL_0233974848d84432a9b5c832d89844b1",
            "_model_module": "@jupyter-widgets/controls",
            "children": [
              "IPY_MODEL_bc1a771943a3474885ea3e437b7984c0",
              "IPY_MODEL_86fe3aa271fe4315ace73199de2e521d"
            ]
          }
        },
        "0233974848d84432a9b5c832d89844b1": {
          "model_module": "@jupyter-widgets/base",
          "model_name": "LayoutModel",
          "state": {
            "_view_name": "LayoutView",
            "grid_template_rows": null,
            "right": null,
            "justify_content": null,
            "_view_module": "@jupyter-widgets/base",
            "overflow": null,
            "_model_module_version": "1.2.0",
            "_view_count": null,
            "flex_flow": null,
            "width": null,
            "min_width": null,
            "border": null,
            "align_items": null,
            "bottom": null,
            "_model_module": "@jupyter-widgets/base",
            "top": null,
            "grid_column": null,
            "overflow_y": null,
            "overflow_x": null,
            "grid_auto_flow": null,
            "grid_area": null,
            "grid_template_columns": null,
            "flex": null,
            "_model_name": "LayoutModel",
            "justify_items": null,
            "grid_row": null,
            "max_height": null,
            "align_content": null,
            "visibility": null,
            "align_self": null,
            "height": null,
            "min_height": null,
            "padding": null,
            "grid_auto_rows": null,
            "grid_gap": null,
            "max_width": null,
            "order": null,
            "_view_module_version": "1.2.0",
            "grid_template_areas": null,
            "object_position": null,
            "object_fit": null,
            "grid_auto_columns": null,
            "margin": null,
            "display": null,
            "left": null
          }
        },
        "bc1a771943a3474885ea3e437b7984c0": {
          "model_module": "@jupyter-widgets/controls",
          "model_name": "IntProgressModel",
          "state": {
            "_view_name": "ProgressView",
            "style": "IPY_MODEL_efe66d0e28a245219ba961c551948ba1",
            "_dom_classes": [],
            "description": "Dl Completed...",
            "_model_name": "IntProgressModel",
            "bar_style": "success",
            "max": 1,
            "_view_module": "@jupyter-widgets/controls",
            "_model_module_version": "1.5.0",
            "value": 1,
            "_view_count": null,
            "_view_module_version": "1.5.0",
            "orientation": "horizontal",
            "min": 0,
            "description_tooltip": null,
            "_model_module": "@jupyter-widgets/controls",
            "layout": "IPY_MODEL_4d6a1493dd5a4a7896865dd526d9d0e7"
          }
        },
        "86fe3aa271fe4315ace73199de2e521d": {
          "model_module": "@jupyter-widgets/controls",
          "model_name": "HTMLModel",
          "state": {
            "_view_name": "HTMLView",
            "style": "IPY_MODEL_9265551bbb6a44b3844caabb85196cda",
            "_dom_classes": [],
            "description": "",
            "_model_name": "HTMLModel",
            "placeholder": "​",
            "_view_module": "@jupyter-widgets/controls",
            "_model_module_version": "1.5.0",
            "value": "1/|/100% 1/1 [00:44&lt;00:00, 44.16s/ url]",
            "_view_count": null,
            "_view_module_version": "1.5.0",
            "description_tooltip": null,
            "_model_module": "@jupyter-widgets/controls",
            "layout": "IPY_MODEL_0c28626696884cf99561e6fa0863176b"
          }
        },
        "efe66d0e28a245219ba961c551948ba1": {
          "model_module": "@jupyter-widgets/controls",
          "model_name": "ProgressStyleModel",
          "state": {
            "_view_name": "StyleView",
            "_model_name": "ProgressStyleModel",
            "description_width": "initial",
            "_view_module": "@jupyter-widgets/base",
            "_model_module_version": "1.5.0",
            "_view_count": null,
            "_view_module_version": "1.2.0",
            "bar_color": null,
            "_model_module": "@jupyter-widgets/controls"
          }
        },
        "4d6a1493dd5a4a7896865dd526d9d0e7": {
          "model_module": "@jupyter-widgets/base",
          "model_name": "LayoutModel",
          "state": {
            "_view_name": "LayoutView",
            "grid_template_rows": null,
            "right": null,
            "justify_content": null,
            "_view_module": "@jupyter-widgets/base",
            "overflow": null,
            "_model_module_version": "1.2.0",
            "_view_count": null,
            "flex_flow": null,
            "width": null,
            "min_width": null,
            "border": null,
            "align_items": null,
            "bottom": null,
            "_model_module": "@jupyter-widgets/base",
            "top": null,
            "grid_column": null,
            "overflow_y": null,
            "overflow_x": null,
            "grid_auto_flow": null,
            "grid_area": null,
            "grid_template_columns": null,
            "flex": null,
            "_model_name": "LayoutModel",
            "justify_items": null,
            "grid_row": null,
            "max_height": null,
            "align_content": null,
            "visibility": null,
            "align_self": null,
            "height": null,
            "min_height": null,
            "padding": null,
            "grid_auto_rows": null,
            "grid_gap": null,
            "max_width": null,
            "order": null,
            "_view_module_version": "1.2.0",
            "grid_template_areas": null,
            "object_position": null,
            "object_fit": null,
            "grid_auto_columns": null,
            "margin": null,
            "display": null,
            "left": null
          }
        },
        "9265551bbb6a44b3844caabb85196cda": {
          "model_module": "@jupyter-widgets/controls",
          "model_name": "DescriptionStyleModel",
          "state": {
            "_view_name": "StyleView",
            "_model_name": "DescriptionStyleModel",
            "description_width": "",
            "_view_module": "@jupyter-widgets/base",
            "_model_module_version": "1.5.0",
            "_view_count": null,
            "_view_module_version": "1.2.0",
            "_model_module": "@jupyter-widgets/controls"
          }
        },
        "0c28626696884cf99561e6fa0863176b": {
          "model_module": "@jupyter-widgets/base",
          "model_name": "LayoutModel",
          "state": {
            "_view_name": "LayoutView",
            "grid_template_rows": null,
            "right": null,
            "justify_content": null,
            "_view_module": "@jupyter-widgets/base",
            "overflow": null,
            "_model_module_version": "1.2.0",
            "_view_count": null,
            "flex_flow": null,
            "width": null,
            "min_width": null,
            "border": null,
            "align_items": null,
            "bottom": null,
            "_model_module": "@jupyter-widgets/base",
            "top": null,
            "grid_column": null,
            "overflow_y": null,
            "overflow_x": null,
            "grid_auto_flow": null,
            "grid_area": null,
            "grid_template_columns": null,
            "flex": null,
            "_model_name": "LayoutModel",
            "justify_items": null,
            "grid_row": null,
            "max_height": null,
            "align_content": null,
            "visibility": null,
            "align_self": null,
            "height": null,
            "min_height": null,
            "padding": null,
            "grid_auto_rows": null,
            "grid_gap": null,
            "max_width": null,
            "order": null,
            "_view_module_version": "1.2.0",
            "grid_template_areas": null,
            "object_position": null,
            "object_fit": null,
            "grid_auto_columns": null,
            "margin": null,
            "display": null,
            "left": null
          }
        },
        "beade67fae0f428885eecb20e5b9b78e": {
          "model_module": "@jupyter-widgets/controls",
          "model_name": "HBoxModel",
          "state": {
            "_view_name": "HBoxView",
            "_dom_classes": [],
            "_model_name": "HBoxModel",
            "_view_module": "@jupyter-widgets/controls",
            "_model_module_version": "1.5.0",
            "_view_count": null,
            "_view_module_version": "1.5.0",
            "box_style": "",
            "layout": "IPY_MODEL_9cbb4296061f4dcfa0db659780c50d8f",
            "_model_module": "@jupyter-widgets/controls",
            "children": [
              "IPY_MODEL_b9e53b40137a4b728c1e8f86b432c801",
              "IPY_MODEL_6b9ad372943f4891a796e8cb8235ecda"
            ]
          }
        },
        "9cbb4296061f4dcfa0db659780c50d8f": {
          "model_module": "@jupyter-widgets/base",
          "model_name": "LayoutModel",
          "state": {
            "_view_name": "LayoutView",
            "grid_template_rows": null,
            "right": null,
            "justify_content": null,
            "_view_module": "@jupyter-widgets/base",
            "overflow": null,
            "_model_module_version": "1.2.0",
            "_view_count": null,
            "flex_flow": null,
            "width": null,
            "min_width": null,
            "border": null,
            "align_items": null,
            "bottom": null,
            "_model_module": "@jupyter-widgets/base",
            "top": null,
            "grid_column": null,
            "overflow_y": null,
            "overflow_x": null,
            "grid_auto_flow": null,
            "grid_area": null,
            "grid_template_columns": null,
            "flex": null,
            "_model_name": "LayoutModel",
            "justify_items": null,
            "grid_row": null,
            "max_height": null,
            "align_content": null,
            "visibility": null,
            "align_self": null,
            "height": null,
            "min_height": null,
            "padding": null,
            "grid_auto_rows": null,
            "grid_gap": null,
            "max_width": null,
            "order": null,
            "_view_module_version": "1.2.0",
            "grid_template_areas": null,
            "object_position": null,
            "object_fit": null,
            "grid_auto_columns": null,
            "margin": null,
            "display": null,
            "left": null
          }
        },
        "b9e53b40137a4b728c1e8f86b432c801": {
          "model_module": "@jupyter-widgets/controls",
          "model_name": "IntProgressModel",
          "state": {
            "_view_name": "ProgressView",
            "style": "IPY_MODEL_7125f254628146779ea63d24ab01c204",
            "_dom_classes": [],
            "description": "Dl Size...",
            "_model_name": "IntProgressModel",
            "bar_style": "success",
            "max": 1,
            "_view_module": "@jupyter-widgets/controls",
            "_model_module_version": "1.5.0",
            "value": 1,
            "_view_count": null,
            "_view_module_version": "1.5.0",
            "orientation": "horizontal",
            "min": 0,
            "description_tooltip": null,
            "_model_module": "@jupyter-widgets/controls",
            "layout": "IPY_MODEL_a2ead998ff27414eb1978710a9da950a"
          }
        },
        "6b9ad372943f4891a796e8cb8235ecda": {
          "model_module": "@jupyter-widgets/controls",
          "model_name": "HTMLModel",
          "state": {
            "_view_name": "HTMLView",
            "style": "IPY_MODEL_ec843348ff564a0795b911a5eda893b9",
            "_dom_classes": [],
            "description": "",
            "_model_name": "HTMLModel",
            "placeholder": "​",
            "_view_module": "@jupyter-widgets/controls",
            "_model_module_version": "1.5.0",
            "value": "786/|/100% 786/786 [00:44&lt;00:00, 17.81 MiB/s]",
            "_view_count": null,
            "_view_module_version": "1.5.0",
            "description_tooltip": null,
            "_model_module": "@jupyter-widgets/controls",
            "layout": "IPY_MODEL_fedcc1c9337f4742ae4a024bc90408c3"
          }
        },
        "7125f254628146779ea63d24ab01c204": {
          "model_module": "@jupyter-widgets/controls",
          "model_name": "ProgressStyleModel",
          "state": {
            "_view_name": "StyleView",
            "_model_name": "ProgressStyleModel",
            "description_width": "initial",
            "_view_module": "@jupyter-widgets/base",
            "_model_module_version": "1.5.0",
            "_view_count": null,
            "_view_module_version": "1.2.0",
            "bar_color": null,
            "_model_module": "@jupyter-widgets/controls"
          }
        },
        "a2ead998ff27414eb1978710a9da950a": {
          "model_module": "@jupyter-widgets/base",
          "model_name": "LayoutModel",
          "state": {
            "_view_name": "LayoutView",
            "grid_template_rows": null,
            "right": null,
            "justify_content": null,
            "_view_module": "@jupyter-widgets/base",
            "overflow": null,
            "_model_module_version": "1.2.0",
            "_view_count": null,
            "flex_flow": null,
            "width": null,
            "min_width": null,
            "border": null,
            "align_items": null,
            "bottom": null,
            "_model_module": "@jupyter-widgets/base",
            "top": null,
            "grid_column": null,
            "overflow_y": null,
            "overflow_x": null,
            "grid_auto_flow": null,
            "grid_area": null,
            "grid_template_columns": null,
            "flex": null,
            "_model_name": "LayoutModel",
            "justify_items": null,
            "grid_row": null,
            "max_height": null,
            "align_content": null,
            "visibility": null,
            "align_self": null,
            "height": null,
            "min_height": null,
            "padding": null,
            "grid_auto_rows": null,
            "grid_gap": null,
            "max_width": null,
            "order": null,
            "_view_module_version": "1.2.0",
            "grid_template_areas": null,
            "object_position": null,
            "object_fit": null,
            "grid_auto_columns": null,
            "margin": null,
            "display": null,
            "left": null
          }
        },
        "ec843348ff564a0795b911a5eda893b9": {
          "model_module": "@jupyter-widgets/controls",
          "model_name": "DescriptionStyleModel",
          "state": {
            "_view_name": "StyleView",
            "_model_name": "DescriptionStyleModel",
            "description_width": "",
            "_view_module": "@jupyter-widgets/base",
            "_model_module_version": "1.5.0",
            "_view_count": null,
            "_view_module_version": "1.2.0",
            "_model_module": "@jupyter-widgets/controls"
          }
        },
        "fedcc1c9337f4742ae4a024bc90408c3": {
          "model_module": "@jupyter-widgets/base",
          "model_name": "LayoutModel",
          "state": {
            "_view_name": "LayoutView",
            "grid_template_rows": null,
            "right": null,
            "justify_content": null,
            "_view_module": "@jupyter-widgets/base",
            "overflow": null,
            "_model_module_version": "1.2.0",
            "_view_count": null,
            "flex_flow": null,
            "width": null,
            "min_width": null,
            "border": null,
            "align_items": null,
            "bottom": null,
            "_model_module": "@jupyter-widgets/base",
            "top": null,
            "grid_column": null,
            "overflow_y": null,
            "overflow_x": null,
            "grid_auto_flow": null,
            "grid_area": null,
            "grid_template_columns": null,
            "flex": null,
            "_model_name": "LayoutModel",
            "justify_items": null,
            "grid_row": null,
            "max_height": null,
            "align_content": null,
            "visibility": null,
            "align_self": null,
            "height": null,
            "min_height": null,
            "padding": null,
            "grid_auto_rows": null,
            "grid_gap": null,
            "max_width": null,
            "order": null,
            "_view_module_version": "1.2.0",
            "grid_template_areas": null,
            "object_position": null,
            "object_fit": null,
            "grid_auto_columns": null,
            "margin": null,
            "display": null,
            "left": null
          }
        },
        "07ba7fd6208d48e3b566267e716c255c": {
          "model_module": "@jupyter-widgets/controls",
          "model_name": "HBoxModel",
          "state": {
            "_view_name": "HBoxView",
            "_dom_classes": [],
            "_model_name": "HBoxModel",
            "_view_module": "@jupyter-widgets/controls",
            "_model_module_version": "1.5.0",
            "_view_count": null,
            "_view_module_version": "1.5.0",
            "box_style": "",
            "layout": "IPY_MODEL_8c750baf95ec4db5b942ed3ff6fa539d",
            "_model_module": "@jupyter-widgets/controls",
            "children": [
              "IPY_MODEL_d10615a774c947f390321ac7646bbe01",
              "IPY_MODEL_ba7a546f43a54a2f924875817a1df2f5"
            ]
          }
        },
        "8c750baf95ec4db5b942ed3ff6fa539d": {
          "model_module": "@jupyter-widgets/base",
          "model_name": "LayoutModel",
          "state": {
            "_view_name": "LayoutView",
            "grid_template_rows": null,
            "right": null,
            "justify_content": null,
            "_view_module": "@jupyter-widgets/base",
            "overflow": null,
            "_model_module_version": "1.2.0",
            "_view_count": null,
            "flex_flow": null,
            "width": null,
            "min_width": null,
            "border": null,
            "align_items": null,
            "bottom": null,
            "_model_module": "@jupyter-widgets/base",
            "top": null,
            "grid_column": null,
            "overflow_y": null,
            "overflow_x": null,
            "grid_auto_flow": null,
            "grid_area": null,
            "grid_template_columns": null,
            "flex": null,
            "_model_name": "LayoutModel",
            "justify_items": null,
            "grid_row": null,
            "max_height": null,
            "align_content": null,
            "visibility": null,
            "align_self": null,
            "height": null,
            "min_height": null,
            "padding": null,
            "grid_auto_rows": null,
            "grid_gap": null,
            "max_width": null,
            "order": null,
            "_view_module_version": "1.2.0",
            "grid_template_areas": null,
            "object_position": null,
            "object_fit": null,
            "grid_auto_columns": null,
            "margin": null,
            "display": null,
            "left": null
          }
        },
        "d10615a774c947f390321ac7646bbe01": {
          "model_module": "@jupyter-widgets/controls",
          "model_name": "IntProgressModel",
          "state": {
            "_view_name": "ProgressView",
            "style": "IPY_MODEL_51bb9fad99434821a167936f469aa281",
            "_dom_classes": [],
            "description": "",
            "_model_name": "IntProgressModel",
            "bar_style": "info",
            "max": 1,
            "_view_module": "@jupyter-widgets/controls",
            "_model_module_version": "1.5.0",
            "value": 1,
            "_view_count": null,
            "_view_module_version": "1.5.0",
            "orientation": "horizontal",
            "min": 0,
            "description_tooltip": null,
            "_model_module": "@jupyter-widgets/controls",
            "layout": "IPY_MODEL_61776192562c4623b6e0e4a611ff9efc"
          }
        },
        "ba7a546f43a54a2f924875817a1df2f5": {
          "model_module": "@jupyter-widgets/controls",
          "model_name": "HTMLModel",
          "state": {
            "_view_name": "HTMLView",
            "style": "IPY_MODEL_9c9b9dacac794dee8c5c8e6ced1cabc1",
            "_dom_classes": [],
            "description": "",
            "_model_name": "HTMLModel",
            "placeholder": "​",
            "_view_module": "@jupyter-widgets/controls",
            "_model_module_version": "1.5.0",
            "value": "23251 examples [00:13, 1705.44 examples/s]",
            "_view_count": null,
            "_view_module_version": "1.5.0",
            "description_tooltip": null,
            "_model_module": "@jupyter-widgets/controls",
            "layout": "IPY_MODEL_1ab81dd281f14eaeab7b489abae968ca"
          }
        },
        "51bb9fad99434821a167936f469aa281": {
          "model_module": "@jupyter-widgets/controls",
          "model_name": "ProgressStyleModel",
          "state": {
            "_view_name": "StyleView",
            "_model_name": "ProgressStyleModel",
            "description_width": "",
            "_view_module": "@jupyter-widgets/base",
            "_model_module_version": "1.5.0",
            "_view_count": null,
            "_view_module_version": "1.2.0",
            "bar_color": null,
            "_model_module": "@jupyter-widgets/controls"
          }
        },
        "61776192562c4623b6e0e4a611ff9efc": {
          "model_module": "@jupyter-widgets/base",
          "model_name": "LayoutModel",
          "state": {
            "_view_name": "LayoutView",
            "grid_template_rows": null,
            "right": null,
            "justify_content": null,
            "_view_module": "@jupyter-widgets/base",
            "overflow": null,
            "_model_module_version": "1.2.0",
            "_view_count": null,
            "flex_flow": null,
            "width": null,
            "min_width": null,
            "border": null,
            "align_items": null,
            "bottom": null,
            "_model_module": "@jupyter-widgets/base",
            "top": null,
            "grid_column": null,
            "overflow_y": null,
            "overflow_x": null,
            "grid_auto_flow": null,
            "grid_area": null,
            "grid_template_columns": null,
            "flex": null,
            "_model_name": "LayoutModel",
            "justify_items": null,
            "grid_row": null,
            "max_height": null,
            "align_content": null,
            "visibility": null,
            "align_self": null,
            "height": null,
            "min_height": null,
            "padding": null,
            "grid_auto_rows": null,
            "grid_gap": null,
            "max_width": null,
            "order": null,
            "_view_module_version": "1.2.0",
            "grid_template_areas": null,
            "object_position": null,
            "object_fit": null,
            "grid_auto_columns": null,
            "margin": null,
            "display": null,
            "left": null
          }
        },
        "9c9b9dacac794dee8c5c8e6ced1cabc1": {
          "model_module": "@jupyter-widgets/controls",
          "model_name": "DescriptionStyleModel",
          "state": {
            "_view_name": "StyleView",
            "_model_name": "DescriptionStyleModel",
            "description_width": "",
            "_view_module": "@jupyter-widgets/base",
            "_model_module_version": "1.5.0",
            "_view_count": null,
            "_view_module_version": "1.2.0",
            "_model_module": "@jupyter-widgets/controls"
          }
        },
        "1ab81dd281f14eaeab7b489abae968ca": {
          "model_module": "@jupyter-widgets/base",
          "model_name": "LayoutModel",
          "state": {
            "_view_name": "LayoutView",
            "grid_template_rows": null,
            "right": null,
            "justify_content": null,
            "_view_module": "@jupyter-widgets/base",
            "overflow": null,
            "_model_module_version": "1.2.0",
            "_view_count": null,
            "flex_flow": null,
            "width": null,
            "min_width": null,
            "border": null,
            "align_items": null,
            "bottom": null,
            "_model_module": "@jupyter-widgets/base",
            "top": null,
            "grid_column": null,
            "overflow_y": null,
            "overflow_x": null,
            "grid_auto_flow": null,
            "grid_area": null,
            "grid_template_columns": null,
            "flex": null,
            "_model_name": "LayoutModel",
            "justify_items": null,
            "grid_row": null,
            "max_height": null,
            "align_content": null,
            "visibility": null,
            "align_self": null,
            "height": null,
            "min_height": null,
            "padding": null,
            "grid_auto_rows": null,
            "grid_gap": null,
            "max_width": null,
            "order": null,
            "_view_module_version": "1.2.0",
            "grid_template_areas": null,
            "object_position": null,
            "object_fit": null,
            "grid_auto_columns": null,
            "margin": null,
            "display": null,
            "left": null
          }
        },
        "01e7c03e2b864c22aca2ca3a1a7f305e": {
          "model_module": "@jupyter-widgets/controls",
          "model_name": "HBoxModel",
          "state": {
            "_view_name": "HBoxView",
            "_dom_classes": [],
            "_model_name": "HBoxModel",
            "_view_module": "@jupyter-widgets/controls",
            "_model_module_version": "1.5.0",
            "_view_count": null,
            "_view_module_version": "1.5.0",
            "box_style": "",
            "layout": "IPY_MODEL_8f26cfef5bde48a8b7a928a773704ad2",
            "_model_module": "@jupyter-widgets/controls",
            "children": [
              "IPY_MODEL_7856a31aed1d417d8ece9a0f459e6423",
              "IPY_MODEL_d7ea5ab461e440b0be3f7cc708712e21"
            ]
          }
        },
        "8f26cfef5bde48a8b7a928a773704ad2": {
          "model_module": "@jupyter-widgets/base",
          "model_name": "LayoutModel",
          "state": {
            "_view_name": "LayoutView",
            "grid_template_rows": null,
            "right": null,
            "justify_content": null,
            "_view_module": "@jupyter-widgets/base",
            "overflow": null,
            "_model_module_version": "1.2.0",
            "_view_count": null,
            "flex_flow": null,
            "width": null,
            "min_width": null,
            "border": null,
            "align_items": null,
            "bottom": null,
            "_model_module": "@jupyter-widgets/base",
            "top": null,
            "grid_column": null,
            "overflow_y": null,
            "overflow_x": null,
            "grid_auto_flow": null,
            "grid_area": null,
            "grid_template_columns": null,
            "flex": null,
            "_model_name": "LayoutModel",
            "justify_items": null,
            "grid_row": null,
            "max_height": null,
            "align_content": null,
            "visibility": null,
            "align_self": null,
            "height": null,
            "min_height": null,
            "padding": null,
            "grid_auto_rows": null,
            "grid_gap": null,
            "max_width": null,
            "order": null,
            "_view_module_version": "1.2.0",
            "grid_template_areas": null,
            "object_position": null,
            "object_fit": null,
            "grid_auto_columns": null,
            "margin": null,
            "display": null,
            "left": null
          }
        },
        "7856a31aed1d417d8ece9a0f459e6423": {
          "model_module": "@jupyter-widgets/controls",
          "model_name": "IntProgressModel",
          "state": {
            "_view_name": "ProgressView",
            "style": "IPY_MODEL_bf86d1493a714a21bb100f487d9aad4a",
            "_dom_classes": [],
            "description": "",
            "_model_name": "IntProgressModel",
            "bar_style": "danger",
            "max": 23262,
            "_view_module": "@jupyter-widgets/controls",
            "_model_module_version": "1.5.0",
            "value": 22902,
            "_view_count": null,
            "_view_module_version": "1.5.0",
            "orientation": "horizontal",
            "min": 0,
            "description_tooltip": null,
            "_model_module": "@jupyter-widgets/controls",
            "layout": "IPY_MODEL_ef72ce3f28db4c318eee8ab17e3ab44e"
          }
        },
        "d7ea5ab461e440b0be3f7cc708712e21": {
          "model_module": "@jupyter-widgets/controls",
          "model_name": "HTMLModel",
          "state": {
            "_view_name": "HTMLView",
            "style": "IPY_MODEL_e828008e238c491d993a10e43bcd160b",
            "_dom_classes": [],
            "description": "",
            "_model_name": "HTMLModel",
            "placeholder": "​",
            "_view_module": "@jupyter-widgets/controls",
            "_model_module_version": "1.5.0",
            "value": " 98% 22902/23262 [00:01&lt;00:00, 9263.51 examples/s]",
            "_view_count": null,
            "_view_module_version": "1.5.0",
            "description_tooltip": null,
            "_model_module": "@jupyter-widgets/controls",
            "layout": "IPY_MODEL_8d23cdfecbb8431b84caf8b6ebd3121b"
          }
        },
        "bf86d1493a714a21bb100f487d9aad4a": {
          "model_module": "@jupyter-widgets/controls",
          "model_name": "ProgressStyleModel",
          "state": {
            "_view_name": "StyleView",
            "_model_name": "ProgressStyleModel",
            "description_width": "",
            "_view_module": "@jupyter-widgets/base",
            "_model_module_version": "1.5.0",
            "_view_count": null,
            "_view_module_version": "1.2.0",
            "bar_color": null,
            "_model_module": "@jupyter-widgets/controls"
          }
        },
        "ef72ce3f28db4c318eee8ab17e3ab44e": {
          "model_module": "@jupyter-widgets/base",
          "model_name": "LayoutModel",
          "state": {
            "_view_name": "LayoutView",
            "grid_template_rows": null,
            "right": null,
            "justify_content": null,
            "_view_module": "@jupyter-widgets/base",
            "overflow": null,
            "_model_module_version": "1.2.0",
            "_view_count": null,
            "flex_flow": null,
            "width": null,
            "min_width": null,
            "border": null,
            "align_items": null,
            "bottom": null,
            "_model_module": "@jupyter-widgets/base",
            "top": null,
            "grid_column": null,
            "overflow_y": null,
            "overflow_x": null,
            "grid_auto_flow": null,
            "grid_area": null,
            "grid_template_columns": null,
            "flex": null,
            "_model_name": "LayoutModel",
            "justify_items": null,
            "grid_row": null,
            "max_height": null,
            "align_content": null,
            "visibility": null,
            "align_self": null,
            "height": null,
            "min_height": null,
            "padding": null,
            "grid_auto_rows": null,
            "grid_gap": null,
            "max_width": null,
            "order": null,
            "_view_module_version": "1.2.0",
            "grid_template_areas": null,
            "object_position": null,
            "object_fit": null,
            "grid_auto_columns": null,
            "margin": null,
            "display": null,
            "left": null
          }
        },
        "e828008e238c491d993a10e43bcd160b": {
          "model_module": "@jupyter-widgets/controls",
          "model_name": "DescriptionStyleModel",
          "state": {
            "_view_name": "StyleView",
            "_model_name": "DescriptionStyleModel",
            "description_width": "",
            "_view_module": "@jupyter-widgets/base",
            "_model_module_version": "1.5.0",
            "_view_count": null,
            "_view_module_version": "1.2.0",
            "_model_module": "@jupyter-widgets/controls"
          }
        },
        "8d23cdfecbb8431b84caf8b6ebd3121b": {
          "model_module": "@jupyter-widgets/base",
          "model_name": "LayoutModel",
          "state": {
            "_view_name": "LayoutView",
            "grid_template_rows": null,
            "right": null,
            "justify_content": null,
            "_view_module": "@jupyter-widgets/base",
            "overflow": null,
            "_model_module_version": "1.2.0",
            "_view_count": null,
            "flex_flow": null,
            "width": null,
            "min_width": null,
            "border": null,
            "align_items": null,
            "bottom": null,
            "_model_module": "@jupyter-widgets/base",
            "top": null,
            "grid_column": null,
            "overflow_y": null,
            "overflow_x": null,
            "grid_auto_flow": null,
            "grid_area": null,
            "grid_template_columns": null,
            "flex": null,
            "_model_name": "LayoutModel",
            "justify_items": null,
            "grid_row": null,
            "max_height": null,
            "align_content": null,
            "visibility": null,
            "align_self": null,
            "height": null,
            "min_height": null,
            "padding": null,
            "grid_auto_rows": null,
            "grid_gap": null,
            "max_width": null,
            "order": null,
            "_view_module_version": "1.2.0",
            "grid_template_areas": null,
            "object_position": null,
            "object_fit": null,
            "grid_auto_columns": null,
            "margin": null,
            "display": null,
            "left": null
          }
        },
        "c0a1e0eff9e342028fc466e70a27e0d1": {
          "model_module": "@jupyter-widgets/controls",
          "model_name": "HBoxModel",
          "state": {
            "_view_name": "HBoxView",
            "_dom_classes": [],
            "_model_name": "HBoxModel",
            "_view_module": "@jupyter-widgets/controls",
            "_model_module_version": "1.5.0",
            "_view_count": null,
            "_view_module_version": "1.5.0",
            "box_style": "",
            "layout": "IPY_MODEL_ca766af663f049febbcf52bdc038f197",
            "_model_module": "@jupyter-widgets/controls",
            "children": [
              "IPY_MODEL_290da38a18814f5790e9b0c1ffe90603",
              "IPY_MODEL_254ee886fc244654a933e7c6d69db4b0"
            ]
          }
        },
        "ca766af663f049febbcf52bdc038f197": {
          "model_module": "@jupyter-widgets/base",
          "model_name": "LayoutModel",
          "state": {
            "_view_name": "LayoutView",
            "grid_template_rows": null,
            "right": null,
            "justify_content": null,
            "_view_module": "@jupyter-widgets/base",
            "overflow": null,
            "_model_module_version": "1.2.0",
            "_view_count": null,
            "flex_flow": null,
            "width": null,
            "min_width": null,
            "border": null,
            "align_items": null,
            "bottom": null,
            "_model_module": "@jupyter-widgets/base",
            "top": null,
            "grid_column": null,
            "overflow_y": null,
            "overflow_x": null,
            "grid_auto_flow": null,
            "grid_area": null,
            "grid_template_columns": null,
            "flex": null,
            "_model_name": "LayoutModel",
            "justify_items": null,
            "grid_row": null,
            "max_height": null,
            "align_content": null,
            "visibility": null,
            "align_self": null,
            "height": null,
            "min_height": null,
            "padding": null,
            "grid_auto_rows": null,
            "grid_gap": null,
            "max_width": null,
            "order": null,
            "_view_module_version": "1.2.0",
            "grid_template_areas": null,
            "object_position": null,
            "object_fit": null,
            "grid_auto_columns": null,
            "margin": null,
            "display": null,
            "left": null
          }
        },
        "290da38a18814f5790e9b0c1ffe90603": {
          "model_module": "@jupyter-widgets/controls",
          "model_name": "IntProgressModel",
          "state": {
            "_view_name": "ProgressView",
            "style": "IPY_MODEL_439266f966164dd49f964a64fff64882",
            "_dom_classes": [],
            "description": "Computing statistics...",
            "_model_name": "IntProgressModel",
            "bar_style": "success",
            "max": 1,
            "_view_module": "@jupyter-widgets/controls",
            "_model_module_version": "1.5.0",
            "value": 1,
            "_view_count": null,
            "_view_module_version": "1.5.0",
            "orientation": "horizontal",
            "min": 0,
            "description_tooltip": null,
            "_model_module": "@jupyter-widgets/controls",
            "layout": "IPY_MODEL_157bd25210964470b1397161558ab405"
          }
        },
        "254ee886fc244654a933e7c6d69db4b0": {
          "model_module": "@jupyter-widgets/controls",
          "model_name": "HTMLModel",
          "state": {
            "_view_name": "HTMLView",
            "style": "IPY_MODEL_b255611b1e2646edb0c0810ebac8e8e7",
            "_dom_classes": [],
            "description": "",
            "_model_name": "HTMLModel",
            "placeholder": "​",
            "_view_module": "@jupyter-widgets/controls",
            "_model_module_version": "1.5.0",
            "value": "100% 1/1 [00:38&lt;00:00, 38.56s/ split]",
            "_view_count": null,
            "_view_module_version": "1.5.0",
            "description_tooltip": null,
            "_model_module": "@jupyter-widgets/controls",
            "layout": "IPY_MODEL_bad7ef26e5d14fcaa799243455302f07"
          }
        },
        "439266f966164dd49f964a64fff64882": {
          "model_module": "@jupyter-widgets/controls",
          "model_name": "ProgressStyleModel",
          "state": {
            "_view_name": "StyleView",
            "_model_name": "ProgressStyleModel",
            "description_width": "initial",
            "_view_module": "@jupyter-widgets/base",
            "_model_module_version": "1.5.0",
            "_view_count": null,
            "_view_module_version": "1.2.0",
            "bar_color": null,
            "_model_module": "@jupyter-widgets/controls"
          }
        },
        "157bd25210964470b1397161558ab405": {
          "model_module": "@jupyter-widgets/base",
          "model_name": "LayoutModel",
          "state": {
            "_view_name": "LayoutView",
            "grid_template_rows": null,
            "right": null,
            "justify_content": null,
            "_view_module": "@jupyter-widgets/base",
            "overflow": null,
            "_model_module_version": "1.2.0",
            "_view_count": null,
            "flex_flow": null,
            "width": null,
            "min_width": null,
            "border": null,
            "align_items": null,
            "bottom": null,
            "_model_module": "@jupyter-widgets/base",
            "top": null,
            "grid_column": null,
            "overflow_y": null,
            "overflow_x": null,
            "grid_auto_flow": null,
            "grid_area": null,
            "grid_template_columns": null,
            "flex": null,
            "_model_name": "LayoutModel",
            "justify_items": null,
            "grid_row": null,
            "max_height": null,
            "align_content": null,
            "visibility": null,
            "align_self": null,
            "height": null,
            "min_height": null,
            "padding": null,
            "grid_auto_rows": null,
            "grid_gap": null,
            "max_width": null,
            "order": null,
            "_view_module_version": "1.2.0",
            "grid_template_areas": null,
            "object_position": null,
            "object_fit": null,
            "grid_auto_columns": null,
            "margin": null,
            "display": null,
            "left": null
          }
        },
        "b255611b1e2646edb0c0810ebac8e8e7": {
          "model_module": "@jupyter-widgets/controls",
          "model_name": "DescriptionStyleModel",
          "state": {
            "_view_name": "StyleView",
            "_model_name": "DescriptionStyleModel",
            "description_width": "",
            "_view_module": "@jupyter-widgets/base",
            "_model_module_version": "1.5.0",
            "_view_count": null,
            "_view_module_version": "1.2.0",
            "_model_module": "@jupyter-widgets/controls"
          }
        },
        "bad7ef26e5d14fcaa799243455302f07": {
          "model_module": "@jupyter-widgets/base",
          "model_name": "LayoutModel",
          "state": {
            "_view_name": "LayoutView",
            "grid_template_rows": null,
            "right": null,
            "justify_content": null,
            "_view_module": "@jupyter-widgets/base",
            "overflow": null,
            "_model_module_version": "1.2.0",
            "_view_count": null,
            "flex_flow": null,
            "width": null,
            "min_width": null,
            "border": null,
            "align_items": null,
            "bottom": null,
            "_model_module": "@jupyter-widgets/base",
            "top": null,
            "grid_column": null,
            "overflow_y": null,
            "overflow_x": null,
            "grid_auto_flow": null,
            "grid_area": null,
            "grid_template_columns": null,
            "flex": null,
            "_model_name": "LayoutModel",
            "justify_items": null,
            "grid_row": null,
            "max_height": null,
            "align_content": null,
            "visibility": null,
            "align_self": null,
            "height": null,
            "min_height": null,
            "padding": null,
            "grid_auto_rows": null,
            "grid_gap": null,
            "max_width": null,
            "order": null,
            "_view_module_version": "1.2.0",
            "grid_template_areas": null,
            "object_position": null,
            "object_fit": null,
            "grid_auto_columns": null,
            "margin": null,
            "display": null,
            "left": null
          }
        },
        "6b4e0fd6529b4382ba8ee354e921d72b": {
          "model_module": "@jupyter-widgets/controls",
          "model_name": "HBoxModel",
          "state": {
            "_view_name": "HBoxView",
            "_dom_classes": [],
            "_model_name": "HBoxModel",
            "_view_module": "@jupyter-widgets/controls",
            "_model_module_version": "1.5.0",
            "_view_count": null,
            "_view_module_version": "1.5.0",
            "box_style": "",
            "layout": "IPY_MODEL_d180f254e1534690a76a0b16f23da004",
            "_model_module": "@jupyter-widgets/controls",
            "children": [
              "IPY_MODEL_bc763dd1369748248ece5f158879f2ec",
              "IPY_MODEL_b9911dd3fb6441d7aec4d538ea5c5c2b"
            ]
          }
        },
        "d180f254e1534690a76a0b16f23da004": {
          "model_module": "@jupyter-widgets/base",
          "model_name": "LayoutModel",
          "state": {
            "_view_name": "LayoutView",
            "grid_template_rows": null,
            "right": null,
            "justify_content": null,
            "_view_module": "@jupyter-widgets/base",
            "overflow": null,
            "_model_module_version": "1.2.0",
            "_view_count": null,
            "flex_flow": null,
            "width": null,
            "min_width": null,
            "border": null,
            "align_items": null,
            "bottom": null,
            "_model_module": "@jupyter-widgets/base",
            "top": null,
            "grid_column": null,
            "overflow_y": null,
            "overflow_x": null,
            "grid_auto_flow": null,
            "grid_area": null,
            "grid_template_columns": null,
            "flex": null,
            "_model_name": "LayoutModel",
            "justify_items": null,
            "grid_row": null,
            "max_height": null,
            "align_content": null,
            "visibility": null,
            "align_self": null,
            "height": null,
            "min_height": null,
            "padding": null,
            "grid_auto_rows": null,
            "grid_gap": null,
            "max_width": null,
            "order": null,
            "_view_module_version": "1.2.0",
            "grid_template_areas": null,
            "object_position": null,
            "object_fit": null,
            "grid_auto_columns": null,
            "margin": null,
            "display": null,
            "left": null
          }
        },
        "bc763dd1369748248ece5f158879f2ec": {
          "model_module": "@jupyter-widgets/controls",
          "model_name": "IntProgressModel",
          "state": {
            "_view_name": "ProgressView",
            "style": "IPY_MODEL_4f518f1097ab4d9591009ddc663c56a5",
            "_dom_classes": [],
            "description": "",
            "_model_name": "IntProgressModel",
            "bar_style": "info",
            "max": 1,
            "_view_module": "@jupyter-widgets/controls",
            "_model_module_version": "1.5.0",
            "value": 1,
            "_view_count": null,
            "_view_module_version": "1.5.0",
            "orientation": "horizontal",
            "min": 0,
            "description_tooltip": null,
            "_model_module": "@jupyter-widgets/controls",
            "layout": "IPY_MODEL_21400f7852b941ef81c08958af9d9e59"
          }
        },
        "b9911dd3fb6441d7aec4d538ea5c5c2b": {
          "model_module": "@jupyter-widgets/controls",
          "model_name": "HTMLModel",
          "state": {
            "_view_name": "HTMLView",
            "style": "IPY_MODEL_32b9ec3cf30f44b7abf0d89143e9b0a2",
            "_dom_classes": [],
            "description": "",
            "_model_name": "HTMLModel",
            "placeholder": "​",
            "_view_module": "@jupyter-widgets/controls",
            "_model_module_version": "1.5.0",
            "value": "23219 examples [00:37, 574.01 examples/s]",
            "_view_count": null,
            "_view_module_version": "1.5.0",
            "description_tooltip": null,
            "_model_module": "@jupyter-widgets/controls",
            "layout": "IPY_MODEL_fa319ae745b2480daae975938b5f9abc"
          }
        },
        "4f518f1097ab4d9591009ddc663c56a5": {
          "model_module": "@jupyter-widgets/controls",
          "model_name": "ProgressStyleModel",
          "state": {
            "_view_name": "StyleView",
            "_model_name": "ProgressStyleModel",
            "description_width": "",
            "_view_module": "@jupyter-widgets/base",
            "_model_module_version": "1.5.0",
            "_view_count": null,
            "_view_module_version": "1.2.0",
            "bar_color": null,
            "_model_module": "@jupyter-widgets/controls"
          }
        },
        "21400f7852b941ef81c08958af9d9e59": {
          "model_module": "@jupyter-widgets/base",
          "model_name": "LayoutModel",
          "state": {
            "_view_name": "LayoutView",
            "grid_template_rows": null,
            "right": null,
            "justify_content": null,
            "_view_module": "@jupyter-widgets/base",
            "overflow": null,
            "_model_module_version": "1.2.0",
            "_view_count": null,
            "flex_flow": null,
            "width": null,
            "min_width": null,
            "border": null,
            "align_items": null,
            "bottom": null,
            "_model_module": "@jupyter-widgets/base",
            "top": null,
            "grid_column": null,
            "overflow_y": null,
            "overflow_x": null,
            "grid_auto_flow": null,
            "grid_area": null,
            "grid_template_columns": null,
            "flex": null,
            "_model_name": "LayoutModel",
            "justify_items": null,
            "grid_row": null,
            "max_height": null,
            "align_content": null,
            "visibility": null,
            "align_self": null,
            "height": null,
            "min_height": null,
            "padding": null,
            "grid_auto_rows": null,
            "grid_gap": null,
            "max_width": null,
            "order": null,
            "_view_module_version": "1.2.0",
            "grid_template_areas": null,
            "object_position": null,
            "object_fit": null,
            "grid_auto_columns": null,
            "margin": null,
            "display": null,
            "left": null
          }
        },
        "32b9ec3cf30f44b7abf0d89143e9b0a2": {
          "model_module": "@jupyter-widgets/controls",
          "model_name": "DescriptionStyleModel",
          "state": {
            "_view_name": "StyleView",
            "_model_name": "DescriptionStyleModel",
            "description_width": "",
            "_view_module": "@jupyter-widgets/base",
            "_model_module_version": "1.5.0",
            "_view_count": null,
            "_view_module_version": "1.2.0",
            "_model_module": "@jupyter-widgets/controls"
          }
        },
        "fa319ae745b2480daae975938b5f9abc": {
          "model_module": "@jupyter-widgets/base",
          "model_name": "LayoutModel",
          "state": {
            "_view_name": "LayoutView",
            "grid_template_rows": null,
            "right": null,
            "justify_content": null,
            "_view_module": "@jupyter-widgets/base",
            "overflow": null,
            "_model_module_version": "1.2.0",
            "_view_count": null,
            "flex_flow": null,
            "width": null,
            "min_width": null,
            "border": null,
            "align_items": null,
            "bottom": null,
            "_model_module": "@jupyter-widgets/base",
            "top": null,
            "grid_column": null,
            "overflow_y": null,
            "overflow_x": null,
            "grid_auto_flow": null,
            "grid_area": null,
            "grid_template_columns": null,
            "flex": null,
            "_model_name": "LayoutModel",
            "justify_items": null,
            "grid_row": null,
            "max_height": null,
            "align_content": null,
            "visibility": null,
            "align_self": null,
            "height": null,
            "min_height": null,
            "padding": null,
            "grid_auto_rows": null,
            "grid_gap": null,
            "max_width": null,
            "order": null,
            "_view_module_version": "1.2.0",
            "grid_template_areas": null,
            "object_position": null,
            "object_fit": null,
            "grid_auto_columns": null,
            "margin": null,
            "display": null,
            "left": null
          }
        }
      }
    }
  },
  "cells": [
    {
      "cell_type": "markdown",
      "metadata": {
        "id": "Ru7Z4XtbXl6a",
        "colab_type": "text"
      },
      "source": [
        "In this workbook you will apply transfer learning to classify cats and dogs in images. "
      ]
    },
    {
      "cell_type": "markdown",
      "metadata": {
        "id": "bCGQzOLedgN2",
        "colab_type": "text"
      },
      "source": [
        "Make sure you have GPU in \n",
        "Runtime -> Change Runtime type -> Hardware -> GPU \n",
        "and restart runtime if not. First we need to mount our google drive in order to have more space for saving or datasets."
      ]
    },
    {
      "cell_type": "code",
      "metadata": {
        "id": "99aOKEJec4In",
        "colab_type": "code",
        "outputId": "bc3c8363-376a-4e16-ee9f-8844191166b7",
        "colab": {
          "base_uri": "https://localhost:8080/",
          "height": 122
        }
      },
      "source": [
        "from google.colab import drive\n",
        "drive.mount('/content/gdrive') "
      ],
      "execution_count": 1,
      "outputs": [
        {
          "output_type": "stream",
          "text": [
            "Go to this URL in a browser: https://accounts.google.com/o/oauth2/auth?client_id=947318989803-6bn6qk8qdgf4n4g3pfee6491hc0brc4i.apps.googleusercontent.com&redirect_uri=urn%3aietf%3awg%3aoauth%3a2.0%3aoob&response_type=code&scope=email%20https%3a%2f%2fwww.googleapis.com%2fauth%2fdocs.test%20https%3a%2f%2fwww.googleapis.com%2fauth%2fdrive%20https%3a%2f%2fwww.googleapis.com%2fauth%2fdrive.photos.readonly%20https%3a%2f%2fwww.googleapis.com%2fauth%2fpeopleapi.readonly\n",
            "\n",
            "Enter your authorization code:\n",
            "··········\n",
            "Mounted at /content/gdrive\n"
          ],
          "name": "stdout"
        }
      ]
    },
    {
      "cell_type": "code",
      "metadata": {
        "id": "yKYIECnWd0NU",
        "colab_type": "code",
        "outputId": "8927fed2-85f9-462a-f198-2b6259764232",
        "colab": {
          "base_uri": "https://localhost:8080/",
          "height": 34
        }
      },
      "source": [
        "#move into your google drive folder\n",
        "%cd  /content/gdrive "
      ],
      "execution_count": 2,
      "outputs": [
        {
          "output_type": "stream",
          "text": [
            "/content/gdrive\n"
          ],
          "name": "stdout"
        }
      ]
    },
    {
      "cell_type": "code",
      "metadata": {
        "id": "Csa2ms2HXhwj",
        "colab_type": "code",
        "colab": {}
      },
      "source": [
        "%tensorflow_version 2.x\n",
        "import tensorflow as tf\n",
        "%matplotlib inline\n",
        "import matplotlib.pyplot as plt\n",
        "import numpy as np\n",
        "import tensorflow_datasets as tfds\n",
        "import tensorflow_addons as tfa #extra addons \n",
        "import tensorflow_hub as hub\n",
        "import os\n",
        "import seaborn as sns\n",
        "import random\n"
      ],
      "execution_count": 0,
      "outputs": []
    },
    {
      "cell_type": "markdown",
      "metadata": {
        "id": "y_vfmct2qwDa",
        "colab_type": "text"
      },
      "source": [
        "# Getting data\n",
        "\n",
        "In this workshop we will be using the dogs vs cats dataset.\n",
        "\n",
        "The cats and dogs dataset unlike mnist is not pre-split into train/validation sets so lets do this ourselves. We will use 80% for training, 10% for validation and 10% for testing"
      ]
    },
    {
      "cell_type": "code",
      "metadata": {
        "id": "yCPoC-BBcXiq",
        "colab_type": "code",
        "outputId": "0aaf6e1e-2c74-43a8-d4b7-5f739f716948",
        "colab": {
          "base_uri": "https://localhost:8080/",
          "height": 335,
          "referenced_widgets": [
            "3e6c26617c8a47b68dd4cbd5349948ce",
            "0233974848d84432a9b5c832d89844b1",
            "bc1a771943a3474885ea3e437b7984c0",
            "86fe3aa271fe4315ace73199de2e521d",
            "efe66d0e28a245219ba961c551948ba1",
            "4d6a1493dd5a4a7896865dd526d9d0e7",
            "9265551bbb6a44b3844caabb85196cda",
            "0c28626696884cf99561e6fa0863176b",
            "beade67fae0f428885eecb20e5b9b78e",
            "9cbb4296061f4dcfa0db659780c50d8f",
            "b9e53b40137a4b728c1e8f86b432c801",
            "6b9ad372943f4891a796e8cb8235ecda",
            "7125f254628146779ea63d24ab01c204",
            "a2ead998ff27414eb1978710a9da950a",
            "ec843348ff564a0795b911a5eda893b9",
            "fedcc1c9337f4742ae4a024bc90408c3",
            "07ba7fd6208d48e3b566267e716c255c",
            "8c750baf95ec4db5b942ed3ff6fa539d",
            "d10615a774c947f390321ac7646bbe01",
            "ba7a546f43a54a2f924875817a1df2f5",
            "51bb9fad99434821a167936f469aa281",
            "61776192562c4623b6e0e4a611ff9efc",
            "9c9b9dacac794dee8c5c8e6ced1cabc1",
            "1ab81dd281f14eaeab7b489abae968ca",
            "01e7c03e2b864c22aca2ca3a1a7f305e",
            "8f26cfef5bde48a8b7a928a773704ad2",
            "7856a31aed1d417d8ece9a0f459e6423",
            "d7ea5ab461e440b0be3f7cc708712e21",
            "bf86d1493a714a21bb100f487d9aad4a",
            "ef72ce3f28db4c318eee8ab17e3ab44e",
            "e828008e238c491d993a10e43bcd160b",
            "8d23cdfecbb8431b84caf8b6ebd3121b",
            "c0a1e0eff9e342028fc466e70a27e0d1",
            "ca766af663f049febbcf52bdc038f197",
            "290da38a18814f5790e9b0c1ffe90603",
            "254ee886fc244654a933e7c6d69db4b0",
            "439266f966164dd49f964a64fff64882",
            "157bd25210964470b1397161558ab405",
            "b255611b1e2646edb0c0810ebac8e8e7",
            "bad7ef26e5d14fcaa799243455302f07",
            "6b4e0fd6529b4382ba8ee354e921d72b",
            "d180f254e1534690a76a0b16f23da004",
            "bc763dd1369748248ece5f158879f2ec",
            "b9911dd3fb6441d7aec4d538ea5c5c2b",
            "4f518f1097ab4d9591009ddc663c56a5",
            "21400f7852b941ef81c08958af9d9e59",
            "32b9ec3cf30f44b7abf0d89143e9b0a2",
            "fa319ae745b2480daae975938b5f9abc"
          ]
        }
      },
      "source": [
        "(train_ds, validation_ds, test_ds), metadata = tfds.load('cats_vs_dogs',\n",
        "split=['train[:80%]', 'train[80%:90%]', 'train[90%:]'],\n",
        "with_info=True,\n",
        "as_supervised=True)"
      ],
      "execution_count": 4,
      "outputs": [
        {
          "output_type": "stream",
          "text": [
            "\u001b[1mDownloading and preparing dataset cats_vs_dogs/4.0.0 (download: 786.68 MiB, generated: Unknown size, total: 786.68 MiB) to /root/tensorflow_datasets/cats_vs_dogs/4.0.0...\u001b[0m\n"
          ],
          "name": "stdout"
        },
        {
          "output_type": "display_data",
          "data": {
            "application/vnd.jupyter.widget-view+json": {
              "model_id": "3e6c26617c8a47b68dd4cbd5349948ce",
              "version_minor": 0,
              "version_major": 2
            },
            "text/plain": [
              "HBox(children=(IntProgress(value=1, bar_style='info', description='Dl Completed...', max=1, style=ProgressStyl…"
            ]
          },
          "metadata": {
            "tags": []
          }
        },
        {
          "output_type": "display_data",
          "data": {
            "application/vnd.jupyter.widget-view+json": {
              "model_id": "beade67fae0f428885eecb20e5b9b78e",
              "version_minor": 0,
              "version_major": 2
            },
            "text/plain": [
              "HBox(children=(IntProgress(value=1, bar_style='info', description='Dl Size...', max=1, style=ProgressStyle(des…"
            ]
          },
          "metadata": {
            "tags": []
          }
        },
        {
          "output_type": "stream",
          "text": [
            "/usr/local/lib/python3.6/dist-packages/urllib3/connectionpool.py:847: InsecureRequestWarning: Unverified HTTPS request is being made. Adding certificate verification is strongly advised. See: https://urllib3.readthedocs.io/en/latest/advanced-usage.html#ssl-warnings\n",
            "  InsecureRequestWarning)\n"
          ],
          "name": "stderr"
        },
        {
          "output_type": "stream",
          "text": [
            "\n",
            "\n",
            "\n"
          ],
          "name": "stdout"
        },
        {
          "output_type": "display_data",
          "data": {
            "application/vnd.jupyter.widget-view+json": {
              "model_id": "07ba7fd6208d48e3b566267e716c255c",
              "version_minor": 0,
              "version_major": 2
            },
            "text/plain": [
              "HBox(children=(IntProgress(value=1, bar_style='info', max=1), HTML(value='')))"
            ]
          },
          "metadata": {
            "tags": []
          }
        },
        {
          "output_type": "stream",
          "text": [
            "WARNING:absl:1738 images were corrupted and were skipped\n"
          ],
          "name": "stderr"
        },
        {
          "output_type": "stream",
          "text": [
            "\rShuffling and writing examples to /root/tensorflow_datasets/cats_vs_dogs/4.0.0.incompleteAATRQC/cats_vs_dogs-train.tfrecord\n"
          ],
          "name": "stdout"
        },
        {
          "output_type": "display_data",
          "data": {
            "application/vnd.jupyter.widget-view+json": {
              "model_id": "01e7c03e2b864c22aca2ca3a1a7f305e",
              "version_minor": 0,
              "version_major": 2
            },
            "text/plain": [
              "HBox(children=(IntProgress(value=0, max=23262), HTML(value='')))"
            ]
          },
          "metadata": {
            "tags": []
          }
        },
        {
          "output_type": "stream",
          "text": [
            "\r"
          ],
          "name": "stdout"
        },
        {
          "output_type": "display_data",
          "data": {
            "application/vnd.jupyter.widget-view+json": {
              "model_id": "c0a1e0eff9e342028fc466e70a27e0d1",
              "version_minor": 0,
              "version_major": 2
            },
            "text/plain": [
              "HBox(children=(IntProgress(value=0, description='Computing statistics...', max=1, style=ProgressStyle(descript…"
            ]
          },
          "metadata": {
            "tags": []
          }
        },
        {
          "output_type": "display_data",
          "data": {
            "application/vnd.jupyter.widget-view+json": {
              "model_id": "6b4e0fd6529b4382ba8ee354e921d72b",
              "version_minor": 0,
              "version_major": 2
            },
            "text/plain": [
              "HBox(children=(IntProgress(value=1, bar_style='info', max=1), HTML(value='')))"
            ]
          },
          "metadata": {
            "tags": []
          }
        },
        {
          "output_type": "stream",
          "text": [
            "\n",
            "\u001b[1mDataset cats_vs_dogs downloaded and prepared to /root/tensorflow_datasets/cats_vs_dogs/4.0.0. Subsequent calls will reuse this data.\u001b[0m\n"
          ],
          "name": "stdout"
        }
      ]
    },
    {
      "cell_type": "markdown",
      "metadata": {
        "id": "DMrdzgShwQ_z",
        "colab_type": "text"
      },
      "source": [
        "print the metadata to see what the data contains"
      ]
    },
    {
      "cell_type": "code",
      "metadata": {
        "id": "oDXzHj3nqvVA",
        "colab_type": "code",
        "outputId": "b64f4a99-d6c6-45d1-b3a6-18bf5c91ebee",
        "colab": {
          "base_uri": "https://localhost:8080/",
          "height": 476
        }
      },
      "source": [
        "metadata "
      ],
      "execution_count": 5,
      "outputs": [
        {
          "output_type": "execute_result",
          "data": {
            "text/plain": [
              "tfds.core.DatasetInfo(\n",
              "    name='cats_vs_dogs',\n",
              "    version=4.0.0,\n",
              "    description='A large set of images of cats and dogs.There are 1738 corrupted images that are dropped.',\n",
              "    homepage='https://www.microsoft.com/en-us/download/details.aspx?id=54765',\n",
              "    features=FeaturesDict({\n",
              "        'image': Image(shape=(None, None, 3), dtype=tf.uint8),\n",
              "        'image/filename': Text(shape=(), dtype=tf.string),\n",
              "        'label': ClassLabel(shape=(), dtype=tf.int64, num_classes=2),\n",
              "    }),\n",
              "    total_num_examples=23262,\n",
              "    splits={\n",
              "        'train': 23262,\n",
              "    },\n",
              "    supervised_keys=('image', 'label'),\n",
              "    citation=\"\"\"@Inproceedings (Conference){asirra-a-captcha-that-exploits-interest-aligned-manual-image-categorization,\n",
              "    author = {Elson, Jeremy and Douceur, John (JD) and Howell, Jon and Saul, Jared},\n",
              "    title = {Asirra: A CAPTCHA that Exploits Interest-Aligned Manual Image Categorization},\n",
              "    booktitle = {Proceedings of 14th ACM Conference on Computer and Communications Security (CCS)},\n",
              "    year = {2007},\n",
              "    month = {October},\n",
              "    publisher = {Association for Computing Machinery, Inc.},\n",
              "    url = {https://www.microsoft.com/en-us/research/publication/asirra-a-captcha-that-exploits-interest-aligned-manual-image-categorization/},\n",
              "    edition = {Proceedings of 14th ACM Conference on Computer and Communications Security (CCS)},\n",
              "    }\"\"\",\n",
              "    redistribution_info=,\n",
              ")"
            ]
          },
          "metadata": {
            "tags": []
          },
          "execution_count": 5
        }
      ]
    },
    {
      "cell_type": "markdown",
      "metadata": {
        "id": "OmB2362XVZhl",
        "colab_type": "text"
      },
      "source": [
        "plot some examples of the images and print the label"
      ]
    },
    {
      "cell_type": "code",
      "metadata": {
        "id": "0mSyIcZttgrH",
        "colab_type": "code",
        "outputId": "bf90d165-933c-41ae-a1f7-104a43106369",
        "colab": {
          "base_uri": "https://localhost:8080/",
          "height": 271
        }
      },
      "source": [
        "dataset = train_ds.map(\n",
        "    lambda image, label: (tf.image.convert_image_dtype(image, tf.float64), label) \n",
        ").take(5\n",
        ")\n",
        "\n",
        "f, axarr = plt.subplots(1,5)\n",
        "\n",
        "i = 0\n",
        "for image, label in dataset:\n",
        "  print('image shape: ', np.shape(image));\n",
        "  tf.print('label:',label);\n",
        "  axarr[i].imshow(image);\n",
        "  axarr[i].axis('off');\n",
        "  i=i+1\n"
      ],
      "execution_count": 6,
      "outputs": [
        {
          "output_type": "stream",
          "text": [
            "image shape:  (262, 350, 3)\n",
            "label: 1\n",
            "image shape:  (409, 336, 3)\n",
            "label: 1\n",
            "image shape:  (493, 500, 3)\n",
            "label: 1\n",
            "image shape:  (375, 500, 3)\n",
            "label: 0\n",
            "image shape:  (240, 320, 3)\n",
            "label: 1\n"
          ],
          "name": "stdout"
        },
        {
          "output_type": "display_data",
          "data": {
            "image/png": "[encoded data removed]",
            "text/plain": [
              "<Figure size 432x288 with 5 Axes>"
            ]
          },
          "metadata": {
            "tags": []
          }
        }
      ]
    },
    {
      "cell_type": "markdown",
      "metadata": {
        "id": "bmkCZnusYCcQ",
        "colab_type": "text"
      },
      "source": [
        "As you can see the images take difference shapes. So first we need to read the images in with the same shape and we will also add augmentation. See: \n",
        "\n",
        "https://www.tensorflow.org/versions/r2.0/api_docs/python/tf/image   \n",
        "https://www.tensorflow.org/addons/api_docs/python/tfa/image\n",
        "\n",
        "for complete list.\n",
        "\n",
        "Let's take 5 images to start with and plot them to see what the augmentation looks like"
      ]
    },
    {
      "cell_type": "code",
      "metadata": {
        "id": "JP_eOgAoOwFq",
        "colab_type": "code",
        "colab": {}
      },
      "source": [
        "train = train_ds.map(\n",
        "    lambda image, label: (tf.image.convert_image_dtype(image, tf.float64), label) \n",
        ").cache( #cache images\n",
        ").map( # resize for input\n",
        "      lambda image, label: (tf.image.resize(image, [200,200]),label)\n",
        ").map( # random horizontal flip\n",
        "    lambda image, label: (tf.image.random_flip_left_right(image), label)\n",
        ").map( # random translation\n",
        "    lambda image, label: (tfa.image.translate(image, tf.random.uniform(shape=[2],minval=-5, maxval=5)), label)\n",
        ").take(5\n",
        ")"
      ],
      "execution_count": 0,
      "outputs": []
    },
    {
      "cell_type": "code",
      "metadata": {
        "id": "NQOAUJhhOZHr",
        "colab_type": "code",
        "outputId": "b296ab86-dd71-4651-eb4e-5b15e1fc873e",
        "colab": {
          "base_uri": "https://localhost:8080/",
          "height": 259
        }
      },
      "source": [
        "f, axarr = plt.subplots(1,5)\n",
        "\n",
        "i = 0\n",
        "for image, label in train:\n",
        "  print('image shape: ', np.shape(image));\n",
        "  tf.print('label:',label);\n",
        "  axarr[i].imshow(image);\n",
        "  axarr[i].axis('off');\n",
        "  i=i+1\n"
      ],
      "execution_count": 8,
      "outputs": [
        {
          "output_type": "stream",
          "text": [
            "image shape:  (200, 200, 3)\n",
            "label: 1\n",
            "image shape:  (200, 200, 3)\n",
            "label: 1\n",
            "image shape:  (200, 200, 3)\n",
            "label: 1\n",
            "image shape:  (200, 200, 3)\n",
            "label: 0\n",
            "image shape:  (200, 200, 3)\n",
            "label: 1\n"
          ],
          "name": "stdout"
        },
        {
          "output_type": "display_data",
          "data": {
            "image/png": "[encoded data removed]",
            "text/plain": [
              "<Figure size 432x288 with 5 Axes>"
            ]
          },
          "metadata": {
            "tags": []
          }
        }
      ]
    },
    {
      "cell_type": "markdown",
      "metadata": {
        "id": "SFJ-PryCdV5s",
        "colab_type": "text"
      },
      "source": [
        "Now lets get the whole datasets for train/validation/test we will take 800 for training in batches of 20, 100 for validation in batches of 10 and 100 for test."
      ]
    },
    {
      "cell_type": "code",
      "metadata": {
        "id": "QFcVEz10dVbj",
        "colab_type": "code",
        "colab": {}
      },
      "source": [
        "train = train_ds.map(\n",
        "    lambda image, label: (tf.image.convert_image_dtype(image, tf.float64), label) \n",
        ").cache( #cache images\n",
        ").map( # resize for input\n",
        "      lambda image, label: (tf.image.resize(image, [224,224]),label)\n",
        ").map( # random horizontal flip\n",
        "    lambda image, label: (tf.image.random_flip_left_right(image), label)\n",
        ").map( # random translation\n",
        "    lambda image, label: (tfa.image.translate(image, tf.random.uniform(shape=[2],minval=-5, maxval=5)), label)\n",
        ").shuffle(100\n",
        ").batch(24\n",
        ").take(1)\n",
        "\n",
        "valid = validation_ds.map(\n",
        "    lambda image, label: (tf.image.convert_image_dtype(image, tf.float64), label) \n",
        ").map( # resize for input\n",
        "      lambda image, label: (tf.image.resize(image, [224,224]),label)\n",
        ").shuffle(100\n",
        ").batch(24\n",
        ").take(1)\n",
        "\n",
        "test = test_ds.map(\n",
        "    lambda image, label: (tf.image.convert_image_dtype(image, tf.float64), label) \n",
        ").map( # resize for input\n",
        "      lambda image, label: (tf.image.resize(image, [224,224]),label)\n",
        ").batch(100\n",
        ").take(1)"
      ],
      "execution_count": 0,
      "outputs": []
    },
    {
      "cell_type": "markdown",
      "metadata": {
        "id": "rdrnU92OjsBM",
        "colab_type": "text"
      },
      "source": [
        "# Getting the model\n",
        "\n",
        "We will use a pre-trained model. We will be using MobileNetV2_1.0_224.\n",
        "\n",
        "This model is mobilenet version 2 with a depth multiplier of 1.0 trained on 224x224 images. This version has much fewer parameters than mobilenetV1. The model can be loaded as a keras layer. Lets read in the network and see what variables it contains and how many of them"
      ]
    },
    {
      "cell_type": "code",
      "metadata": {
        "id": "J5p7U3wjrrF9",
        "colab_type": "code",
        "outputId": "038a7e20-e1c2-4bfc-cc1a-0e3d7360ac25",
        "colab": {
          "base_uri": "https://localhost:8080/",
          "height": 1000
        }
      },
      "source": [
        "mbnet = tf.keras.applications.MobileNetV2(include_top=False, weights=None)\n",
        "\n",
        "nvar =  np.shape(mbnet.trainable_variables)[0]\n",
        "print('number of variables: ', nvar)\n",
        "for i in np.arange(nvar): \n",
        "  print(mbnet.trainable_variables[i].name) #variables name name\n",
        "  print(mbnet.trainable_variables[i].shape) #kernel shape"
      ],
      "execution_count": 11,
      "outputs": [
        {
          "output_type": "stream",
          "text": [
            "number of variables:  156\n",
            "Conv1_1/kernel:0\n",
            "(3, 3, 3, 32)\n",
            "bn_Conv1_1/gamma:0\n",
            "(32,)\n",
            "bn_Conv1_1/beta:0\n",
            "(32,)\n",
            "expanded_conv_depthwise_1/depthwise_kernel:0\n",
            "(3, 3, 32, 1)\n",
            "expanded_conv_depthwise_BN_1/gamma:0\n",
            "(32,)\n",
            "expanded_conv_depthwise_BN_1/beta:0\n",
            "(32,)\n",
            "expanded_conv_project_1/kernel:0\n",
            "(1, 1, 32, 16)\n",
            "expanded_conv_project_BN_1/gamma:0\n",
            "(16,)\n",
            "expanded_conv_project_BN_1/beta:0\n",
            "(16,)\n",
            "block_1_expand_1/kernel:0\n",
            "(1, 1, 16, 96)\n",
            "block_1_expand_BN_1/gamma:0\n",
            "(96,)\n",
            "block_1_expand_BN_1/beta:0\n",
            "(96,)\n",
            "block_1_depthwise_1/depthwise_kernel:0\n",
            "(3, 3, 96, 1)\n",
            "block_1_depthwise_BN_1/gamma:0\n",
            "(96,)\n",
            "block_1_depthwise_BN_1/beta:0\n",
            "(96,)\n",
            "block_1_project_1/kernel:0\n",
            "(1, 1, 96, 24)\n",
            "block_1_project_BN_1/gamma:0\n",
            "(24,)\n",
            "block_1_project_BN_1/beta:0\n",
            "(24,)\n",
            "block_2_expand_1/kernel:0\n",
            "(1, 1, 24, 144)\n",
            "block_2_expand_BN_1/gamma:0\n",
            "(144,)\n",
            "block_2_expand_BN_1/beta:0\n",
            "(144,)\n",
            "block_2_depthwise_1/depthwise_kernel:0\n",
            "(3, 3, 144, 1)\n",
            "block_2_depthwise_BN_1/gamma:0\n",
            "(144,)\n",
            "block_2_depthwise_BN_1/beta:0\n",
            "(144,)\n",
            "block_2_project_1/kernel:0\n",
            "(1, 1, 144, 24)\n",
            "block_2_project_BN_1/gamma:0\n",
            "(24,)\n",
            "block_2_project_BN_1/beta:0\n",
            "(24,)\n",
            "block_3_expand_1/kernel:0\n",
            "(1, 1, 24, 144)\n",
            "block_3_expand_BN_1/gamma:0\n",
            "(144,)\n",
            "block_3_expand_BN_1/beta:0\n",
            "(144,)\n",
            "block_3_depthwise_1/depthwise_kernel:0\n",
            "(3, 3, 144, 1)\n",
            "block_3_depthwise_BN_1/gamma:0\n",
            "(144,)\n",
            "block_3_depthwise_BN_1/beta:0\n",
            "(144,)\n",
            "block_3_project_1/kernel:0\n",
            "(1, 1, 144, 32)\n",
            "block_3_project_BN_1/gamma:0\n",
            "(32,)\n",
            "block_3_project_BN_1/beta:0\n",
            "(32,)\n",
            "block_4_expand_1/kernel:0\n",
            "(1, 1, 32, 192)\n",
            "block_4_expand_BN_1/gamma:0\n",
            "(192,)\n",
            "block_4_expand_BN_1/beta:0\n",
            "(192,)\n",
            "block_4_depthwise_1/depthwise_kernel:0\n",
            "(3, 3, 192, 1)\n",
            "block_4_depthwise_BN_1/gamma:0\n",
            "(192,)\n",
            "block_4_depthwise_BN_1/beta:0\n",
            "(192,)\n",
            "block_4_project_1/kernel:0\n",
            "(1, 1, 192, 32)\n",
            "block_4_project_BN_1/gamma:0\n",
            "(32,)\n",
            "block_4_project_BN_1/beta:0\n",
            "(32,)\n",
            "block_5_expand_1/kernel:0\n",
            "(1, 1, 32, 192)\n",
            "block_5_expand_BN_1/gamma:0\n",
            "(192,)\n",
            "block_5_expand_BN_1/beta:0\n",
            "(192,)\n",
            "block_5_depthwise_1/depthwise_kernel:0\n",
            "(3, 3, 192, 1)\n",
            "block_5_depthwise_BN_1/gamma:0\n",
            "(192,)\n",
            "block_5_depthwise_BN_1/beta:0\n",
            "(192,)\n",
            "block_5_project_1/kernel:0\n",
            "(1, 1, 192, 32)\n",
            "block_5_project_BN_1/gamma:0\n",
            "(32,)\n",
            "block_5_project_BN_1/beta:0\n",
            "(32,)\n",
            "block_6_expand_1/kernel:0\n",
            "(1, 1, 32, 192)\n",
            "block_6_expand_BN_1/gamma:0\n",
            "(192,)\n",
            "block_6_expand_BN_1/beta:0\n",
            "(192,)\n",
            "block_6_depthwise_1/depthwise_kernel:0\n",
            "(3, 3, 192, 1)\n",
            "block_6_depthwise_BN_1/gamma:0\n",
            "(192,)\n",
            "block_6_depthwise_BN_1/beta:0\n",
            "(192,)\n",
            "block_6_project_1/kernel:0\n",
            "(1, 1, 192, 64)\n",
            "block_6_project_BN_1/gamma:0\n",
            "(64,)\n",
            "block_6_project_BN_1/beta:0\n",
            "(64,)\n",
            "block_7_expand_1/kernel:0\n",
            "(1, 1, 64, 384)\n",
            "block_7_expand_BN_1/gamma:0\n",
            "(384,)\n",
            "block_7_expand_BN_1/beta:0\n",
            "(384,)\n",
            "block_7_depthwise_1/depthwise_kernel:0\n",
            "(3, 3, 384, 1)\n",
            "block_7_depthwise_BN_1/gamma:0\n",
            "(384,)\n",
            "block_7_depthwise_BN_1/beta:0\n",
            "(384,)\n",
            "block_7_project_1/kernel:0\n",
            "(1, 1, 384, 64)\n",
            "block_7_project_BN_1/gamma:0\n",
            "(64,)\n",
            "block_7_project_BN_1/beta:0\n",
            "(64,)\n",
            "block_8_expand_1/kernel:0\n",
            "(1, 1, 64, 384)\n",
            "block_8_expand_BN_1/gamma:0\n",
            "(384,)\n",
            "block_8_expand_BN_1/beta:0\n",
            "(384,)\n",
            "block_8_depthwise_1/depthwise_kernel:0\n",
            "(3, 3, 384, 1)\n",
            "block_8_depthwise_BN_1/gamma:0\n",
            "(384,)\n",
            "block_8_depthwise_BN_1/beta:0\n",
            "(384,)\n",
            "block_8_project_1/kernel:0\n",
            "(1, 1, 384, 64)\n",
            "block_8_project_BN_1/gamma:0\n",
            "(64,)\n",
            "block_8_project_BN_1/beta:0\n",
            "(64,)\n",
            "block_9_expand_1/kernel:0\n",
            "(1, 1, 64, 384)\n",
            "block_9_expand_BN_1/gamma:0\n",
            "(384,)\n",
            "block_9_expand_BN_1/beta:0\n",
            "(384,)\n",
            "block_9_depthwise_1/depthwise_kernel:0\n",
            "(3, 3, 384, 1)\n",
            "block_9_depthwise_BN_1/gamma:0\n",
            "(384,)\n",
            "block_9_depthwise_BN_1/beta:0\n",
            "(384,)\n",
            "block_9_project_1/kernel:0\n",
            "(1, 1, 384, 64)\n",
            "block_9_project_BN_1/gamma:0\n",
            "(64,)\n",
            "block_9_project_BN_1/beta:0\n",
            "(64,)\n",
            "block_10_expand_1/kernel:0\n",
            "(1, 1, 64, 384)\n",
            "block_10_expand_BN_1/gamma:0\n",
            "(384,)\n",
            "block_10_expand_BN_1/beta:0\n",
            "(384,)\n",
            "block_10_depthwise_1/depthwise_kernel:0\n",
            "(3, 3, 384, 1)\n",
            "block_10_depthwise_BN_1/gamma:0\n",
            "(384,)\n",
            "block_10_depthwise_BN_1/beta:0\n",
            "(384,)\n",
            "block_10_project_1/kernel:0\n",
            "(1, 1, 384, 96)\n",
            "block_10_project_BN_1/gamma:0\n",
            "(96,)\n",
            "block_10_project_BN_1/beta:0\n",
            "(96,)\n",
            "block_11_expand_1/kernel:0\n",
            "(1, 1, 96, 576)\n",
            "block_11_expand_BN_1/gamma:0\n",
            "(576,)\n",
            "block_11_expand_BN_1/beta:0\n",
            "(576,)\n",
            "block_11_depthwise_1/depthwise_kernel:0\n",
            "(3, 3, 576, 1)\n",
            "block_11_depthwise_BN_1/gamma:0\n",
            "(576,)\n",
            "block_11_depthwise_BN_1/beta:0\n",
            "(576,)\n",
            "block_11_project_1/kernel:0\n",
            "(1, 1, 576, 96)\n",
            "block_11_project_BN_1/gamma:0\n",
            "(96,)\n",
            "block_11_project_BN_1/beta:0\n",
            "(96,)\n",
            "block_12_expand_1/kernel:0\n",
            "(1, 1, 96, 576)\n",
            "block_12_expand_BN_1/gamma:0\n",
            "(576,)\n",
            "block_12_expand_BN_1/beta:0\n",
            "(576,)\n",
            "block_12_depthwise_1/depthwise_kernel:0\n",
            "(3, 3, 576, 1)\n",
            "block_12_depthwise_BN_1/gamma:0\n",
            "(576,)\n",
            "block_12_depthwise_BN_1/beta:0\n",
            "(576,)\n",
            "block_12_project_1/kernel:0\n",
            "(1, 1, 576, 96)\n",
            "block_12_project_BN_1/gamma:0\n",
            "(96,)\n",
            "block_12_project_BN_1/beta:0\n",
            "(96,)\n",
            "block_13_expand_1/kernel:0\n",
            "(1, 1, 96, 576)\n",
            "block_13_expand_BN_1/gamma:0\n",
            "(576,)\n",
            "block_13_expand_BN_1/beta:0\n",
            "(576,)\n",
            "block_13_depthwise_1/depthwise_kernel:0\n",
            "(3, 3, 576, 1)\n",
            "block_13_depthwise_BN_1/gamma:0\n",
            "(576,)\n",
            "block_13_depthwise_BN_1/beta:0\n",
            "(576,)\n",
            "block_13_project_1/kernel:0\n",
            "(1, 1, 576, 160)\n",
            "block_13_project_BN_1/gamma:0\n",
            "(160,)\n",
            "block_13_project_BN_1/beta:0\n",
            "(160,)\n",
            "block_14_expand_1/kernel:0\n",
            "(1, 1, 160, 960)\n",
            "block_14_expand_BN_1/gamma:0\n",
            "(960,)\n",
            "block_14_expand_BN_1/beta:0\n",
            "(960,)\n",
            "block_14_depthwise_1/depthwise_kernel:0\n",
            "(3, 3, 960, 1)\n",
            "block_14_depthwise_BN_1/gamma:0\n",
            "(960,)\n",
            "block_14_depthwise_BN_1/beta:0\n",
            "(960,)\n",
            "block_14_project_1/kernel:0\n",
            "(1, 1, 960, 160)\n",
            "block_14_project_BN_1/gamma:0\n",
            "(160,)\n",
            "block_14_project_BN_1/beta:0\n",
            "(160,)\n",
            "block_15_expand_1/kernel:0\n",
            "(1, 1, 160, 960)\n",
            "block_15_expand_BN_1/gamma:0\n",
            "(960,)\n",
            "block_15_expand_BN_1/beta:0\n",
            "(960,)\n",
            "block_15_depthwise_1/depthwise_kernel:0\n",
            "(3, 3, 960, 1)\n",
            "block_15_depthwise_BN_1/gamma:0\n",
            "(960,)\n",
            "block_15_depthwise_BN_1/beta:0\n",
            "(960,)\n",
            "block_15_project_1/kernel:0\n",
            "(1, 1, 960, 160)\n",
            "block_15_project_BN_1/gamma:0\n",
            "(160,)\n",
            "block_15_project_BN_1/beta:0\n",
            "(160,)\n",
            "block_16_expand_1/kernel:0\n",
            "(1, 1, 160, 960)\n",
            "block_16_expand_BN_1/gamma:0\n",
            "(960,)\n",
            "block_16_expand_BN_1/beta:0\n",
            "(960,)\n",
            "block_16_depthwise_1/depthwise_kernel:0\n",
            "(3, 3, 960, 1)\n",
            "block_16_depthwise_BN_1/gamma:0\n",
            "(960,)\n",
            "block_16_depthwise_BN_1/beta:0\n",
            "(960,)\n",
            "block_16_project_1/kernel:0\n",
            "(1, 1, 960, 320)\n",
            "block_16_project_BN_1/gamma:0\n",
            "(320,)\n",
            "block_16_project_BN_1/beta:0\n",
            "(320,)\n",
            "Conv_1_1/kernel:0\n",
            "(1, 1, 320, 1280)\n",
            "Conv_1_bn_1/gamma:0\n",
            "(1280,)\n",
            "Conv_1_bn_1/beta:0\n",
            "(1280,)\n"
          ],
          "name": "stdout"
        }
      ]
    },
    {
      "cell_type": "code",
      "metadata": {
        "id": "fSZ4VNsCYThs",
        "colab_type": "code",
        "colab": {}
      },
      "source": [
        "tf.keras.backend.clear_session() #Clear keras session"
      ],
      "execution_count": 0,
      "outputs": []
    },
    {
      "cell_type": "markdown",
      "metadata": {
        "id": "AOUtHklIzjW_",
        "colab_type": "text"
      },
      "source": [
        "# Training from scratch\n",
        "\n",
        "We are going to add a dropout layer and new dense layer for the 2 classes we have (cats and dogs). Firstly I want you to try and fit the network without transfer learning"
      ]
    },
    {
      "cell_type": "code",
      "metadata": {
        "id": "DgOB3gYkBFef",
        "colab_type": "code",
        "outputId": "2dc4dfe6-7e02-4261-9a51-09b8fa7d3a07",
        "colab": {
          "base_uri": "https://localhost:8080/",
          "height": 289
        }
      },
      "source": [
        "dropoutrate = 0.2\n",
        "num_classes = 2\n",
        "input_shape = [224,224,3]\n",
        "\n",
        "mbnet = tf.keras.applications.MobileNetV2(input_shape=input_shape, include_top=False, weights=None) \n",
        "\n",
        "model = tf.keras.Sequential([\n",
        "  mbnet,\n",
        "  tf.keras.layers.GlobalAveragePooling2D(),\n",
        "  tf.keras.layers.Dropout(dropoutrate),\n",
        "  tf.keras.layers.Dense(num_classes, activation='softmax') \n",
        "])\n",
        "model.build()\n",
        "\n",
        "model.summary() # print the model"
      ],
      "execution_count": 13,
      "outputs": [
        {
          "output_type": "stream",
          "text": [
            "Model: \"sequential\"\n",
            "_________________________________________________________________\n",
            "Layer (type)                 Output Shape              Param #   \n",
            "=================================================================\n",
            "mobilenetv2_1.00_224 (Model) (None, 7, 7, 1280)        2257984   \n",
            "_________________________________________________________________\n",
            "global_average_pooling2d (Gl (None, 1280)              0         \n",
            "_________________________________________________________________\n",
            "dropout (Dropout)            (None, 1280)              0         \n",
            "_________________________________________________________________\n",
            "dense (Dense)                (None, 2)                 2562      \n",
            "=================================================================\n",
            "Total params: 2,260,546\n",
            "Trainable params: 2,226,434\n",
            "Non-trainable params: 34,112\n",
            "_________________________________________________________________\n"
          ],
          "name": "stdout"
        }
      ]
    },
    {
      "cell_type": "code",
      "metadata": {
        "id": "0oFODrI6E2-U",
        "colab_type": "code",
        "colab": {}
      },
      "source": [
        "with tf.GradientTape() as tape:\n",
        "  tape.reset() #this resets the gradient tape"
      ],
      "execution_count": 0,
      "outputs": []
    },
    {
      "cell_type": "code",
      "metadata": {
        "id": "JorhV0GpDwrV",
        "colab_type": "code",
        "colab": {}
      },
      "source": [
        "LR = 0.001 #learning rate\n",
        "optimizer = tf.optimizers.Adam(LR) #adam optimiser\n",
        "\n",
        "def train_step( model, X , Y):\n",
        "    with tf.GradientTape() as tape:\n",
        "        pred = model( X )\n",
        "        current_loss = tf.reduce_mean(tf.losses.categorical_crossentropy( Y,  pred))\n",
        "    grads = tape.gradient(current_loss, model.trainable_variables) \n",
        "    optimizer.apply_gradients( zip( grads , model.trainable_variables) ) #update gradients of all layers\n",
        "    current_accuracy = tf.reduce_mean(tf.metrics.categorical_accuracy(Y, pred))\n",
        "    return(current_loss, current_accuracy)"
      ],
      "execution_count": 0,
      "outputs": []
    },
    {
      "cell_type": "code",
      "metadata": {
        "id": "gBXR6L_KE4cn",
        "colab_type": "code",
        "outputId": "d5060f2b-bba7-4e4d-bd93-d37524d9d361",
        "colab": {
          "base_uri": "https://localhost:8080/",
          "height": 1000
        }
      },
      "source": [
        "niter = 1000\n",
        "\n",
        "tloss = []\n",
        "tacc = []\n",
        "vloss = []\n",
        "vacc = []\n",
        "\n",
        "for it in range(niter):\n",
        "    for image, label in train:\n",
        "        loss, acc = train_step( model , image , tf.one_hot(label, depth=2) ) #run training\n",
        "\n",
        "    if it % 10 is 0: #log training metrics\n",
        "      tf.print('iter: ',it, ', loss: {:.3f}, acc: {:.3f}'.format(loss, acc))\n",
        "      tloss.append(loss)\n",
        "      tacc.append(acc)\n",
        "\n",
        "    if it % 50 is 0: #log validation metrics\n",
        "      for val_image, val_label in valid:\n",
        "        val_pred = model(val_image)\n",
        "        val_loss = tf.reduce_mean(tf.losses.categorical_crossentropy(tf.one_hot(val_label, depth=2), val_pred))\n",
        "        val_acc = tf.reduce_mean(tf.metrics.categorical_accuracy(tf.one_hot(val_label, depth=2), val_pred))\n",
        "        tf.print('iter: ',it, ', validation loss: {:.3f}, validation acc: {:.3f}'.format(val_loss, val_acc))\n",
        "        vloss.append(val_loss)\n",
        "        vacc.append(val_acc)\n"
      ],
      "execution_count": 16,
      "outputs": [
        {
          "output_type": "stream",
          "text": [
            "iter:  0 , loss: 0.693, acc: 0.458\n",
            "iter:  0 , validation loss: 0.690, validation acc: 0.583\n",
            "iter:  10 , loss: 0.582, acc: 0.792\n",
            "iter:  20 , loss: 0.723, acc: 0.375\n",
            "iter:  30 , loss: 0.697, acc: 0.500\n",
            "iter:  40 , loss: 0.638, acc: 0.708\n",
            "iter:  50 , loss: 0.639, acc: 0.667\n",
            "iter:  50 , validation loss: 0.771, validation acc: 0.417\n",
            "iter:  60 , loss: 0.656, acc: 0.667\n",
            "iter:  70 , loss: 0.733, acc: 0.375\n",
            "iter:  80 , loss: 0.712, acc: 0.458\n",
            "iter:  90 , loss: 0.696, acc: 0.542\n",
            "iter:  100 , loss: 0.719, acc: 0.500\n",
            "iter:  100 , validation loss: 0.681, validation acc: 0.583\n",
            "iter:  110 , loss: 0.697, acc: 0.542\n",
            "iter:  120 , loss: 0.680, acc: 0.583\n",
            "iter:  130 , loss: 0.659, acc: 0.708\n",
            "iter:  140 , loss: 0.682, acc: 0.583\n",
            "iter:  150 , loss: 0.635, acc: 0.750\n",
            "iter:  150 , validation loss: 0.703, validation acc: 0.500\n",
            "iter:  160 , loss: 0.693, acc: 0.542\n",
            "iter:  170 , loss: 0.680, acc: 0.583\n",
            "iter:  180 , loss: 0.744, acc: 0.375\n",
            "iter:  190 , loss: 0.670, acc: 0.625\n",
            "iter:  200 , loss: 0.712, acc: 0.458\n",
            "iter:  200 , validation loss: 0.670, validation acc: 0.625\n",
            "iter:  210 , loss: 0.671, acc: 0.625\n",
            "iter:  220 , loss: 0.668, acc: 0.667\n",
            "iter:  230 , loss: 0.690, acc: 0.542\n",
            "iter:  240 , loss: 0.663, acc: 0.708\n",
            "iter:  250 , loss: 0.674, acc: 0.667\n",
            "iter:  250 , validation loss: 0.674, validation acc: 0.667\n",
            "iter:  260 , loss: 0.707, acc: 0.458\n",
            "iter:  270 , loss: 0.690, acc: 0.542\n",
            "iter:  280 , loss: 0.650, acc: 0.708\n",
            "iter:  290 , loss: 0.669, acc: 0.625\n",
            "iter:  300 , loss: 0.708, acc: 0.500\n",
            "iter:  300 , validation loss: 0.679, validation acc: 0.583\n",
            "iter:  310 , loss: 0.737, acc: 0.417\n",
            "iter:  320 , loss: 0.667, acc: 0.625\n",
            "iter:  330 , loss: 0.679, acc: 0.583\n",
            "iter:  340 , loss: 0.728, acc: 0.417\n",
            "iter:  350 , loss: 0.645, acc: 0.708\n",
            "iter:  350 , validation loss: 0.715, validation acc: 0.458\n",
            "iter:  360 , loss: 0.679, acc: 0.583\n",
            "iter:  370 , loss: 0.669, acc: 0.625\n",
            "iter:  380 , loss: 0.672, acc: 0.625\n",
            "iter:  390 , loss: 0.650, acc: 0.708\n",
            "iter:  400 , loss: 0.671, acc: 0.625\n",
            "iter:  400 , validation loss: 0.671, validation acc: 0.625\n",
            "iter:  410 , loss: 0.674, acc: 0.625\n",
            "iter:  420 , loss: 0.667, acc: 0.667\n",
            "iter:  430 , loss: 0.673, acc: 0.625\n",
            "iter:  440 , loss: 0.714, acc: 0.458\n",
            "iter:  450 , loss: 0.718, acc: 0.458\n",
            "iter:  450 , validation loss: 0.666, validation acc: 0.625\n",
            "iter:  460 , loss: 0.602, acc: 0.833\n",
            "iter:  470 , loss: 0.707, acc: 0.500\n",
            "iter:  480 , loss: 0.699, acc: 0.542\n",
            "iter:  490 , loss: 0.698, acc: 0.542\n",
            "iter:  500 , loss: 0.690, acc: 0.542\n",
            "iter:  500 , validation loss: 0.681, validation acc: 0.583\n",
            "iter:  510 , loss: 0.697, acc: 0.500\n",
            "iter:  520 , loss: 0.704, acc: 0.500\n",
            "iter:  530 , loss: 0.682, acc: 0.583\n",
            "iter:  540 , loss: 0.693, acc: 0.542\n",
            "iter:  550 , loss: 0.669, acc: 0.625\n",
            "iter:  550 , validation loss: 0.691, validation acc: 0.542\n",
            "iter:  560 , loss: 0.679, acc: 0.583\n",
            "iter:  570 , loss: 0.647, acc: 0.667\n",
            "iter:  580 , loss: 0.664, acc: 0.625\n",
            "iter:  590 , loss: 0.690, acc: 0.542\n",
            "iter:  600 , loss: 0.646, acc: 0.708\n",
            "iter:  600 , validation loss: 0.679, validation acc: 0.583\n",
            "iter:  610 , loss: 0.727, acc: 0.458\n",
            "iter:  620 , loss: 0.632, acc: 0.708\n",
            "iter:  630 , loss: 0.679, acc: 0.583\n",
            "iter:  640 , loss: 0.672, acc: 0.625\n",
            "iter:  650 , loss: 0.666, acc: 0.667\n",
            "iter:  650 , validation loss: 0.690, validation acc: 0.542\n",
            "iter:  660 , loss: 0.654, acc: 0.708\n",
            "iter:  670 , loss: 0.681, acc: 0.583\n",
            "iter:  680 , loss: 0.670, acc: 0.625\n",
            "iter:  690 , loss: 0.716, acc: 0.458\n",
            "iter:  700 , loss: 0.719, acc: 0.458\n",
            "iter:  700 , validation loss: 0.747, validation acc: 0.375\n",
            "iter:  710 , loss: 0.679, acc: 0.583\n",
            "iter:  720 , loss: 0.705, acc: 0.500\n",
            "iter:  730 , loss: 0.666, acc: 0.667\n",
            "iter:  740 , loss: 0.671, acc: 0.667\n",
            "iter:  750 , loss: 0.673, acc: 0.625\n",
            "iter:  750 , validation loss: 0.707, validation acc: 0.458\n",
            "iter:  760 , loss: 0.679, acc: 0.583\n",
            "iter:  770 , loss: 0.724, acc: 0.458\n",
            "iter:  780 , loss: 0.680, acc: 0.583\n",
            "iter:  790 , loss: 0.668, acc: 0.625\n",
            "iter:  800 , loss: 0.665, acc: 0.625\n",
            "iter:  800 , validation loss: 0.650, validation acc: 0.667\n",
            "iter:  810 , loss: 0.695, acc: 0.542\n",
            "iter:  820 , loss: 0.693, acc: 0.542\n",
            "iter:  830 , loss: 0.741, acc: 0.375\n",
            "iter:  840 , loss: 0.710, acc: 0.458\n",
            "iter:  850 , loss: 0.680, acc: 0.583\n",
            "iter:  850 , validation loss: 0.680, validation acc: 0.583\n",
            "iter:  860 , loss: 0.667, acc: 0.625\n",
            "iter:  870 , loss: 0.693, acc: 0.542\n",
            "iter:  880 , loss: 0.705, acc: 0.500\n",
            "iter:  890 , loss: 0.716, acc: 0.458\n",
            "iter:  900 , loss: 0.691, acc: 0.542\n",
            "iter:  900 , validation loss: 0.680, validation acc: 0.583\n",
            "iter:  910 , loss: 0.691, acc: 0.542\n",
            "iter:  920 , loss: 0.727, acc: 0.417\n",
            "iter:  930 , loss: 0.670, acc: 0.625\n",
            "iter:  940 , loss: 0.690, acc: 0.542\n",
            "iter:  950 , loss: 0.680, acc: 0.583\n",
            "iter:  950 , validation loss: 0.670, validation acc: 0.625\n",
            "iter:  960 , loss: 0.702, acc: 0.500\n",
            "iter:  970 , loss: 0.669, acc: 0.625\n",
            "iter:  980 , loss: 0.679, acc: 0.583\n",
            "iter:  990 , loss: 0.738, acc: 0.417\n"
          ],
          "name": "stdout"
        }
      ]
    },
    {
      "cell_type": "markdown",
      "metadata": {
        "id": "mSHM7mRVJNJR",
        "colab_type": "text"
      },
      "source": [
        "Now let's evaluate the results by plotting the Loss and Accuracy. The network here performs badly because we have a huge model with loads of parameters but not much data to fit it with. "
      ]
    },
    {
      "cell_type": "code",
      "metadata": {
        "id": "E472UlzfIf6i",
        "colab_type": "code",
        "outputId": "f3338a6b-b9ed-4846-e2b1-e7f46b615a30",
        "colab": {
          "base_uri": "https://localhost:8080/",
          "height": 279
        }
      },
      "source": [
        "titers = 10*np.arange(np.shape(tloss)[0])\n",
        "viters = 50*np.arange(np.shape(vloss)[0])\n",
        "\n",
        "plt.plot(titers, tloss, c='black', label='training');\n",
        "plt.plot(viters, vloss, c='r', label='validation');\n",
        "plt.legend();\n",
        "plt.xlabel('iteration');\n",
        "plt.ylabel('loss');"
      ],
      "execution_count": 17,
      "outputs": [
        {
          "output_type": "display_data",
          "data": {
            "image/png": "[encoded data removed]",
            "text/plain": [
              "<Figure size 432x288 with 1 Axes>"
            ]
          },
          "metadata": {
            "tags": []
          }
        }
      ]
    },
    {
      "cell_type": "code",
      "metadata": {
        "id": "9W9YQaUaJRry",
        "colab_type": "code",
        "outputId": "9e33b802-89c8-43a5-dd30-cd291328ca07",
        "colab": {
          "base_uri": "https://localhost:8080/",
          "height": 279
        }
      },
      "source": [
        "plt.plot(titers, tacc, c='black', label='training');\n",
        "plt.plot(viters, vacc, c='r', label='validation');\n",
        "plt.legend();\n",
        "plt.xlabel('iteration');\n",
        "plt.ylabel('accuracy');"
      ],
      "execution_count": 18,
      "outputs": [
        {
          "output_type": "display_data",
          "data": {
            "image/png": "[encoded data removed]",
            "text/plain": [
              "<Figure size 432x288 with 1 Axes>"
            ]
          },
          "metadata": {
            "tags": []
          }
        }
      ]
    },
    {
      "cell_type": "markdown",
      "metadata": {
        "id": "GYgPyhu1Izm7",
        "colab_type": "text"
      },
      "source": [
        "# Transfer learning\n",
        "\n",
        "Now we will implement transfer learning from the imagenet weights."
      ]
    },
    {
      "cell_type": "code",
      "metadata": {
        "id": "HsWUUxszKx10",
        "colab_type": "code",
        "colab": {}
      },
      "source": [
        "tf.keras.backend.clear_session() #Clear keras session"
      ],
      "execution_count": 0,
      "outputs": []
    },
    {
      "cell_type": "code",
      "metadata": {
        "id": "ZbHZ5T8Hq_So",
        "colab_type": "code",
        "outputId": "e362f752-28cb-45db-860a-eb72af918f91",
        "colab": {
          "base_uri": "https://localhost:8080/",
          "height": 343
        }
      },
      "source": [
        "dropoutrate = 0.2\n",
        "num_classes = 2\n",
        "input_shape = [224,224,3]\n",
        "\n",
        "mbnet = tf.keras.applications.MobileNetV2(input_shape=input_shape, include_top=False, weights='imagenet') #We now dont want randomized weights but to load weights from imagenet\n",
        "\n",
        "model = tf.keras.Sequential([\n",
        "  mbnet,\n",
        "  tf.keras.layers.GlobalAveragePooling2D(),\n",
        "  tf.keras.layers.Dropout(dropoutrate),\n",
        "  tf.keras.layers.Dense(num_classes, activation='softmax') \n",
        "])\n",
        "model.build()\n",
        "\n",
        "mbnet.trainable = False # freeze the first layers to the imagenet weights\n",
        "\n",
        "model.summary() # print the model"
      ],
      "execution_count": 20,
      "outputs": [
        {
          "output_type": "stream",
          "text": [
            "Downloading data from https://github.com/JonathanCMitchell/mobilenet_v2_keras/releases/download/v1.1/mobilenet_v2_weights_tf_dim_ordering_tf_kernels_1.0_224_no_top.h5\n",
            "9412608/9406464 [==============================] - 1s 0us/step\n",
            "Model: \"sequential\"\n",
            "_________________________________________________________________\n",
            "Layer (type)                 Output Shape              Param #   \n",
            "=================================================================\n",
            "mobilenetv2_1.00_224 (Model) (None, 7, 7, 1280)        2257984   \n",
            "_________________________________________________________________\n",
            "global_average_pooling2d (Gl (None, 1280)              0         \n",
            "_________________________________________________________________\n",
            "dropout (Dropout)            (None, 1280)              0         \n",
            "_________________________________________________________________\n",
            "dense (Dense)                (None, 2)                 2562      \n",
            "=================================================================\n",
            "Total params: 2,260,546\n",
            "Trainable params: 2,562\n",
            "Non-trainable params: 2,257,984\n",
            "_________________________________________________________________\n"
          ],
          "name": "stdout"
        }
      ]
    },
    {
      "cell_type": "code",
      "metadata": {
        "id": "YOEwpJS5HAKx",
        "colab_type": "code",
        "colab": {}
      },
      "source": [
        "with tf.GradientTape() as tape:\n",
        "  tape.reset() #this resets the gradient tape"
      ],
      "execution_count": 0,
      "outputs": []
    },
    {
      "cell_type": "code",
      "metadata": {
        "id": "PJKjem9e2l_H",
        "colab_type": "code",
        "colab": {}
      },
      "source": [
        "LR = 0.001 #learning rate\n",
        "optimizer = tf.optimizers.Adam(LR) #adam optimiser\n",
        "\n",
        "def train_step( model, X , Y):\n",
        "    with tf.GradientTape() as tape:\n",
        "        pred = model( X )\n",
        "        current_loss = tf.reduce_mean(tf.losses.categorical_crossentropy( Y,  pred))\n",
        "    grads = tape.gradient(current_loss, model.trainable_variables)\n",
        "    optimizer.apply_gradients( zip( grads , model.trainable_variables) )\n",
        "    current_accuracy = tf.reduce_mean(tf.metrics.categorical_accuracy(Y, pred))\n",
        "    return(current_loss, current_accuracy)"
      ],
      "execution_count": 0,
      "outputs": []
    },
    {
      "cell_type": "code",
      "metadata": {
        "id": "Plx4gVDR2sTM",
        "colab_type": "code",
        "outputId": "c16af7bd-2720-461d-d2f5-c28984099739",
        "colab": {
          "base_uri": "https://localhost:8080/",
          "height": 1000
        }
      },
      "source": [
        "niter = 1000\n",
        "\n",
        "tloss = []\n",
        "tacc = []\n",
        "vloss = []\n",
        "vacc = []\n",
        "\n",
        "for it in range(niter):\n",
        "    for image, label in train:\n",
        "        loss, acc = train_step( model , image , tf.one_hot(label,depth=2) ) #run training\n",
        "\n",
        "    if it % 10 is 0: #log training metrics\n",
        "      tf.print('iter: ',it, ', loss: {:.3f}, acc: {:.3f}'.format(loss, acc))\n",
        "      tloss.append(loss)\n",
        "      tacc.append(acc)\n",
        "\n",
        "    if it % 50 is 0: #log validation metrics\n",
        "      for val_image, val_label in valid:\n",
        "        val_pred = model(val_image)\n",
        "        val_loss = tf.reduce_mean(tf.losses.categorical_crossentropy(tf.one_hot(val_label,depth=2) , val_pred))\n",
        "        val_acc = tf.reduce_mean(tf.metrics.categorical_accuracy(tf.one_hot(val_label,depth=2) , val_pred))\n",
        "        tf.print('iter: ',it, ', validation loss: {:.3f}, validation acc: {:.3f}'.format(val_loss, val_acc))\n",
        "        vloss.append(val_loss)\n",
        "        vacc.append(val_acc)\n"
      ],
      "execution_count": 23,
      "outputs": [
        {
          "output_type": "stream",
          "text": [
            "iter:  0 , loss: 0.745, acc: 0.458\n",
            "iter:  0 , validation loss: 0.578, validation acc: 0.750\n",
            "iter:  10 , loss: 0.168, acc: 1.000\n",
            "iter:  20 , loss: 0.049, acc: 1.000\n",
            "iter:  30 , loss: 0.042, acc: 1.000\n",
            "iter:  40 , loss: 0.020, acc: 1.000\n",
            "iter:  50 , loss: 0.023, acc: 1.000\n",
            "iter:  50 , validation loss: 0.038, validation acc: 1.000\n",
            "iter:  60 , loss: 0.013, acc: 1.000\n",
            "iter:  70 , loss: 0.013, acc: 1.000\n",
            "iter:  80 , loss: 0.018, acc: 1.000\n",
            "iter:  90 , loss: 0.012, acc: 1.000\n",
            "iter:  100 , loss: 0.010, acc: 1.000\n",
            "iter:  100 , validation loss: 0.060, validation acc: 1.000\n",
            "iter:  110 , loss: 0.009, acc: 1.000\n",
            "iter:  120 , loss: 0.011, acc: 1.000\n",
            "iter:  130 , loss: 0.005, acc: 1.000\n",
            "iter:  140 , loss: 0.005, acc: 1.000\n",
            "iter:  150 , loss: 0.005, acc: 1.000\n",
            "iter:  150 , validation loss: 0.062, validation acc: 0.958\n",
            "iter:  160 , loss: 0.009, acc: 1.000\n",
            "iter:  170 , loss: 0.004, acc: 1.000\n",
            "iter:  180 , loss: 0.010, acc: 1.000\n",
            "iter:  190 , loss: 0.006, acc: 1.000\n",
            "iter:  200 , loss: 0.005, acc: 1.000\n",
            "iter:  200 , validation loss: 0.035, validation acc: 1.000\n",
            "iter:  210 , loss: 0.005, acc: 1.000\n",
            "iter:  220 , loss: 0.006, acc: 1.000\n",
            "iter:  230 , loss: 0.004, acc: 1.000\n",
            "iter:  240 , loss: 0.005, acc: 1.000\n",
            "iter:  250 , loss: 0.005, acc: 1.000\n",
            "iter:  250 , validation loss: 0.036, validation acc: 1.000\n",
            "iter:  260 , loss: 0.003, acc: 1.000\n",
            "iter:  270 , loss: 0.005, acc: 1.000\n",
            "iter:  280 , loss: 0.004, acc: 1.000\n",
            "iter:  290 , loss: 0.007, acc: 1.000\n",
            "iter:  300 , loss: 0.002, acc: 1.000\n",
            "iter:  300 , validation loss: 0.002, validation acc: 1.000\n",
            "iter:  310 , loss: 0.003, acc: 1.000\n",
            "iter:  320 , loss: 0.001, acc: 1.000\n",
            "iter:  330 , loss: 0.005, acc: 1.000\n",
            "iter:  340 , loss: 0.002, acc: 1.000\n",
            "iter:  350 , loss: 0.003, acc: 1.000\n",
            "iter:  350 , validation loss: 0.031, validation acc: 1.000\n",
            "iter:  360 , loss: 0.002, acc: 1.000\n",
            "iter:  370 , loss: 0.003, acc: 1.000\n",
            "iter:  380 , loss: 0.002, acc: 1.000\n",
            "iter:  390 , loss: 0.002, acc: 1.000\n",
            "iter:  400 , loss: 0.002, acc: 1.000\n",
            "iter:  400 , validation loss: 0.097, validation acc: 0.917\n",
            "iter:  410 , loss: 0.002, acc: 1.000\n",
            "iter:  420 , loss: 0.002, acc: 1.000\n",
            "iter:  430 , loss: 0.003, acc: 1.000\n",
            "iter:  440 , loss: 0.001, acc: 1.000\n",
            "iter:  450 , loss: 0.001, acc: 1.000\n",
            "iter:  450 , validation loss: 0.004, validation acc: 1.000\n",
            "iter:  460 , loss: 0.001, acc: 1.000\n",
            "iter:  470 , loss: 0.001, acc: 1.000\n",
            "iter:  480 , loss: 0.001, acc: 1.000\n",
            "iter:  490 , loss: 0.002, acc: 1.000\n",
            "iter:  500 , loss: 0.001, acc: 1.000\n",
            "iter:  500 , validation loss: 0.036, validation acc: 1.000\n",
            "iter:  510 , loss: 0.002, acc: 1.000\n",
            "iter:  520 , loss: 0.001, acc: 1.000\n",
            "iter:  530 , loss: 0.001, acc: 1.000\n",
            "iter:  540 , loss: 0.002, acc: 1.000\n",
            "iter:  550 , loss: 0.001, acc: 1.000\n",
            "iter:  550 , validation loss: 0.039, validation acc: 0.958\n",
            "iter:  560 , loss: 0.001, acc: 1.000\n",
            "iter:  570 , loss: 0.001, acc: 1.000\n",
            "iter:  580 , loss: 0.003, acc: 1.000\n",
            "iter:  590 , loss: 0.001, acc: 1.000\n",
            "iter:  600 , loss: 0.002, acc: 1.000\n",
            "iter:  600 , validation loss: 0.007, validation acc: 1.000\n",
            "iter:  610 , loss: 0.000, acc: 1.000\n",
            "iter:  620 , loss: 0.001, acc: 1.000\n",
            "iter:  630 , loss: 0.001, acc: 1.000\n",
            "iter:  640 , loss: 0.001, acc: 1.000\n",
            "iter:  650 , loss: 0.001, acc: 1.000\n",
            "iter:  650 , validation loss: 0.051, validation acc: 0.958\n",
            "iter:  660 , loss: 0.001, acc: 1.000\n",
            "iter:  670 , loss: 0.000, acc: 1.000\n",
            "iter:  680 , loss: 0.000, acc: 1.000\n",
            "iter:  690 , loss: 0.000, acc: 1.000\n",
            "iter:  700 , loss: 0.001, acc: 1.000\n",
            "iter:  700 , validation loss: 0.044, validation acc: 0.958\n",
            "iter:  710 , loss: 0.000, acc: 1.000\n",
            "iter:  720 , loss: 0.001, acc: 1.000\n",
            "iter:  730 , loss: 0.000, acc: 1.000\n",
            "iter:  740 , loss: 0.001, acc: 1.000\n",
            "iter:  750 , loss: 0.001, acc: 1.000\n",
            "iter:  750 , validation loss: 0.104, validation acc: 0.917\n",
            "iter:  760 , loss: 0.001, acc: 1.000\n",
            "iter:  770 , loss: 0.000, acc: 1.000\n",
            "iter:  780 , loss: 0.001, acc: 1.000\n",
            "iter:  790 , loss: 0.001, acc: 1.000\n",
            "iter:  800 , loss: 0.000, acc: 1.000\n",
            "iter:  800 , validation loss: 0.013, validation acc: 1.000\n",
            "iter:  810 , loss: 0.000, acc: 1.000\n",
            "iter:  820 , loss: 0.000, acc: 1.000\n",
            "iter:  830 , loss: 0.001, acc: 1.000\n",
            "iter:  840 , loss: 0.001, acc: 1.000\n",
            "iter:  850 , loss: 0.000, acc: 1.000\n",
            "iter:  850 , validation loss: 0.039, validation acc: 1.000\n",
            "iter:  860 , loss: 0.001, acc: 1.000\n",
            "iter:  870 , loss: 0.001, acc: 1.000\n",
            "iter:  880 , loss: 0.000, acc: 1.000\n",
            "iter:  890 , loss: 0.000, acc: 1.000\n",
            "iter:  900 , loss: 0.000, acc: 1.000\n",
            "iter:  900 , validation loss: 0.027, validation acc: 1.000\n",
            "iter:  910 , loss: 0.000, acc: 1.000\n",
            "iter:  920 , loss: 0.000, acc: 1.000\n",
            "iter:  930 , loss: 0.000, acc: 1.000\n",
            "iter:  940 , loss: 0.001, acc: 1.000\n",
            "iter:  950 , loss: 0.001, acc: 1.000\n",
            "iter:  950 , validation loss: 0.042, validation acc: 1.000\n",
            "iter:  960 , loss: 0.000, acc: 1.000\n",
            "iter:  970 , loss: 0.001, acc: 1.000\n",
            "iter:  980 , loss: 0.000, acc: 1.000\n",
            "iter:  990 , loss: 0.000, acc: 1.000\n"
          ],
          "name": "stdout"
        }
      ]
    },
    {
      "cell_type": "markdown",
      "metadata": {
        "id": "xZ8S-XzGK3Ud",
        "colab_type": "text"
      },
      "source": [
        "Plot the metrics. Notice how much better we perform with adding the trained weights. "
      ]
    },
    {
      "cell_type": "code",
      "metadata": {
        "id": "b7X08EMHG4mM",
        "colab_type": "code",
        "outputId": "b19c33cf-94a6-4a83-e093-6bee26dbb412",
        "colab": {
          "base_uri": "https://localhost:8080/",
          "height": 279
        }
      },
      "source": [
        "titers = 10*np.arange(np.shape(tloss)[0])\n",
        "viters = 50*np.arange(np.shape(vloss)[0])\n",
        "\n",
        "plt.plot(titers, tloss, c='black', label='training');\n",
        "plt.plot(viters, vloss, c='r', label='validation');\n",
        "plt.legend();\n",
        "plt.xlabel('iteration');\n",
        "plt.ylabel('loss');"
      ],
      "execution_count": 28,
      "outputs": [
        {
          "output_type": "display_data",
          "data": {
            "image/png": "[encoded data removed]",
            "text/plain": [
              "<Figure size 432x288 with 1 Axes>"
            ]
          },
          "metadata": {
            "tags": []
          }
        }
      ]
    },
    {
      "cell_type": "code",
      "metadata": {
        "id": "xx9iafOoLYV9",
        "colab_type": "code",
        "outputId": "1e369d46-161a-4a63-c143-fbf542acee3b",
        "colab": {
          "base_uri": "https://localhost:8080/",
          "height": 279
        }
      },
      "source": [
        "plt.plot(titers, tacc, c='black', label='training');\n",
        "plt.plot(viters, vacc, c='r', label='validation');\n",
        "plt.legend();\n",
        "plt.xlabel('iteration');\n",
        "plt.ylabel('accuracy');"
      ],
      "execution_count": 29,
      "outputs": [
        {
          "output_type": "display_data",
          "data": {
            "image/png": "[encoded data removed]",
            "text/plain": [
              "<Figure size 432x288 with 1 Axes>"
            ]
          },
          "metadata": {
            "tags": []
          }
        }
      ]
    },
    {
      "cell_type": "markdown",
      "metadata": {
        "id": "qZeVWc9IQ6in",
        "colab_type": "text"
      },
      "source": [
        "# Save weights\n",
        "\n",
        "Lets save the trained weights into hdf5 format"
      ]
    },
    {
      "cell_type": "code",
      "metadata": {
        "id": "6liqAaZZMJ8o",
        "colab_type": "code",
        "colab": {}
      },
      "source": [
        "model.save_weights('/content/gdrive/My Drive/Colab Notebooks/my_weights.hdf5')"
      ],
      "execution_count": 0,
      "outputs": []
    },
    {
      "cell_type": "markdown",
      "metadata": {
        "id": "TW3_npO2RAYW",
        "colab_type": "text"
      },
      "source": [
        "\n",
        "Now we clear the last keras session and make a new model where the mobilenet part is trainable. Note there are millions more trainable parameters but we can set the training rate to a low value."
      ]
    },
    {
      "cell_type": "code",
      "metadata": {
        "id": "2sujirm3Pazj",
        "colab_type": "code",
        "colab": {}
      },
      "source": [
        "tf.keras.backend.clear_session() #Clear keras session"
      ],
      "execution_count": 0,
      "outputs": []
    },
    {
      "cell_type": "markdown",
      "metadata": {
        "id": "zggVICqwRKOJ",
        "colab_type": "text"
      },
      "source": [
        "# Load weights\n",
        "\n",
        "Load previously saved weights onto new model"
      ]
    },
    {
      "cell_type": "code",
      "metadata": {
        "id": "EB42fgPTQZZx",
        "colab_type": "code",
        "outputId": "1b4e1b1f-e414-442c-c89a-2228135796ef",
        "colab": {
          "base_uri": "https://localhost:8080/",
          "height": 289
        }
      },
      "source": [
        "dropoutrate = 0.2\n",
        "num_classes = 2\n",
        "input_shape = [224,224,3]\n",
        "\n",
        "mbnet = tf.keras.applications.MobileNetV2(input_shape=input_shape, include_top=False, weights='imagenet') #We now dont want randomized weights but to load weights from imagenet\n",
        "\n",
        "model = tf.keras.Sequential([\n",
        "  mbnet,\n",
        "  tf.keras.layers.GlobalAveragePooling2D(),\n",
        "  tf.keras.layers.Dropout(dropoutrate),\n",
        "  tf.keras.layers.Dense(num_classes, activation='softmax') \n",
        "])\n",
        "model.build()\n",
        "\n",
        "mbnet.trainable = False # freeze the first layers to the imagenet weights\n",
        "\n",
        "model.summary() # print the model"
      ],
      "execution_count": 32,
      "outputs": [
        {
          "output_type": "stream",
          "text": [
            "Model: \"sequential\"\n",
            "_________________________________________________________________\n",
            "Layer (type)                 Output Shape              Param #   \n",
            "=================================================================\n",
            "mobilenetv2_1.00_224 (Model) (None, 7, 7, 1280)        2257984   \n",
            "_________________________________________________________________\n",
            "global_average_pooling2d (Gl (None, 1280)              0         \n",
            "_________________________________________________________________\n",
            "dropout (Dropout)            (None, 1280)              0         \n",
            "_________________________________________________________________\n",
            "dense (Dense)                (None, 2)                 2562      \n",
            "=================================================================\n",
            "Total params: 2,260,546\n",
            "Trainable params: 2,562\n",
            "Non-trainable params: 2,257,984\n",
            "_________________________________________________________________\n"
          ],
          "name": "stdout"
        }
      ]
    },
    {
      "cell_type": "code",
      "metadata": {
        "id": "G0WZ7Fu1QaqG",
        "colab_type": "code",
        "colab": {}
      },
      "source": [
        "model.load_weights('/content/gdrive/My Drive/Colab Notebooks/my_weights.hdf5')"
      ],
      "execution_count": 0,
      "outputs": []
    },
    {
      "cell_type": "code",
      "metadata": {
        "id": "9QSVELbXU86z",
        "colab_type": "code",
        "outputId": "2dd71e6d-4e46-40f6-d380-70bb2a1a9900",
        "colab": {
          "base_uri": "https://localhost:8080/",
          "height": 289
        }
      },
      "source": [
        "#unfreeze layers \n",
        "mbnet.trainable = True # freeze the first layers to the imagenet weights\n",
        "model.summary()"
      ],
      "execution_count": 34,
      "outputs": [
        {
          "output_type": "stream",
          "text": [
            "Model: \"sequential\"\n",
            "_________________________________________________________________\n",
            "Layer (type)                 Output Shape              Param #   \n",
            "=================================================================\n",
            "mobilenetv2_1.00_224 (Model) (None, 7, 7, 1280)        2257984   \n",
            "_________________________________________________________________\n",
            "global_average_pooling2d (Gl (None, 1280)              0         \n",
            "_________________________________________________________________\n",
            "dropout (Dropout)            (None, 1280)              0         \n",
            "_________________________________________________________________\n",
            "dense (Dense)                (None, 2)                 2562      \n",
            "=================================================================\n",
            "Total params: 2,260,546\n",
            "Trainable params: 2,226,434\n",
            "Non-trainable params: 34,112\n",
            "_________________________________________________________________\n"
          ],
          "name": "stdout"
        }
      ]
    },
    {
      "cell_type": "markdown",
      "metadata": {
        "id": "qtrz1XlTRVxO",
        "colab_type": "text"
      },
      "source": [
        "# Fine tuning\n",
        "Further fine tune the model by training with a smaller learning rate"
      ]
    },
    {
      "cell_type": "code",
      "metadata": {
        "id": "AejogKKtQ0wV",
        "colab_type": "code",
        "colab": {}
      },
      "source": [
        "LR = 0.00001 #learning rate\n",
        "optimizer = tf.optimizers.Adam(LR) #adam optimiser\n",
        "\n",
        "def train_step( model, X , Y):\n",
        "    with tf.GradientTape() as tape:\n",
        "        pred = model( X )\n",
        "        current_loss = tf.reduce_mean(tf.losses.categorical_crossentropy( Y,  pred))\n",
        "    grads = tape.gradient(current_loss, model.trainable_variables)\n",
        "    optimizer.apply_gradients( zip( grads , model.trainable_variables) )\n",
        "    current_accuracy = tf.reduce_mean(tf.metrics.categorical_accuracy(Y, pred))\n",
        "    return(current_loss, current_accuracy)"
      ],
      "execution_count": 0,
      "outputs": []
    },
    {
      "cell_type": "code",
      "metadata": {
        "id": "dlkroDbRRn8O",
        "colab_type": "code",
        "outputId": "29c8a33f-55d7-47eb-f3cc-81d1a9ccac56",
        "colab": {
          "base_uri": "https://localhost:8080/",
          "height": 1000
        }
      },
      "source": [
        "niter = 1000\n",
        "\n",
        "tloss = []\n",
        "tacc = []\n",
        "vloss = []\n",
        "vacc = []\n",
        "\n",
        "for it in range(niter):\n",
        "    for image, label in train:\n",
        "        loss, acc = train_step( model , image , tf.one_hot(label,depth=2) ) #run training\n",
        "\n",
        "    if it % 10 is 0: #log training metrics\n",
        "      tf.print('iter: ',it, ', loss: {:.3f}, acc: {:.3f}'.format(loss, acc))\n",
        "      tloss.append(loss)\n",
        "      tacc.append(acc)\n",
        "\n",
        "    if it % 50 is 0: #log validation metrics\n",
        "      for val_image, val_label in valid:\n",
        "        val_pred = model(val_image)\n",
        "        val_loss = tf.reduce_mean(tf.losses.categorical_crossentropy(tf.one_hot(val_label,depth=2) , val_pred))\n",
        "        val_acc = tf.reduce_mean(tf.metrics.categorical_accuracy(tf.one_hot(val_label,depth=2) , val_pred))\n",
        "        tf.print('iter: ',it, ', validation loss: {:.3f}, validation acc: {:.3f}'.format(val_loss, val_acc))\n",
        "        vloss.append(val_loss)\n",
        "        vacc.append(val_acc)\n"
      ],
      "execution_count": 36,
      "outputs": [
        {
          "output_type": "stream",
          "text": [
            "iter:  0 , loss: 0.001, acc: 1.000\n",
            "iter:  0 , validation loss: 0.008, validation acc: 1.000\n",
            "iter:  10 , loss: 0.000, acc: 1.000\n",
            "iter:  20 , loss: 0.000, acc: 1.000\n",
            "iter:  30 , loss: 0.000, acc: 1.000\n",
            "iter:  40 , loss: 0.000, acc: 1.000\n",
            "iter:  50 , loss: 0.000, acc: 1.000\n",
            "iter:  50 , validation loss: 0.050, validation acc: 1.000\n",
            "iter:  60 , loss: 0.000, acc: 1.000\n",
            "iter:  70 , loss: 0.000, acc: 1.000\n",
            "iter:  80 , loss: 0.000, acc: 1.000\n",
            "iter:  90 , loss: 0.000, acc: 1.000\n",
            "iter:  100 , loss: 0.000, acc: 1.000\n",
            "iter:  100 , validation loss: 0.002, validation acc: 1.000\n",
            "iter:  110 , loss: 0.000, acc: 1.000\n",
            "iter:  120 , loss: 0.000, acc: 1.000\n",
            "iter:  130 , loss: 0.000, acc: 1.000\n",
            "iter:  140 , loss: 0.000, acc: 1.000\n",
            "iter:  150 , loss: 0.000, acc: 1.000\n",
            "iter:  150 , validation loss: 0.001, validation acc: 1.000\n",
            "iter:  160 , loss: 0.000, acc: 1.000\n",
            "iter:  170 , loss: 0.000, acc: 1.000\n",
            "iter:  180 , loss: 0.000, acc: 1.000\n",
            "iter:  190 , loss: 0.000, acc: 1.000\n",
            "iter:  200 , loss: 0.000, acc: 1.000\n",
            "iter:  200 , validation loss: 0.001, validation acc: 1.000\n",
            "iter:  210 , loss: 0.000, acc: 1.000\n",
            "iter:  220 , loss: 0.000, acc: 1.000\n",
            "iter:  230 , loss: 0.000, acc: 1.000\n",
            "iter:  240 , loss: 0.000, acc: 1.000\n",
            "iter:  250 , loss: 0.000, acc: 1.000\n",
            "iter:  250 , validation loss: 0.023, validation acc: 1.000\n",
            "iter:  260 , loss: 0.000, acc: 1.000\n",
            "iter:  270 , loss: 0.000, acc: 1.000\n",
            "iter:  280 , loss: 0.000, acc: 1.000\n",
            "iter:  290 , loss: 0.000, acc: 1.000\n",
            "iter:  300 , loss: 0.000, acc: 1.000\n",
            "iter:  300 , validation loss: 0.000, validation acc: 1.000\n",
            "iter:  310 , loss: 0.000, acc: 1.000\n",
            "iter:  320 , loss: 0.000, acc: 1.000\n",
            "iter:  330 , loss: 0.000, acc: 1.000\n",
            "iter:  340 , loss: 0.000, acc: 1.000\n",
            "iter:  350 , loss: 0.000, acc: 1.000\n",
            "iter:  350 , validation loss: 0.002, validation acc: 1.000\n",
            "iter:  360 , loss: 0.000, acc: 1.000\n",
            "iter:  370 , loss: 0.000, acc: 1.000\n",
            "iter:  380 , loss: 0.000, acc: 1.000\n",
            "iter:  390 , loss: 0.000, acc: 1.000\n",
            "iter:  400 , loss: 0.000, acc: 1.000\n",
            "iter:  400 , validation loss: 0.000, validation acc: 1.000\n",
            "iter:  410 , loss: 0.000, acc: 1.000\n",
            "iter:  420 , loss: 0.000, acc: 1.000\n",
            "iter:  430 , loss: 0.000, acc: 1.000\n",
            "iter:  440 , loss: 0.000, acc: 1.000\n",
            "iter:  450 , loss: 0.000, acc: 1.000\n",
            "iter:  450 , validation loss: 0.000, validation acc: 1.000\n",
            "iter:  460 , loss: 0.000, acc: 1.000\n",
            "iter:  470 , loss: 0.000, acc: 1.000\n",
            "iter:  480 , loss: 0.000, acc: 1.000\n",
            "iter:  490 , loss: 0.000, acc: 1.000\n",
            "iter:  500 , loss: 0.000, acc: 1.000\n",
            "iter:  500 , validation loss: 0.002, validation acc: 1.000\n",
            "iter:  510 , loss: 0.000, acc: 1.000\n",
            "iter:  520 , loss: 0.000, acc: 1.000\n",
            "iter:  530 , loss: 0.000, acc: 1.000\n",
            "iter:  540 , loss: 0.000, acc: 1.000\n",
            "iter:  550 , loss: 0.000, acc: 1.000\n",
            "iter:  550 , validation loss: 0.103, validation acc: 0.958\n",
            "iter:  560 , loss: 0.000, acc: 1.000\n",
            "iter:  570 , loss: 0.000, acc: 1.000\n",
            "iter:  580 , loss: 0.000, acc: 1.000\n",
            "iter:  590 , loss: 0.000, acc: 1.000\n",
            "iter:  600 , loss: 0.000, acc: 1.000\n",
            "iter:  600 , validation loss: 0.000, validation acc: 1.000\n",
            "iter:  610 , loss: 0.000, acc: 1.000\n",
            "iter:  620 , loss: 0.000, acc: 1.000\n",
            "iter:  630 , loss: 0.000, acc: 1.000\n",
            "iter:  640 , loss: 0.000, acc: 1.000\n",
            "iter:  650 , loss: 0.000, acc: 1.000\n",
            "iter:  650 , validation loss: 0.096, validation acc: 0.958\n",
            "iter:  660 , loss: 0.000, acc: 1.000\n",
            "iter:  670 , loss: 0.000, acc: 1.000\n",
            "iter:  680 , loss: 0.000, acc: 1.000\n",
            "iter:  690 , loss: 0.000, acc: 1.000\n",
            "iter:  700 , loss: 0.000, acc: 1.000\n",
            "iter:  700 , validation loss: 0.098, validation acc: 0.958\n",
            "iter:  710 , loss: 0.000, acc: 1.000\n",
            "iter:  720 , loss: 0.000, acc: 1.000\n",
            "iter:  730 , loss: 0.000, acc: 1.000\n",
            "iter:  740 , loss: 0.000, acc: 1.000\n",
            "iter:  750 , loss: 0.000, acc: 1.000\n",
            "iter:  750 , validation loss: 0.092, validation acc: 0.958\n",
            "iter:  760 , loss: 0.000, acc: 1.000\n",
            "iter:  770 , loss: 0.000, acc: 1.000\n",
            "iter:  780 , loss: 0.000, acc: 1.000\n",
            "iter:  790 , loss: 0.000, acc: 1.000\n",
            "iter:  800 , loss: 0.000, acc: 1.000\n",
            "iter:  800 , validation loss: 0.000, validation acc: 1.000\n",
            "iter:  810 , loss: 0.000, acc: 1.000\n",
            "iter:  820 , loss: 0.000, acc: 1.000\n",
            "iter:  830 , loss: 0.000, acc: 1.000\n",
            "iter:  840 , loss: 0.000, acc: 1.000\n",
            "iter:  850 , loss: 0.000, acc: 1.000\n",
            "iter:  850 , validation loss: 0.000, validation acc: 1.000\n",
            "iter:  860 , loss: 0.000, acc: 1.000\n",
            "iter:  870 , loss: 0.000, acc: 1.000\n",
            "iter:  880 , loss: 0.000, acc: 1.000\n",
            "iter:  890 , loss: 0.000, acc: 1.000\n",
            "iter:  900 , loss: 0.000, acc: 1.000\n",
            "iter:  900 , validation loss: 0.001, validation acc: 1.000\n",
            "iter:  910 , loss: 0.000, acc: 1.000\n",
            "iter:  920 , loss: 0.000, acc: 1.000\n",
            "iter:  930 , loss: 0.000, acc: 1.000\n",
            "iter:  940 , loss: 0.000, acc: 1.000\n",
            "iter:  950 , loss: 0.000, acc: 1.000\n",
            "iter:  950 , validation loss: 0.096, validation acc: 0.958\n",
            "iter:  960 , loss: 0.000, acc: 1.000\n",
            "iter:  970 , loss: 0.000, acc: 1.000\n",
            "iter:  980 , loss: 0.000, acc: 1.000\n",
            "iter:  990 , loss: 0.000, acc: 1.000\n"
          ],
          "name": "stdout"
        }
      ]
    },
    {
      "cell_type": "markdown",
      "metadata": {
        "id": "vBG2uFKyHZok",
        "colab_type": "text"
      },
      "source": [
        "# One shot learning \n",
        "\n",
        "In this section we are going to write a siamese network that takes a sentence and classifies it using one shot learning and transferred weights from Googles Universal sentence encoder (USE) from tensor hub (https://tfhub.dev/) which is a hub for pre-trained models\n"
      ]
    },
    {
      "cell_type": "code",
      "metadata": {
        "id": "uSFuQ6RxVHNV",
        "colab_type": "code",
        "outputId": "1889216c-df4e-48bb-f467-bb95047f8416",
        "colab": {
          "base_uri": "https://localhost:8080/",
          "height": 34
        }
      },
      "source": [
        "# load the pre-trained model\n",
        "module_url = \"https://tfhub.dev/google/universal-sentence-encoder-large/5\" \n",
        "USE = hub.load(module_url)\n",
        "print (\"module %s loaded\" % module_url)"
      ],
      "execution_count": 37,
      "outputs": [
        {
          "output_type": "stream",
          "text": [
            "module https://tfhub.dev/google/universal-sentence-encoder-large/5 loaded\n"
          ],
          "name": "stdout"
        }
      ]
    },
    {
      "cell_type": "markdown",
      "metadata": {
        "id": "couQjEtjWnES",
        "colab_type": "text"
      },
      "source": [
        "The USE model, encodes words, sentences and paragraphs as a 512 size embedding. "
      ]
    },
    {
      "cell_type": "code",
      "metadata": {
        "id": "yKEGKO-OJZ4R",
        "colab_type": "code",
        "outputId": "4c3e36c9-22ed-4c8e-fb26-25cbcf45a76d",
        "colab": {
          "base_uri": "https://localhost:8080/",
          "height": 241
        }
      },
      "source": [
        "word = \"Elephant\"\n",
        "sentence = \"Machine learning in science is fun.\"\n",
        "paragraph = (\n",
        "    \"Transfer learning is when we take domain knowledge and apply it to another problem. \"\n",
        "    \"Here we will encode a paragraph, there's not limit to size but larger  \"\n",
        "    \"paragraphs have more diluted embeddings.\")\n",
        "messages = [word, sentence, paragraph]\n",
        "\n",
        "\n",
        "message_embeddings = USE(messages)\n",
        "\n",
        "for i, message_embedding in enumerate(np.array(message_embeddings).tolist()):\n",
        "  print(\"Message: {}\".format(messages[i]))\n",
        "  print(\"Embedding size: {}\".format(len(message_embedding)))\n",
        "  message_embedding_snippet = \", \".join(\n",
        "      (str(x) for x in message_embedding[:3]))\n",
        "  print(\"Embedding: [{}, ...]\\n\".format(message_embedding_snippet))"
      ],
      "execution_count": 38,
      "outputs": [
        {
          "output_type": "stream",
          "text": [
            "Message: Elephant\n",
            "Embedding size: 512\n",
            "Embedding: [-0.0345856174826622, -0.0179901123046875, 0.0019805775955319405, ...]\n",
            "\n",
            "Message: Machine learning in science is fun.\n",
            "Embedding size: 512\n",
            "Embedding: [0.08318386226892471, -0.05488215386867523, 0.06341148167848587, ...]\n",
            "\n",
            "Message: Transfer learning is when we take domain knowledge and apply it to another problem. Here we will encode a paragraph, there's not limit to size but larger  paragraphs have more diluted embeddings.\n",
            "Embedding size: 512\n",
            "Embedding: [0.05429772660136223, -0.04880339279770851, -0.014501828700304031, ...]\n",
            "\n"
          ],
          "name": "stdout"
        }
      ]
    },
    {
      "cell_type": "markdown",
      "metadata": {
        "id": "PLsNULMjttQa",
        "colab_type": "text"
      },
      "source": [
        "The simplest model we can build is to apply the pre-trained model to pairs of sentences and apply the inner produce to get the similarity of the encodings. Let's make a dataset of sentences and see how the pre-trained model performs."
      ]
    },
    {
      "cell_type": "code",
      "metadata": {
        "id": "1ZqfdVJ9YezW",
        "colab_type": "code",
        "colab": {}
      },
      "source": [
        "my_sentences = [\n",
        "    # Weather \n",
        "    \"The weather is lovely today.\",\n",
        "    \"It's going to be sunny later\",\n",
        "    \"The weather forcast is nice\",\n",
        "\n",
        "    # Questions\n",
        "    \"What is your dog called?\",\n",
        "    \"What is your puppies name?\",\n",
        "\n",
        "    # Food \n",
        "    \"Apples are delicious\",\n",
        "    \"I like to eat pears\",\n",
        "    \"I love the taste of peaches\",\n",
        "     \n",
        "     # cars AI\n",
        "    \"Autonomous vehicles use machine learning algorithms.\",\n",
        "    \"Self-driving cars are AI technology.\" \n",
        "]"
      ],
      "execution_count": 0,
      "outputs": []
    },
    {
      "cell_type": "code",
      "metadata": {
        "id": "AMMrZtAXcWV8",
        "colab_type": "code",
        "outputId": "e311da9a-f657-433f-b318-8cca8d342627",
        "colab": {
          "base_uri": "https://localhost:8080/",
          "height": 569
        }
      },
      "source": [
        "features = USE(my_sentences); # apply pre-trained USE model on each sentence\n",
        "corr = np.inner(features, features); #calculate inner product \n",
        "\n",
        "#plot correlations\n",
        "sns.set(font_scale=1);\n",
        "g = sns.heatmap(\n",
        "  corr,\n",
        "  xticklabels=my_sentences,\n",
        "  yticklabels=my_sentences,\n",
        "  vmin=0,\n",
        "  vmax=1);\n",
        "g.set_xticklabels(my_sentences, rotation=90);"
      ],
      "execution_count": 40,
      "outputs": [
        {
          "output_type": "display_data",
          "data": {
            "image/png": "[encoded data removed]",
            "text/plain": [
              "<Figure size 432x288 with 2 Axes>"
            ]
          },
          "metadata": {
            "tags": []
          }
        }
      ]
    },
    {
      "cell_type": "markdown",
      "metadata": {
        "id": "7Lx6TwKJuVw7",
        "colab_type": "text"
      },
      "source": [
        "As you can see in the plot, where pixels values of 1 correspond to high correlation and 0 to no correlation, just taking the pre-trained model we get good correlation along the diagonal and clusters of high correlation around the groups of sentences that are related. "
      ]
    },
    {
      "cell_type": "markdown",
      "metadata": {
        "id": "MKO6r0j4XSjI",
        "colab_type": "text"
      },
      "source": [
        "Now let's code a siamese network model, as a feature extraction to see if we can improve the correlations.  First we make a dataset of pairs of sentences, and we will define a label for it of 1 if the pair is similar and 0 if they are not similar. To do this we make a training data set by randomly sampling pairs of x, and if their labels are the same (same group) then the similarity label will be 1, and otherwise the label is 0.\n",
        "\n"
      ]
    },
    {
      "cell_type": "code",
      "metadata": {
        "id": "81MJ8PldvGN6",
        "colab_type": "code",
        "colab": {}
      },
      "source": [
        "X = np.array([\"The weather is nice.\",\n",
        "     \"It's sunny.\",\n",
        "     \"Today the weather is sunny\",\n",
        "     \"Later the forecast is lovely\",\n",
        "     \n",
        "     \"What's the dog's name?\",\n",
        "     \"What do you call the dog?\",\n",
        "     \"What are the puppies called?\",\n",
        "     \n",
        "     \"Apples are delectable\",\n",
        "     \"I think oranges are yummy\", \n",
        "     \"Pears are soo good\",\n",
        "     \"Plums are delicious\",\n",
        "     \n",
        "     \"automobiles are now autonomous\",\n",
        "     \"Many cabs are becoming self-driving\",\n",
        "     \"car are intelligent\"\n",
        "])\n",
        "\n",
        "Y = np.array([1,1,1,1,2,2,2,3,3,3,3,4,4,4])"
      ],
      "execution_count": 0,
      "outputs": []
    },
    {
      "cell_type": "code",
      "metadata": {
        "id": "V8HSxcZmwG6E",
        "colab_type": "code",
        "colab": {}
      },
      "source": [
        "xloc = [random.randint(0,13) for i in range(0,59)] #our data set will consist of 60 pairs of sentences (x,y) with labels\n",
        "yloc = [random.randint(0,13) for i in range(0,59)]\n",
        "x = X[xloc]\n",
        "y = X[yloc]\n",
        "labels = np.equal(Y[xloc],Y[yloc]).astype('int')"
      ],
      "execution_count": 0,
      "outputs": []
    },
    {
      "cell_type": "code",
      "metadata": {
        "id": "6cq7tl_1wIkj",
        "colab_type": "code",
        "colab": {
          "base_uri": "https://localhost:8080/",
          "height": 340
        },
        "outputId": "48cce9eb-6dd6-40b6-c266-1a8f45d6c577"
      },
      "source": [
        "#print 20 examples of extracted pairs and labels \n",
        "[print(x[i],' ', y[i],' ', labels[i]) for i in np.arange(19)];"
      ],
      "execution_count": 48,
      "outputs": [
        {
          "output_type": "stream",
          "text": [
            "I think oranges are yummy   What's the dog's name?   0\n",
            "The weather is nice.   The weather is nice.   1\n",
            "Apples are delectable   Pears are soo good   1\n",
            "Apples are delectable   It's sunny.   0\n",
            "Later the forecast is lovely   What are the puppies called?   0\n",
            "car are intelligent   Later the forecast is lovely   0\n",
            "car are intelligent   It's sunny.   0\n",
            "automobiles are now autonomous   What are the puppies called?   0\n",
            "Pears are soo good   Today the weather is sunny   0\n",
            "I think oranges are yummy   Later the forecast is lovely   0\n",
            "automobiles are now autonomous   Apples are delectable   0\n",
            "Today the weather is sunny   What do you call the dog?   0\n",
            "Many cabs are becoming self-driving   What do you call the dog?   0\n",
            "The weather is nice.   I think oranges are yummy   0\n",
            "What's the dog's name?   What do you call the dog?   1\n",
            "It's sunny.   What do you call the dog?   0\n",
            "I think oranges are yummy   What's the dog's name?   0\n",
            "It's sunny.   I think oranges are yummy   0\n",
            "What's the dog's name?   Pears are soo good   0\n"
          ],
          "name": "stdout"
        }
      ]
    },
    {
      "cell_type": "markdown",
      "metadata": {
        "id": "9-CKYQ6uGuCV",
        "colab_type": "text"
      },
      "source": [
        "We write a siamese neural network that consists of 2 USE blocks that read in each of the pairs and applies the USE network to get the encoding. Then, we add a L1 difference layer and a sigmoid activation layer "
      ]
    },
    {
      "cell_type": "code",
      "metadata": {
        "id": "cRORRlB86Iqd",
        "colab_type": "code",
        "colab": {}
      },
      "source": [
        "tf.keras.backend.clear_session() #Clear keras session"
      ],
      "execution_count": 0,
      "outputs": []
    },
    {
      "cell_type": "code",
      "metadata": {
        "id": "dcj1zoYS6Lk6",
        "colab_type": "code",
        "colab": {}
      },
      "source": [
        "input1 = tf.keras.layers.Input(shape=[],name='input1', dtype=tf.string)\n",
        "input2 = tf.keras.layers.Input(shape=[],name='input2', dtype=tf.string)\n",
        "\n",
        "# Parallel USE layers\n",
        "embedding_layer = hub.KerasLayer(module_url, dtype=tf.string)\n",
        "embedding1 = embedding_layer(input1)\n",
        "embedding2 = embedding_layer(input2)\n",
        "  \n",
        "# L1 difference between the embedding outputs from the USE layers\n",
        "L1_layer = tf.keras.layers.Lambda(lambda x:tf.math.abs(x[0] - x[1]))\n",
        "L1_distance = L1_layer([embedding1, embedding2])\n",
        "\n",
        "# Final fully connected layer with sigmoid so output is between 0-1\n",
        "Dense_layer = tf.keras.layers.Dense(1, activation='sigmoid')(L1_distance)\n",
        "\n",
        "model = tf.keras.Model(inputs=[input1,input2], outputs=Dense_layer)"
      ],
      "execution_count": 0,
      "outputs": []
    },
    {
      "cell_type": "code",
      "metadata": {
        "id": "rfgXZJrX6QN7",
        "colab_type": "code",
        "outputId": "7cd1995c-6cd2-4a62-a2b9-339e817e2304",
        "colab": {
          "base_uri": "https://localhost:8080/",
          "height": 357
        }
      },
      "source": [
        "model.summary() #Note that the USE layers have no trainable parameters whereas the FC layer does. "
      ],
      "execution_count": 51,
      "outputs": [
        {
          "output_type": "stream",
          "text": [
            "Model: \"model\"\n",
            "__________________________________________________________________________________________________\n",
            "Layer (type)                    Output Shape         Param #     Connected to                     \n",
            "==================================================================================================\n",
            "input1 (InputLayer)             [(None,)]            0                                            \n",
            "__________________________________________________________________________________________________\n",
            "input2 (InputLayer)             [(None,)]            0                                            \n",
            "__________________________________________________________________________________________________\n",
            "keras_layer (KerasLayer)        (None, 512)          147354880   input1[0][0]                     \n",
            "                                                                 input2[0][0]                     \n",
            "__________________________________________________________________________________________________\n",
            "lambda (Lambda)                 (None, 512)          0           keras_layer[0][0]                \n",
            "                                                                 keras_layer[1][0]                \n",
            "__________________________________________________________________________________________________\n",
            "dense (Dense)                   (None, 1)            513         lambda[0][0]                     \n",
            "==================================================================================================\n",
            "Total params: 147,355,393\n",
            "Trainable params: 513\n",
            "Non-trainable params: 147,354,880\n",
            "__________________________________________________________________________________________________\n"
          ],
          "name": "stdout"
        }
      ]
    },
    {
      "cell_type": "markdown",
      "metadata": {
        "id": "lnHg4G5AHZoh",
        "colab_type": "text"
      },
      "source": [
        "Compile and fit the networks. "
      ]
    },
    {
      "cell_type": "code",
      "metadata": {
        "id": "wi3qwOgO6W2S",
        "colab_type": "code",
        "colab": {}
      },
      "source": [
        "model.compile(optimizer='Adam', loss='binary_crossentropy', metrics=None, loss_weights=None, sample_weight_mode=None, weighted_metrics=None, target_tensors=None)"
      ],
      "execution_count": 0,
      "outputs": []
    },
    {
      "cell_type": "code",
      "metadata": {
        "id": "H1r0sM887ORE",
        "colab_type": "code",
        "outputId": "4308799e-e418-47d3-d277-5f8837bab8c8",
        "colab": {
          "base_uri": "https://localhost:8080/",
          "height": 1000
        }
      },
      "source": [
        "model.fit(x={'input1':np.array(x), 'input2':np.array(y)}, y=np.array(labels), batch_size=5, epochs=100, verbose=1, callbacks=None, validation_split=0.0, validation_data=None, shuffle=True, class_weight=None, sample_weight=None, initial_epoch=0, steps_per_epoch=None, validation_steps=None, validation_freq=1, max_queue_size=10, workers=1, use_multiprocessing=False)\n"
      ],
      "execution_count": 53,
      "outputs": [
        {
          "output_type": "stream",
          "text": [
            "Train on 59 samples\n",
            "Epoch 1/100\n",
            "59/59 [==============================] - 28s 473ms/sample - loss: 0.6290\n",
            "Epoch 2/100\n",
            "59/59 [==============================] - 1s 9ms/sample - loss: 0.5502\n",
            "Epoch 3/100\n",
            "59/59 [==============================] - 0s 7ms/sample - loss: 0.4895\n",
            "Epoch 4/100\n",
            "59/59 [==============================] - 0s 8ms/sample - loss: 0.4412\n",
            "Epoch 5/100\n",
            "59/59 [==============================] - 0s 7ms/sample - loss: 0.4090\n",
            "Epoch 6/100\n",
            "59/59 [==============================] - 0s 7ms/sample - loss: 0.3839\n",
            "Epoch 7/100\n",
            "59/59 [==============================] - 0s 7ms/sample - loss: 0.3659\n",
            "Epoch 8/100\n",
            "59/59 [==============================] - 0s 7ms/sample - loss: 0.3531\n",
            "Epoch 9/100\n",
            "59/59 [==============================] - 0s 8ms/sample - loss: 0.3427\n",
            "Epoch 10/100\n",
            "59/59 [==============================] - 0s 7ms/sample - loss: 0.3355\n",
            "Epoch 11/100\n",
            "59/59 [==============================] - 1s 9ms/sample - loss: 0.3291\n",
            "Epoch 12/100\n",
            "59/59 [==============================] - 0s 8ms/sample - loss: 0.3237\n",
            "Epoch 13/100\n",
            "59/59 [==============================] - 0s 8ms/sample - loss: 0.3210\n",
            "Epoch 14/100\n",
            "59/59 [==============================] - 0s 8ms/sample - loss: 0.3160\n",
            "Epoch 15/100\n",
            "59/59 [==============================] - 0s 7ms/sample - loss: 0.3133\n",
            "Epoch 16/100\n",
            "59/59 [==============================] - 0s 7ms/sample - loss: 0.3105\n",
            "Epoch 17/100\n",
            "59/59 [==============================] - 0s 8ms/sample - loss: 0.3079\n",
            "Epoch 18/100\n",
            "59/59 [==============================] - 1s 9ms/sample - loss: 0.3055\n",
            "Epoch 19/100\n",
            "59/59 [==============================] - 0s 8ms/sample - loss: 0.3032\n",
            "Epoch 20/100\n",
            "59/59 [==============================] - 1s 9ms/sample - loss: 0.3013\n",
            "Epoch 21/100\n",
            "59/59 [==============================] - 0s 7ms/sample - loss: 0.2992\n",
            "Epoch 22/100\n",
            "59/59 [==============================] - 0s 7ms/sample - loss: 0.2975\n",
            "Epoch 23/100\n",
            "59/59 [==============================] - 0s 8ms/sample - loss: 0.2955\n",
            "Epoch 24/100\n",
            "59/59 [==============================] - 0s 8ms/sample - loss: 0.2945\n",
            "Epoch 25/100\n",
            "59/59 [==============================] - 0s 8ms/sample - loss: 0.2916\n",
            "Epoch 26/100\n",
            "59/59 [==============================] - 0s 8ms/sample - loss: 0.2900\n",
            "Epoch 27/100\n",
            "59/59 [==============================] - 0s 8ms/sample - loss: 0.2884\n",
            "Epoch 28/100\n",
            "59/59 [==============================] - 0s 7ms/sample - loss: 0.2867\n",
            "Epoch 29/100\n",
            "59/59 [==============================] - 0s 8ms/sample - loss: 0.2848\n",
            "Epoch 30/100\n",
            "59/59 [==============================] - 0s 8ms/sample - loss: 0.2830\n",
            "Epoch 31/100\n",
            "59/59 [==============================] - 0s 7ms/sample - loss: 0.2813\n",
            "Epoch 32/100\n",
            "59/59 [==============================] - 0s 8ms/sample - loss: 0.2799\n",
            "Epoch 33/100\n",
            "59/59 [==============================] - 1s 9ms/sample - loss: 0.2777\n",
            "Epoch 34/100\n",
            "59/59 [==============================] - 1s 9ms/sample - loss: 0.2761\n",
            "Epoch 35/100\n",
            "59/59 [==============================] - 0s 7ms/sample - loss: 0.2746\n",
            "Epoch 36/100\n",
            "59/59 [==============================] - 0s 8ms/sample - loss: 0.2725\n",
            "Epoch 37/100\n",
            "59/59 [==============================] - 1s 9ms/sample - loss: 0.2708\n",
            "Epoch 38/100\n",
            "59/59 [==============================] - 1s 9ms/sample - loss: 0.2692\n",
            "Epoch 39/100\n",
            "59/59 [==============================] - 0s 8ms/sample - loss: 0.2673\n",
            "Epoch 40/100\n",
            "59/59 [==============================] - 1s 9ms/sample - loss: 0.2657\n",
            "Epoch 41/100\n",
            "59/59 [==============================] - 0s 7ms/sample - loss: 0.2639\n",
            "Epoch 42/100\n",
            "59/59 [==============================] - 0s 7ms/sample - loss: 0.2622\n",
            "Epoch 43/100\n",
            "59/59 [==============================] - 0s 8ms/sample - loss: 0.2605\n",
            "Epoch 44/100\n",
            "59/59 [==============================] - 0s 7ms/sample - loss: 0.2588\n",
            "Epoch 45/100\n",
            "59/59 [==============================] - 0s 7ms/sample - loss: 0.2578\n",
            "Epoch 46/100\n",
            "59/59 [==============================] - 0s 8ms/sample - loss: 0.2551\n",
            "Epoch 47/100\n",
            "59/59 [==============================] - 0s 8ms/sample - loss: 0.2533\n",
            "Epoch 48/100\n",
            "59/59 [==============================] - 0s 8ms/sample - loss: 0.2518\n",
            "Epoch 49/100\n",
            "59/59 [==============================] - 0s 7ms/sample - loss: 0.2500\n",
            "Epoch 50/100\n",
            "59/59 [==============================] - 0s 7ms/sample - loss: 0.2484\n",
            "Epoch 51/100\n",
            "59/59 [==============================] - 0s 7ms/sample - loss: 0.2467\n",
            "Epoch 52/100\n",
            "59/59 [==============================] - 0s 7ms/sample - loss: 0.2450\n",
            "Epoch 53/100\n",
            "59/59 [==============================] - 0s 7ms/sample - loss: 0.2433\n",
            "Epoch 54/100\n",
            "59/59 [==============================] - 0s 7ms/sample - loss: 0.2424\n",
            "Epoch 55/100\n",
            "59/59 [==============================] - 1s 9ms/sample - loss: 0.2399\n",
            "Epoch 56/100\n",
            "59/59 [==============================] - 1s 9ms/sample - loss: 0.2383\n",
            "Epoch 57/100\n",
            "59/59 [==============================] - 0s 8ms/sample - loss: 0.2367\n",
            "Epoch 58/100\n",
            "59/59 [==============================] - 1s 9ms/sample - loss: 0.2348\n",
            "Epoch 59/100\n",
            "59/59 [==============================] - 0s 8ms/sample - loss: 0.2332\n",
            "Epoch 60/100\n",
            "59/59 [==============================] - 0s 8ms/sample - loss: 0.2318\n",
            "Epoch 61/100\n",
            "59/59 [==============================] - 0s 8ms/sample - loss: 0.2301\n",
            "Epoch 62/100\n",
            "59/59 [==============================] - 1s 10ms/sample - loss: 0.2284\n",
            "Epoch 63/100\n",
            "59/59 [==============================] - 1s 9ms/sample - loss: 0.2270\n",
            "Epoch 64/100\n",
            "59/59 [==============================] - 1s 8ms/sample - loss: 0.2253\n",
            "Epoch 65/100\n",
            "59/59 [==============================] - 0s 7ms/sample - loss: 0.2237\n",
            "Epoch 66/100\n",
            "59/59 [==============================] - 1s 9ms/sample - loss: 0.2221\n",
            "Epoch 67/100\n",
            "59/59 [==============================] - 0s 8ms/sample - loss: 0.2205\n",
            "Epoch 68/100\n",
            "59/59 [==============================] - 0s 8ms/sample - loss: 0.2188\n",
            "Epoch 69/100\n",
            "59/59 [==============================] - 0s 6ms/sample - loss: 0.2174\n",
            "Epoch 70/100\n",
            "59/59 [==============================] - 0s 8ms/sample - loss: 0.2158\n",
            "Epoch 71/100\n",
            "59/59 [==============================] - 0s 8ms/sample - loss: 0.2142\n",
            "Epoch 72/100\n",
            "59/59 [==============================] - 0s 7ms/sample - loss: 0.2127\n",
            "Epoch 73/100\n",
            "59/59 [==============================] - 0s 8ms/sample - loss: 0.2112\n",
            "Epoch 74/100\n",
            "59/59 [==============================] - 0s 7ms/sample - loss: 0.2096\n",
            "Epoch 75/100\n",
            "59/59 [==============================] - 0s 8ms/sample - loss: 0.2083\n",
            "Epoch 76/100\n",
            "59/59 [==============================] - 0s 7ms/sample - loss: 0.2065\n",
            "Epoch 77/100\n",
            "59/59 [==============================] - 1s 9ms/sample - loss: 0.2051\n",
            "Epoch 78/100\n",
            "59/59 [==============================] - 0s 7ms/sample - loss: 0.2038\n",
            "Epoch 79/100\n",
            "59/59 [==============================] - 0s 7ms/sample - loss: 0.2023\n",
            "Epoch 80/100\n",
            "59/59 [==============================] - 0s 8ms/sample - loss: 0.2008\n",
            "Epoch 81/100\n",
            "59/59 [==============================] - 0s 6ms/sample - loss: 0.1993\n",
            "Epoch 82/100\n",
            "59/59 [==============================] - 0s 8ms/sample - loss: 0.1978\n",
            "Epoch 83/100\n",
            "59/59 [==============================] - 0s 7ms/sample - loss: 0.1963\n",
            "Epoch 84/100\n",
            "59/59 [==============================] - 0s 8ms/sample - loss: 0.1952\n",
            "Epoch 85/100\n",
            "59/59 [==============================] - 1s 9ms/sample - loss: 0.1935\n",
            "Epoch 86/100\n",
            "59/59 [==============================] - 1s 8ms/sample - loss: 0.1921\n",
            "Epoch 87/100\n",
            "59/59 [==============================] - 0s 7ms/sample - loss: 0.1907\n",
            "Epoch 88/100\n",
            "59/59 [==============================] - 0s 6ms/sample - loss: 0.1897\n",
            "Epoch 89/100\n",
            "59/59 [==============================] - 0s 8ms/sample - loss: 0.1884\n",
            "Epoch 90/100\n",
            "59/59 [==============================] - 0s 8ms/sample - loss: 0.1865\n",
            "Epoch 91/100\n",
            "59/59 [==============================] - 1s 9ms/sample - loss: 0.1851\n",
            "Epoch 92/100\n",
            "59/59 [==============================] - 0s 7ms/sample - loss: 0.1838\n",
            "Epoch 93/100\n",
            "59/59 [==============================] - 0s 8ms/sample - loss: 0.1824\n",
            "Epoch 94/100\n",
            "59/59 [==============================] - 0s 7ms/sample - loss: 0.1811\n",
            "Epoch 95/100\n",
            "59/59 [==============================] - 0s 6ms/sample - loss: 0.1800\n",
            "Epoch 96/100\n",
            "59/59 [==============================] - 0s 8ms/sample - loss: 0.1785\n",
            "Epoch 97/100\n",
            "59/59 [==============================] - 0s 8ms/sample - loss: 0.1774\n",
            "Epoch 98/100\n",
            "59/59 [==============================] - 0s 8ms/sample - loss: 0.1761\n",
            "Epoch 99/100\n",
            "59/59 [==============================] - 0s 8ms/sample - loss: 0.1749\n",
            "Epoch 100/100\n",
            "59/59 [==============================] - 0s 8ms/sample - loss: 0.1734\n"
          ],
          "name": "stdout"
        },
        {
          "output_type": "execute_result",
          "data": {
            "text/plain": [
              "<tensorflow.python.keras.callbacks.History at 0x7fc86de68160>"
            ]
          },
          "metadata": {
            "tags": []
          },
          "execution_count": 53
        }
      ]
    },
    {
      "cell_type": "markdown",
      "metadata": {
        "id": "_1w_C5_mHkod",
        "colab_type": "text"
      },
      "source": [
        "Get the similarities between sentences in my_sentences using the newly trained model."
      ]
    },
    {
      "cell_type": "code",
      "metadata": {
        "id": "E3NuMP_RAgOA",
        "colab_type": "code",
        "colab": {}
      },
      "source": [
        "features = [model.predict({'input1':np.array([ix]), 'input2':np.array([iy])})[0][0] for ix in my_sentences for iy in my_sentences]"
      ],
      "execution_count": 0,
      "outputs": []
    },
    {
      "cell_type": "markdown",
      "metadata": {
        "id": "uqdEpYhFHwsx",
        "colab_type": "text"
      },
      "source": [
        "Reshape the similarity values and plot correlation matrix"
      ]
    },
    {
      "cell_type": "code",
      "metadata": {
        "id": "QfNyVZIdA7WT",
        "colab_type": "code",
        "colab": {}
      },
      "source": [
        "corr = np.reshape(features, (10,10))"
      ],
      "execution_count": 0,
      "outputs": []
    },
    {
      "cell_type": "code",
      "metadata": {
        "id": "8EmQzD9CCA4S",
        "colab_type": "code",
        "outputId": "a12fa530-4e4f-474d-cb57-b30e8c3dda58",
        "colab": {
          "base_uri": "https://localhost:8080/",
          "height": 569
        }
      },
      "source": [
        "g = sns.heatmap(\n",
        "  corr,\n",
        "  xticklabels=my_sentences,\n",
        "  yticklabels=my_sentences,\n",
        "  vmin=0,\n",
        "  vmax=1);\n",
        "g.set_xticklabels(my_sentences, rotation=90);"
      ],
      "execution_count": 56,
      "outputs": [
        {
          "output_type": "display_data",
          "data": {
            "image/png": "[encoded data removed]",
            "text/plain": [
              "<Figure size 432x288 with 2 Axes>"
            ]
          },
          "metadata": {
            "tags": []
          }
        }
      ]
    },
    {
      "cell_type": "markdown",
      "metadata": {
        "id": "XMtKLPQqFOTy",
        "colab_type": "text"
      },
      "source": [
        "As you can see, even with as small as 60 training samples, we are able to improve the correlation between related sentences even though these sentences have never been seen by the network before. Fine-tuning could help here, and using a categorical cross entropy loss would be better to split up the different sentence groups."
      ]
    }
  ]
}